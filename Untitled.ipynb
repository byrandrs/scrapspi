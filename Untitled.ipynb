{
 "cells": [
  {
   "cell_type": "code",
   "execution_count": 5,
   "id": "075a1257",
   "metadata": {},
   "outputs": [],
   "source": [
    "html=request.urlopen(url).read()"
   ]
  },
  {
   "cell_type": "code",
   "execution_count": null,
   "id": "101a8b32",
   "metadata": {},
   "outputs": [],
   "source": [
    "response=requests.get(url)\n",
    "publicaciones = json.loads(response.text)"
   ]
  },
  {
   "cell_type": "code",
   "execution_count": null,
   "id": "75c1196d",
   "metadata": {
    "scrolled": true
   },
   "outputs": [],
   "source": [
    "html=request.urlopen(url).read()\n",
    "publicaciones = json.loads(html)"
   ]
  },
  {
   "cell_type": "code",
   "execution_count": null,
   "id": "d9f3023c",
   "metadata": {
    "scrolled": false
   },
   "outputs": [],
   "source": [
    "html"
   ]
  },
  {
   "cell_type": "code",
   "execution_count": 1,
   "id": "f08e6705",
   "metadata": {},
   "outputs": [],
   "source": [
    "import time\n",
    "from selenium import webdriver\n",
    "from selenium.webdriver.support.ui import Select\n",
    "from bs4 import BeautifulSoup as bs\n",
    "from urllib import request\n",
    "import requests"
   ]
  },
  {
   "cell_type": "code",
   "execution_count": 2,
   "id": "f741362c",
   "metadata": {
    "scrolled": true
   },
   "outputs": [
    {
     "name": "stderr",
     "output_type": "stream",
     "text": [
      "/tmp/ipykernel_39021/1976057954.py:2: DeprecationWarning: executable_path has been deprecated, please pass in a Service object\n",
      "  driver = webdriver.Chrome('./chromedriver')\n"
     ]
    }
   ],
   "source": [
    "url=\"https://sts.dnp.gov.co/login.aspx?ReturnUrl=%2f%3fwa%3dwsignin1.0%26wtrealm%3dhttps%253a%252f%252fspi.dnp.gov.co%252f%26wctx%3drm%253d0%2526id%253dpassive%2526ru%253d%25252f%26wct%3d2022-12-07T16%253a46%253a59Z&wa=wsignin1.0&wtrealm=https%3a%2f%2fspi.dnp.gov.co%2f&wctx=rm%3d0%26id%3dpassive%26ru%3d%252f&wct=2022-12-07T16%3a46%3a59Z\"\n",
    "driver = webdriver.Chrome('./chromedriver')\n",
    "driver.get(url)"
   ]
  },
  {
   "cell_type": "code",
   "execution_count": 3,
   "id": "cda57d4e",
   "metadata": {},
   "outputs": [],
   "source": [
    "btn_user_ano=driver.find_element(\"xpath\",'//*[@id=\"linkAnonymousUser\"]')\n",
    "btn_user_ano.click()\n",
    "time.sleep(5)\n",
    "btn_consulta=driver.find_element(\"xpath\",'//*[@id=\"MenuSuperior2_Repeater1_Label1_0\"]')\n",
    "btn_consulta.click()"
   ]
  },
  {
   "cell_type": "code",
   "execution_count": 15,
   "id": "39f7aa64",
   "metadata": {},
   "outputs": [],
   "source": [
    "btn_consulta=driver.find_element(\"xpath\",'//*[@id=\"MenuSuperior2_Repeater1_Label1_0\"]')\n",
    "btn_consulta.click()"
   ]
  },
  {
   "cell_type": "code",
   "execution_count": 17,
   "id": "e9dbfc80",
   "metadata": {},
   "outputs": [],
   "source": [
    "btn_entidad=driver.find_element(\"xpath\",'//*[@id=\"Menu1_Repeater1_Label1_2\"]')\n",
    "btn_entidad.click()"
   ]
  },
  {
   "cell_type": "code",
   "execution_count": 18,
   "id": "f757cdcd",
   "metadata": {},
   "outputs": [],
   "source": [
    "btn_porentidad=driver.find_element(\"xpath\",'//*[@id=\"Menu1_Repeater1_Repeater2_2_HyperLink1_0\"]')\n",
    "btn_porentidad.click()"
   ]
  },
  {
   "cell_type": "code",
   "execution_count": 20,
   "id": "9110b8e8",
   "metadata": {},
   "outputs": [],
   "source": []
  },
  {
   "cell_type": "code",
   "execution_count": 104,
   "id": "4a456422",
   "metadata": {},
   "outputs": [],
   "source": [
    "select = Select(driver.find_element(\"xpath\",'//*[@id=\"ContentPlaceHolder1_cboSector\"]'))\n",
    "select.select_by_visible_text(\"Registraduría\")\n",
    "time.sleep(5)\n"
   ]
  },
  {
   "cell_type": "code",
   "execution_count": 105,
   "id": "2f048514",
   "metadata": {},
   "outputs": [],
   "source": [
    "select1=Select(driver.find_element(\"xpath\",'//*[@id=\"ContentPlaceHolder1_cboEntidad\"]'))\n",
    "select1.select_by_visible_text(\"FONREGISTRADURIA - FONDO ROTATORIO DE LA REGISTRADURIA\")"
   ]
  },
  {
   "cell_type": "code",
   "execution_count": 29,
   "id": "4c9b17e5",
   "metadata": {},
   "outputs": [],
   "source": []
  },
  {
   "cell_type": "code",
   "execution_count": 106,
   "id": "a56e808a",
   "metadata": {},
   "outputs": [],
   "source": [
    "btn_search=driver.find_element(\"xpath\",'//*[@id=\"ContentPlaceHolder1_imgBuscar\"]')\n",
    "btn_search.click()"
   ]
  },
  {
   "cell_type": "code",
   "execution_count": 107,
   "id": "a61304ab",
   "metadata": {},
   "outputs": [],
   "source": [
    "table1=driver.find_element(\"xpath\",'//*[@id=\"ContentPlaceHolder1_grvResultados\"]')"
   ]
  },
  {
   "cell_type": "code",
   "execution_count": 44,
   "id": "436e4106",
   "metadata": {},
   "outputs": [],
   "source": [
    "from selenium.webdriver.common.by import By"
   ]
  },
  {
   "cell_type": "code",
   "execution_count": 87,
   "id": "f6b7ca61",
   "metadata": {},
   "outputs": [],
   "source": [
    "rows=table1.find_elements(By.TAG_NAME, \"tr\")"
   ]
  },
  {
   "cell_type": "code",
   "execution_count": 50,
   "id": "5905f28a",
   "metadata": {},
   "outputs": [
    {
     "data": {
      "text/plain": [
       "<selenium.webdriver.remote.webelement.WebElement (session=\"41fd5b4905ccca95168a3a21498f0838\", element=\"abe07ee0-398e-4ad3-8f36-3ddbfd2ce79d\")>"
      ]
     },
     "execution_count": 50,
     "metadata": {},
     "output_type": "execute_result"
    }
   ],
   "source": [
    "rows[0]"
   ]
  },
  {
   "cell_type": "code",
   "execution_count": 52,
   "id": "80697bbf",
   "metadata": {},
   "outputs": [
    {
     "name": "stdout",
     "output_type": "stream",
     "text": [
      "Categoría\n",
      "No. Proyectos\n",
      "Inversión\n",
      "Avance\n",
      "Financiero\n",
      "Avance Físico del Producto\n",
      "Avance Gestión\n",
      "Evolución\n"
     ]
    }
   ],
   "source": [
    "for i in rows[0].find_elements(By.TAG_NAME, \"th\"):\n",
    "    print(i.text)"
   ]
  },
  {
   "cell_type": "code",
   "execution_count": 88,
   "id": "7c9f8e98",
   "metadata": {},
   "outputs": [],
   "source": [
    "categoria=[]\n",
    "no_proyectos=[]\n",
    "inversion=[]\n",
    "av_financiero=[]\n",
    "av_fis_producto=[]\n",
    "av_gestion=[]\n",
    "\n",
    "del rows[0]\n",
    "\n",
    "\n",
    "    "
   ]
  },
  {
   "cell_type": "code",
   "execution_count": 79,
   "id": "b4c7b3dd",
   "metadata": {},
   "outputs": [
    {
     "data": {
      "text/plain": [
       "3"
      ]
     },
     "execution_count": 79,
     "metadata": {},
     "output_type": "execute_result"
    }
   ],
   "source": [
    "len(rows)-1"
   ]
  },
  {
   "cell_type": "code",
   "execution_count": 89,
   "id": "8ed528b4",
   "metadata": {},
   "outputs": [
    {
     "name": "stdout",
     "output_type": "stream",
     "text": [
      "0\n",
      "1\n",
      "2\n",
      "3\n"
     ]
    }
   ],
   "source": [
    "for x in range(0,len(rows)):\n",
    "    print(x)\n",
    "    i=rows[x].find_elements(By.TAG_NAME,\"td\")\n",
    "    categoria.append(i[0].text)\n",
    "    no_proyectos.append(i[1].text)\n",
    "    inversion.append(i[2].text)\n",
    "    av_financiero.append(i[3].text)\n",
    "    av_fis_producto.append(i[4].text)\n",
    "    av_gestion.append(i[5].text)"
   ]
  },
  {
   "cell_type": "code",
   "execution_count": 85,
   "id": "d2af2324",
   "metadata": {},
   "outputs": [],
   "source": [
    "import pandas as pd"
   ]
  },
  {
   "cell_type": "code",
   "execution_count": 90,
   "id": "defd7dce",
   "metadata": {},
   "outputs": [
    {
     "data": {
      "text/html": [
       "<div>\n",
       "<style scoped>\n",
       "    .dataframe tbody tr th:only-of-type {\n",
       "        vertical-align: middle;\n",
       "    }\n",
       "\n",
       "    .dataframe tbody tr th {\n",
       "        vertical-align: top;\n",
       "    }\n",
       "\n",
       "    .dataframe thead th {\n",
       "        text-align: right;\n",
       "    }\n",
       "</style>\n",
       "<table border=\"1\" class=\"dataframe\">\n",
       "  <thead>\n",
       "    <tr style=\"text-align: right;\">\n",
       "      <th></th>\n",
       "      <th>categoria</th>\n",
       "      <th>no_prouyectos</th>\n",
       "      <th>inversion</th>\n",
       "      <th>avance</th>\n",
       "      <th>financiero</th>\n",
       "      <th>av_fis_producto</th>\n",
       "      <th>av_gestion</th>\n",
       "    </tr>\n",
       "  </thead>\n",
       "  <tbody>\n",
       "    <tr>\n",
       "      <th>0</th>\n",
       "      <td>Fortalecimiento de la gestión y dirección del ...</td>\n",
       "      <td>8</td>\n",
       "      <td>$54.898.786.018</td>\n",
       "      <td>58,2%</td>\n",
       "      <td>72,6 %</td>\n",
       "      <td>72,6 %</td>\n",
       "      <td>83,4 %</td>\n",
       "    </tr>\n",
       "    <tr>\n",
       "      <th>1</th>\n",
       "      <td>Identificación y registro del estado civil de ...</td>\n",
       "      <td>3</td>\n",
       "      <td>$8.081.528.346</td>\n",
       "      <td>80,1%</td>\n",
       "      <td>39,4 %</td>\n",
       "      <td>39,4 %</td>\n",
       "      <td>71,4 %</td>\n",
       "    </tr>\n",
       "    <tr>\n",
       "      <th>2</th>\n",
       "      <td>Procesos democráticos y asuntos electorales</td>\n",
       "      <td>1</td>\n",
       "      <td>$2.230.053.000</td>\n",
       "      <td>98,6%</td>\n",
       "      <td>84,0 %</td>\n",
       "      <td>84,0 %</td>\n",
       "      <td>100,0 %</td>\n",
       "    </tr>\n",
       "    <tr>\n",
       "      <th>3</th>\n",
       "      <td>TOTAL</td>\n",
       "      <td>12</td>\n",
       "      <td>$65.210.367.364</td>\n",
       "      <td>62,3%</td>\n",
       "      <td>68,8 %</td>\n",
       "      <td>68,8 %</td>\n",
       "      <td>82,5 %</td>\n",
       "    </tr>\n",
       "  </tbody>\n",
       "</table>\n",
       "</div>"
      ],
      "text/plain": [
       "                                           categoria no_prouyectos  \\\n",
       "0  Fortalecimiento de la gestión y dirección del ...             8   \n",
       "1  Identificación y registro del estado civil de ...             3   \n",
       "2        Procesos democráticos y asuntos electorales             1   \n",
       "3                                              TOTAL            12   \n",
       "\n",
       "         inversion avance financiero av_fis_producto av_gestion  \n",
       "0  $54.898.786.018  58,2%     72,6 %          72,6 %     83,4 %  \n",
       "1   $8.081.528.346  80,1%     39,4 %          39,4 %     71,4 %  \n",
       "2   $2.230.053.000  98,6%     84,0 %          84,0 %    100,0 %  \n",
       "3  $65.210.367.364  62,3%     68,8 %          68,8 %     82,5 %  "
      ]
     },
     "execution_count": 90,
     "metadata": {},
     "output_type": "execute_result"
    }
   ],
   "source": [
    "dc1={'categoria': categoria, 'no_proyectos': no_proyectos, 'inversion': inversion, 'avance': avance, 'financiero': financiero, 'av_fis_producto': av_fis_producto,'av_gestion': av_gestion} \n",
    "df1=pd.DataFrame(dc1)\n",
    "df1"
   ]
  },
  {
   "cell_type": "code",
   "execution_count": 108,
   "id": "c8ad9ca9",
   "metadata": {},
   "outputs": [
    {
     "data": {
      "text/plain": [
       "'//*[@id=\"ContentPlaceHolder1_grvResultados_LkbSubatributo_0\"]'"
      ]
     },
     "execution_count": 108,
     "metadata": {},
     "output_type": "execute_result"
    }
   ],
   "source": [
    "link1='//*[@id=\"ContentPlaceHolder1_grvResultados_LkbSubatributo_'+str(0)+'\"]'\n",
    "link1"
   ]
  },
  {
   "cell_type": "code",
   "execution_count": 109,
   "id": "bda035a5",
   "metadata": {},
   "outputs": [],
   "source": [
    "pr1=table1.find_element(By.XPATH, link1)"
   ]
  },
  {
   "cell_type": "code",
   "execution_count": 110,
   "id": "66201a9c",
   "metadata": {},
   "outputs": [],
   "source": [
    "pr1.click()"
   ]
  },
  {
   "cell_type": "code",
   "execution_count": null,
   "id": "6f4e7263",
   "metadata": {},
   "outputs": [],
   "source": [
    "//*[@id=\"ContentPlaceHolder1_grvResultados_LkbSubatributo_1\"]"
   ]
  },
  {
   "cell_type": "code",
   "execution_count": null,
   "id": "a2d16fa1",
   "metadata": {},
   "outputs": [],
   "source": []
  },
  {
   "cell_type": "code",
   "execution_count": 4,
   "id": "ffdc9ddb",
   "metadata": {
    "scrolled": true
   },
   "outputs": [
    {
     "data": {
      "text/plain": [
       "'btn_consulta=driver.find_element(\"xpath\",\\'//*[@id=\"MenuSuperior2_Repeater1_Label1_0\"]\\')\\nbtn_consulta.click()\\nbtn_entidad=driver.find_element(\"xpath\",\\'//*[@id=\"Menu1_Repeater1_Label1_2\"]\\')\\nbtn_entidad.click()\\nbtn_porentidad=driver.find_element(\"xpath\",\\'//*[@id=\"Menu1_Repeater1_Repeater2_2_HyperLink1_0\"]\\')\\nbtn_porentidad.click()\\n\\nselect = Select(driver.find_element(\"xpath\",\\'//*[@id=\"ContentPlaceHolder1_cboSector\"]\\'))\\nselect.select_by_visible_text(\"Registraduría\")\\ntime.sleep(5)\\nselect1=Select(driver.find_element(\"xpath\",\\'//*[@id=\"ContentPlaceHolder1_cboEntidad\"]\\'))\\nselect1.select_by_visible_text(\"FONREGISTRADURIA - FONDO ROTATORIO DE LA REGISTRADURIA\")\\nbtn_search=driver.find_element(\"xpath\",\\'//*[@id=\"ContentPlaceHolder1_imgBuscar\"]\\')\\nbtn_search.click()\\ntime.sleep(5)\\n\\nprint(\"Llego a la consulta 1.....\")\\n\\n\\ntable1=driver.find_element(\"xpath\",\\'//*[@id=\"ContentPlaceHolder1_grvResultados\"]\\')\\n\\n\\nrows=table1.find_elements(By.TAG_NAME, \"tr\")\\n\\ncategoria=[]\\nno_proyectos=[]\\ninversion=[]\\nav_financiero=[]\\nav_fis_producto=[]\\nav_gestion=[]\\ndel rows[0]\\n\\nfor x in range(0,len(rows)):\\n    i=rows[x].find_elements(By.TAG_NAME,\"td\")\\n    categoria.append(i[0].text)\\n    no_proyectos.append(i[1].text)\\n    inversion.append(i[2].text)\\n    av_financiero.append(i[3].text)\\n    av_fis_producto.append(i[4].text)\\n    av_gestion.append(i[5].text)\\n\\ndc1={\\'categoria\\': categoria, \\'no_proyectos\\': no_proyectos, \\'inversion\\': inversion, \\'av_financiero\\': av_financiero, \\'av_fis_producto\\': av_fis_producto, \\'av_fis_producto\\': av_fis_producto,\\'av_gestion\\': av_gestion} \\ndf1=pd.DataFrame(dc1)\\nprint(df1)\\n\\ntable2=driver.find_element(\"xpath\",\\'//*[@id=\"ContentPlaceHolder1_GraficaEvolucionFyGEntidad_TablaDatos\"]\\')\\nrows2=table2.find_elements(By.TAG_NAME, \"tr\")\\n\\nmes=[]\\ninversion=[]\\nav_financiero=[]\\nav_fis_producto=[]\\nav_gestion=[]\\n\\nfor x in range(0,len(rows2)):\\n    i=rows2[x].find_elements(By.TAG_NAME,\"td\")\\n    if x==0:\\n        for n in range(1,len(i)):\\n            mes.append(i[n].text)\\n    if x==1:\\n        for n in range(1,len(i)):\\n            inversion.append(i[n].text)\\n    if x==2:\\n        for n in range(1,len(i)):\\n            av_financiero.append(i[n].text)\\n    if x==3:\\n        for n in range(1,len(i)):\\n            av_fis_producto.append(i[n].text)\\n    if x==4:\\n        for n in range(1,len(i)):\\n            av_gestion.append(i[n].text)\\n\\ndc2={\\'mes\\': mes, \\'inversion\\': inversion, \\'av_financiero\\': av_financiero, \\'av_fis_producto\\': av_fis_producto, \\'av_gestion\\': av_gestion} \\ndf2=pd.DataFrame(dc2)\\nprint(df2)\\n\\n\\n\\np1=driver.find_element(\"xpath\",\\'//*[@id=\"ContentPlaceHolder1_grvResultados_LkbSubatributo_0\"]\\')\\np1.click()\\ntime.sleep(5)\\n\\nselect = Select(driver.find_element(\"xpath\",\\'//*[@id=\"ContentPlaceHolder1_cboSubatributo\"]\\'))\\nselect.select_by_visible_text(\"(Todos los SubAtributos)\")\\nbtn_search=driver.find_element(\"xpath\",\\'//*[@id=\"ContentPlaceHolder1_imgBuscar\"]\\')\\nbtn_search.click()\\ntime.sleep(5)'"
      ]
     },
     "execution_count": 4,
     "metadata": {},
     "output_type": "execute_result"
    }
   ],
   "source": [
    "import time\n",
    "from selenium import webdriver\n",
    "from selenium.webdriver.chrome.service import Service\n",
    "from webdriver_manager.chrome import ChromeDriverManager\n",
    "from selenium.webdriver.support.ui import Select\n",
    "from selenium.webdriver.common.by import By\n",
    "from selenium.webdriver.chrome.options import Options\n",
    "from bs4 import BeautifulSoup as bs\n",
    "from urllib import request\n",
    "import requests\n",
    "import pandas as pd\n",
    "\n",
    "\n",
    "\n",
    "chrome_options=Options()\n",
    "chrome_options = webdriver.ChromeOptions()\n",
    "chrome_options.add_experimental_option(\"prefs\",{\"download.default_directory\":\"/home/hans-sanchez/Documents/scrapspi\",})\n",
    "#chrome_options.add_argument(\"start-maximized\")\n",
    "#chrome_options.add_argument('--headless')\n",
    "chrome_options.add_argument('--window-size=1420,1080')\n",
    "chrome_options.add_argument('--disable-dev-shm-usage')\n",
    "chrome_options.add_argument('--disable-gpu')\n",
    "chrome_options.add_argument(\"--disable-notifications\")\n",
    "chrome_options.add_argument(\"--remote-debugging-port=9222\")\n",
    "chrome_options.add_experimental_option(\"excludeSwitches\", [\"enable-automation\"])\n",
    "chrome_options.add_experimental_option('useAutomationExtension', False)\n",
    "chrome_options.add_experimental_option(\"excludeSwitches\", [\"disable-popup-blocking\"])\n",
    "\n",
    "#chrome_options.add_argument('--no-sandbox')\n",
    "#chrome_options.add_argument('--disable-dev-shm-usage')\n",
    "\n",
    "url=\"https://sts.dnp.gov.co/login.aspx?ReturnUrl=%2f%3fwa%3dwsignin1.0%26wtrealm%3dhttps%253a%252f%252fspi.dnp.gov.co%252f%26wctx%3drm%253d0%2526id%253dpassive%2526ru%253d%25252f%26wct%3d2022-12-07T16%253a46%253a59Z&wa=wsignin1.0&wtrealm=https%3a%2f%2fspi.dnp.gov.co%2f&wctx=rm%3d0%26id%3dpassive%26ru%3d%252f&wct=2022-12-07T16%3a46%3a59Z\"\n",
    "#driver = webdriver.Chrome('./chromedriver')\n",
    "#driver = webdriver.Chrome('./chromedriver',chrome_options=chrome_options)\n",
    "driver=webdriver.Chrome(service=Service(ChromeDriverManager().install()),options=chrome_options)\n",
    "driver.get(url)\n",
    "\n",
    "time.sleep(5)\n",
    "btn_user_ano=driver.find_element(By.XPATH,'//*[@id=\"linkAnonymousUser\"]')\n",
    "btn_user_ano.click()\n",
    "\n",
    "\"\"\"btn_consulta=driver.find_element(\"xpath\",'//*[@id=\"MenuSuperior2_Repeater1_Label1_0\"]')\n",
    "btn_consulta.click()\n",
    "btn_entidad=driver.find_element(\"xpath\",'//*[@id=\"Menu1_Repeater1_Label1_2\"]')\n",
    "btn_entidad.click()\n",
    "btn_porentidad=driver.find_element(\"xpath\",'//*[@id=\"Menu1_Repeater1_Repeater2_2_HyperLink1_0\"]')\n",
    "btn_porentidad.click()\n",
    "\n",
    "select = Select(driver.find_element(\"xpath\",'//*[@id=\"ContentPlaceHolder1_cboSector\"]'))\n",
    "select.select_by_visible_text(\"Registraduría\")\n",
    "time.sleep(5)\n",
    "select1=Select(driver.find_element(\"xpath\",'//*[@id=\"ContentPlaceHolder1_cboEntidad\"]'))\n",
    "select1.select_by_visible_text(\"FONREGISTRADURIA - FONDO ROTATORIO DE LA REGISTRADURIA\")\n",
    "btn_search=driver.find_element(\"xpath\",'//*[@id=\"ContentPlaceHolder1_imgBuscar\"]')\n",
    "btn_search.click()\n",
    "time.sleep(5)\n",
    "\n",
    "print(\"Llego a la consulta 1.....\")\n",
    "\n",
    "\n",
    "table1=driver.find_element(\"xpath\",'//*[@id=\"ContentPlaceHolder1_grvResultados\"]')\n",
    "\n",
    "\n",
    "rows=table1.find_elements(By.TAG_NAME, \"tr\")\n",
    "\n",
    "categoria=[]\n",
    "no_proyectos=[]\n",
    "inversion=[]\n",
    "av_financiero=[]\n",
    "av_fis_producto=[]\n",
    "av_gestion=[]\n",
    "del rows[0]\n",
    "\n",
    "for x in range(0,len(rows)):\n",
    "    i=rows[x].find_elements(By.TAG_NAME,\"td\")\n",
    "    categoria.append(i[0].text)\n",
    "    no_proyectos.append(i[1].text)\n",
    "    inversion.append(i[2].text)\n",
    "    av_financiero.append(i[3].text)\n",
    "    av_fis_producto.append(i[4].text)\n",
    "    av_gestion.append(i[5].text)\n",
    "\n",
    "dc1={'categoria': categoria, 'no_proyectos': no_proyectos, 'inversion': inversion, 'av_financiero': av_financiero, 'av_fis_producto': av_fis_producto, 'av_fis_producto': av_fis_producto,'av_gestion': av_gestion} \n",
    "df1=pd.DataFrame(dc1)\n",
    "print(df1)\n",
    "\n",
    "table2=driver.find_element(\"xpath\",'//*[@id=\"ContentPlaceHolder1_GraficaEvolucionFyGEntidad_TablaDatos\"]')\n",
    "rows2=table2.find_elements(By.TAG_NAME, \"tr\")\n",
    "\n",
    "mes=[]\n",
    "inversion=[]\n",
    "av_financiero=[]\n",
    "av_fis_producto=[]\n",
    "av_gestion=[]\n",
    "\n",
    "for x in range(0,len(rows2)):\n",
    "    i=rows2[x].find_elements(By.TAG_NAME,\"td\")\n",
    "    if x==0:\n",
    "        for n in range(1,len(i)):\n",
    "            mes.append(i[n].text)\n",
    "    if x==1:\n",
    "        for n in range(1,len(i)):\n",
    "            inversion.append(i[n].text)\n",
    "    if x==2:\n",
    "        for n in range(1,len(i)):\n",
    "            av_financiero.append(i[n].text)\n",
    "    if x==3:\n",
    "        for n in range(1,len(i)):\n",
    "            av_fis_producto.append(i[n].text)\n",
    "    if x==4:\n",
    "        for n in range(1,len(i)):\n",
    "            av_gestion.append(i[n].text)\n",
    "\n",
    "dc2={'mes': mes, 'inversion': inversion, 'av_financiero': av_financiero, 'av_fis_producto': av_fis_producto, 'av_gestion': av_gestion} \n",
    "df2=pd.DataFrame(dc2)\n",
    "print(df2)\n",
    "\n",
    "\n",
    "\n",
    "p1=driver.find_element(\"xpath\",'//*[@id=\"ContentPlaceHolder1_grvResultados_LkbSubatributo_0\"]')\n",
    "p1.click()\n",
    "time.sleep(5)\n",
    "\n",
    "select = Select(driver.find_element(\"xpath\",'//*[@id=\"ContentPlaceHolder1_cboSubatributo\"]'))\n",
    "select.select_by_visible_text(\"(Todos los SubAtributos)\")\n",
    "btn_search=driver.find_element(\"xpath\",'//*[@id=\"ContentPlaceHolder1_imgBuscar\"]')\n",
    "btn_search.click()\n",
    "time.sleep(5)\"\"\""
   ]
  },
  {
   "cell_type": "code",
   "execution_count": 5,
   "id": "88943acb",
   "metadata": {},
   "outputs": [
    {
     "name": "stdout",
     "output_type": "stream",
     "text": [
      "           codigo                                             nombre  \\\n",
      "0   2020011000109  Implementacion del Sistema de Gestion Document...   \n",
      "1   2020011000111  Diseno e implementacion del modelo de Arquitec...   \n",
      "2   2020011000116  Implementacion del Instituto de Estudios Elect...   \n",
      "3   2018011000448  FORMACIÓN PERMANENTE PARA LOS SERVIDORES DE LA...   \n",
      "4   2018011000553  FORTALECIMIENTO DE LA CAPACIDAD DE ATENCIÓN EN...   \n",
      "5   2018011000587  FORTALECIMIENTO DEL SERVICIO DEL SISTEMA DEL A...   \n",
      "6   2018011000693  MEJORAMIENTO Y MANTENIMIENTO DE LA INFRAESTRUC...   \n",
      "7   2018011000701  SERVICIO DE RESPALDO DE LOS SISTEMAS DE INFORM...   \n",
      "8   2018011000706  MEJORAMIENTO Y RENOVACIÓN DE LA INFRAESTRUCTUR...   \n",
      "9   2018011000718  MEJORAMIENTO DE LA RED ELÉCTRICA Y DE COMUNICA...   \n",
      "10  2018011000719  FORTALECIMIENTO DE LA RED CORPORATIVA DE TELEC...   \n",
      "11  2018011000745  FORTALECIMIENTO DEL CENTRO DE ESTUDIOS EN DEMO...   \n",
      "12  2018011000823  FORTALECIMIENTO DEL SISTEMA DE INFORMACIÓN DE ...   \n",
      "13  2018011000846  IMPLEMENTACIÓN SISTEMA DE GESTIÓN DOCUMENTAL R...   \n",
      "14  2020011000108  Fortalecimiento del Sistema de Servicio al Col...   \n",
      "15  2018011000622  FORTALECIMIENTO DE LA PLATAFORMA TECNOLÓGICA Q...   \n",
      "\n",
      "   av_financiero  \n",
      "0       100,00 %  \n",
      "1        62,84 %  \n",
      "2         0,00 %  \n",
      "3        90,01 %  \n",
      "4        94,08 %  \n",
      "5        87,31 %  \n",
      "6         5,49 %  \n",
      "7        76,98 %  \n",
      "8        20,65 %  \n",
      "9        74,52 %  \n",
      "10       87,20 %  \n",
      "11       99,28 %  \n",
      "12       92,24 %  \n",
      "13       82,34 %  \n",
      "14       91,33 %  \n",
      "15       68,73 %  \n"
     ]
    }
   ],
   "source": [
    "#Obtener link de consulta proyectos resgitraduria segun vigencia y periodo\n",
    "\n",
    "url=\"https://spi.dnp.gov.co/Consultas/ConsultaProyectos.aspx?Vigencia=2022&Periodo=12&Sector=28\"\n",
    "#driver = webdriver.Chrome('./chromedriver',chrome_options=chrome_options)\n",
    "driver.get(url)\n",
    "\n",
    "table3=driver.find_element(\"xpath\",'//*[@id=\"ContentPlaceHolder1_dtlDatos_dtgDatos_0\"]')\n",
    "rows3=table3.find_elements(By.TAG_NAME, \"tr\")\n",
    "\n",
    "codigo=[]\n",
    "nombre=[]\n",
    "av_financiero=[]\n",
    "del rows3[0]\n",
    "\n",
    "for x in range(0,len(rows3)):\n",
    "    i=rows3[x].find_elements(By.TAG_NAME,\"td\")\n",
    "    codigo.append(i[1].text)\n",
    "    nombre.append(i[2].text)\n",
    "    av_financiero.append(i[3].text)\n",
    "\n",
    "dc3={'codigo': codigo, 'nombre': nombre, 'av_financiero': av_financiero} \n",
    "df3=pd.DataFrame(dc3)\n",
    "print(df3)"
   ]
  },
  {
   "cell_type": "code",
   "execution_count": 36,
   "id": "12307235",
   "metadata": {},
   "outputs": [],
   "source": [
    "driver.back()"
   ]
  },
  {
   "cell_type": "code",
   "execution_count": 2,
   "id": "78f740cb",
   "metadata": {},
   "outputs": [],
   "source": [
    "driver.close()"
   ]
  },
  {
   "cell_type": "code",
   "execution_count": 7,
   "id": "d32b1a15",
   "metadata": {},
   "outputs": [
    {
     "data": {
      "text/plain": [
       "12"
      ]
     },
     "execution_count": 7,
     "metadata": {},
     "output_type": "execute_result"
    }
   ],
   "source": [
    "len(codigo)"
   ]
  },
  {
   "cell_type": "code",
   "execution_count": 10,
   "id": "296546de",
   "metadata": {},
   "outputs": [],
   "source": [
    "links_proyectos=[]\n",
    "\n",
    "nombre_proyecto=[]\n",
    "obj_general=[]\n",
    "obj_especificos=[]\n",
    "codigo_bpin=[]\n",
    "sector=[]\n",
    "entidad=[]\n",
    "responsable=[]\n",
    "horizonte=[]\n",
    "presupuesto=[]\n",
    "control_posterior=[]\n",
    "seguimiento_de=[]\n",
    "pnd=[]\n",
    "programa=[]\n",
    "av_fisico=[]\n",
    "av_financiero=[]\n",
    "av_gestion=[]\n",
    "\n",
    "for p in range(0,len(codigo)):\n",
    "    pp=driver.find_element(\"xpath\",'//*[@id=\"ContentPlaceHolder1_dtlDatos_dtgDatos_0_LinkButton1_'+str(p)+'\"]')\n",
    "    pp.click()\n",
    "    time.sleep(5)\n",
    "    nombre_proyecto.append(driver.find_element(\"xpath\",'//*[@id=\"Content2_LblProyecto\"]').text)\n",
    "    obj_general.append(driver.find_element(\"xpath\",'//*[@id=\"Content2_LblDesObjetivo\"]').text)\n",
    "    obj_especificos.append(driver.find_element(\"xpath\",'//*[@id=\"Content2\"]/table').text)\n",
    "    codigo_bpin.append(driver.find_element(\"xpath\",'//*[@id=\"Content2_LblBPINValue\"]').text)\n",
    "    sector.append(driver.find_element(\"xpath\",'//*[@id=\"Content2_lblNombreSector\"]').text)\n",
    "    entidad.append(driver.find_element(\"xpath\",'//*[@id=\"Content2_lblNombreEntidad\"]').text)\n",
    "    responsable.append(driver.find_element(\"xpath\",'//*[@id=\"Content2_lblNombreResponsable\"]').text)\n",
    "    horizonte.append(driver.find_element(\"xpath\",'//*[@id=\"Content2_LblAnoInicioDato\"]').text)\n",
    "    presupuesto.append(driver.find_element(\"xpath\",'//*[@id=\"Content2_LblPresupuestoDato\"]').text)\n",
    "    control_posterior.append(driver.find_element(\"xpath\",'//*[@id=\"Content2_LblFechaControlPosteriorValue\"]').text)\n",
    "    seguimiento_de.append(driver.find_element(\"xpath\",'//*[@id=\"Content2_LblSeguimientodeValue\"]').text)\n",
    "    pnd.append(driver.find_element(\"xpath\",'//*[@id=\"Content2_LblPNDValue\"]').text)\n",
    "    programa.append(driver.find_element(\"xpath\",'//*[@id=\"Content2_lblProgramaValues\"]').text)\n",
    "    av_fisico.append(driver.find_element(\"xpath\",'//*[@id=\"Content2_LblAvanFisico\"]').text)\n",
    "    av_financiero.append(driver.find_element(\"xpath\",'//*[@id=\"Content2_LblAvanFinanciero\"]').text)\n",
    "    av_gestion.append(driver.find_element(\"xpath\",'//*[@id=\"Content2_LblAvanGestion\"]').text)\n",
    "    links_proyectos.append(driver.current_url)\n",
    "    rs=driver.find_element(\"xpath\",'//*[@id=\"Content2_HyLinkdescarga\"]')\n",
    "    fe=driver.find_element(\"xpath\",'//*[@id=\"Content2_HyLinkFichaEBI\"]')\n",
    "    urs=rs.get_attribute('href')\n",
    "    r=requests.get(urs)\n",
    "    ufe=fe.get_attribute('href')\n",
    "    rr=requests.get(ufe)\n",
    "    with open('/home/hans-sanchez/Documents/scrapspi/rs'+codigo_bpin[p]+seguimiento_de[p]+'.pdf','wb')as f:\n",
    "        f.write(r.content)\n",
    "    with open('/home/hans-sanchez/Documents/scrapspi/fe'+codigo_bpin[p]+seguimiento_de[p]+'.pdf','wb')as f:\n",
    "        f.write(rr.content)\n",
    "    driver.back()"
   ]
  },
  {
   "cell_type": "code",
   "execution_count": 4,
   "id": "a026b516",
   "metadata": {},
   "outputs": [],
   "source": [
    "#Definicion de funcion para extraer tabla de resumen financiero\n",
    "def table_resumen_financiero(cod_bpin):\n",
    "    btn_rf=driver.find_element(\"xpath\", '//*[@id=\"Content2_dos\"]')\n",
    "    btn_rf.click()\n",
    "    \n",
    "    table_res_fin=driver.find_element(\"xpath\",'//*[@id=\"Content2_GvAvance\"]')\n",
    "    rowsrf=table_res_fin.find_elements(By.TAG_NAME, \"tr\")    \n",
    "\n",
    "    del rowsrf[0]\n",
    "\n",
    "    for x in range(0,len(rowsrf)):\n",
    "        i=rowsrf[x].find_elements(By.TAG_NAME,\"td\")\n",
    "        codigo_bpin1.append(cod_bpin)\n",
    "        vigencia1.append(i[0].text)\n",
    "        solictado1.append(i[1].text)\n",
    "        inicial1.append(i[2].text)\n",
    "        vigente1.append(i[3].text)\n",
    "        compromiso1.append(i[4].text)\n",
    "        obligacion1.append(i[5].text)\n",
    "        pago1.append(i[6].text)\n",
    "        ii=i[7].find_elements(By.TAG_NAME,\"span\")\n",
    "        av_financiero1.append(ii[1].text)\n",
    "        av_fisico1.append(ii[3].text)\n",
    "        av_gestion1.append(i[5].text)\n",
    "\n",
    "    "
   ]
  },
  {
   "cell_type": "code",
   "execution_count": 5,
   "id": "b99dca53",
   "metadata": {},
   "outputs": [],
   "source": [
    "#Definicion de funcion para extraer tabla de fuentes financiacion\n",
    "def table_fuentes_financiacion(cod_bpin):\n",
    "    btn_ff=driver.find_element(\"xpath\", '//*[@id=\"Content2_dos\"]')\n",
    "    btn_ff.click()\n",
    "    \n",
    "    table_fue_fin=driver.find_element(\"xpath\",'//*[@id=\"Content2_GVSrecursos\"]')\n",
    "    rowsff=table_fue_fin.find_elements(By.TAG_NAME, \"tr\")\n",
    "\n",
    "    del rowsff[0]\n",
    "    \n",
    "\n",
    "    for x in range(0,len(rowsff)):\n",
    "        i=rowsff[x].find_elements(By.TAG_NAME,\"td\")\n",
    "        codigo_bpin2.append(cod_bpin)\n",
    "        tipo_entidad2.append(rowsff[0].find_elements(By.TAG_NAME,\"td\")[0].text)\n",
    "        entidad2.append(rowsff[0].find_elements(By.TAG_NAME,\"td\")[1].text)\n",
    "        tipo_recurso2.append(i[2].text)\n",
    "        vigente2.append(i[3].text)\n",
    "        vigente_aplazamiento2.append(i[4].text)\n",
    "        compromiso2.append(i[5].text)\n",
    "        obligacion2.append(i[6].text)\n",
    "        pago2.append(i[7].text)\n"
   ]
  },
  {
   "cell_type": "code",
   "execution_count": 32,
   "id": "6d329730",
   "metadata": {},
   "outputs": [],
   "source": [
    "#Definicion de funcion para extraer tabla de evolucion financiera\n",
    "def table_evolucion_fin(cod_bpin):\n",
    "    btn_ef=driver.find_element(\"xpath\", '//*[@id=\"Content2_dos\"]')\n",
    "    btn_ef.click()\n",
    "    \n",
    "    table_evo_fin=driver.find_element(\"xpath\",'//*[@id=\"Content2_GVResumenAvance\"]')\n",
    "    rowsef=table_evo_fin.find_elements(By.TAG_NAME, \"tr\")\n",
    "\n",
    "    for x in range(0,len(rowsef)):\n",
    "        i=rowsef[x].find_elements(By.TAG_NAME,\"td\")\n",
    "        if x==0:\n",
    "            i=rowsef[x].find_elements(By.TAG_NAME,\"th\")\n",
    "            for n in range(1,len(i)):\n",
    "                codigo_bpin3.append(cod_bpin)\n",
    "                mes3.append(i[n].text)\n",
    "        if x==1:\n",
    "            for n in range(1,len(i)):\n",
    "                inversion3.append(i[n].text)\n",
    "        if x==2:\n",
    "            for n in range(1,len(i)):\n",
    "                av_financiero3.append(i[n].text)\n",
    "        if x==3:\n",
    "            for n in range(1,len(i)):\n",
    "                av_fis_producto3.append(i[n].text)\n",
    "        if x==4:\n",
    "            for n in range(1,len(i)):\n",
    "                av_gestion3.append(i[n].text)\n"
   ]
  },
  {
   "cell_type": "code",
   "execution_count": 76,
   "id": "1397f83b",
   "metadata": {},
   "outputs": [],
   "source": [
    "#Definicion de funcion para extraer tabla de metas gestion\n",
    "def table_metas_gestion(cod_bpin):\n",
    "    btn_mg=driver.find_element(\"xpath\", '//*[@id=\"Content2_cuatro\"]')\n",
    "    btn_mg.click()\n",
    "    \n",
    "    table_met_ges=driver.find_element(\"xpath\",'//*[@id=\"Content2_GVSMPIndicadores\"]')\n",
    "    rowsmg=table_met_ges.find_elements(By.TAG_NAME, \"tr\")\n",
    "\n",
    "    del rowsmg[0],rowsmg[0],rowsmg[0]\n",
    "    \n",
    "    for x in range(0,len(rowsmg)):\n",
    "        i=rowsmg[x].find_elements(By.TAG_NAME,\"td\")\n",
    "        codigo_bpin4.append(cod_bpin)\n",
    "        indicador4.append(i[0].text)\n",
    "        peso4.append(i[1].text)\n",
    "        meta4.append(i[2].text)\n",
    "        avance4.append(i[3].text)\n",
    "        cumplimiento4.append(i[4].text)\n",
    "        observacion4.append(i[5].text)\n"
   ]
  },
  {
   "cell_type": "code",
   "execution_count": 22,
   "id": "581db695",
   "metadata": {},
   "outputs": [],
   "source": [
    "#Definicion de funcion para extraer tablas de regionalizacion\n",
    "def table_regionalizacion(cod_bpin):\n",
    "    btn_r=driver.find_element(\"xpath\", '//*[@id=\"Content2_cinco\"]')\n",
    "    btn_r.click()\n",
    "    \n",
    "    val_reg=driver.find_element(\"xpath\", '//*[@id=\"Content2_GVSeguimientoRegional\"]/tbody/tr[1]/th[2]')\n",
    "    if val_reg.text==\"NO REGIONALIZABLE\":\n",
    "        print(\"Proyecto sin regionalizacion\")\n",
    "    else:\n",
    "        table_res_reg=driver.find_element(\"xpath\",'//*[@id=\"Content2_GVSeguimientoRegional\"]')\n",
    "        rowsresr=table_res_reg.find_elements(By.TAG_NAME, \"tr\")\n",
    "        \n",
    "        for x in range(0,len(rowsresr)):\n",
    "            i=rowsresr[x].find_elements(By.TAG_NAME,\"td\")\n",
    "            if x==0:\n",
    "                i=rowsresr[x].find_elements(By.TAG_NAME,\"th\")\n",
    "                for n in range(1,len(i)):\n",
    "                    codigo_bpin5.append(cod_bpin)\n",
    "                    region5.append(i[n].text)\n",
    "            if x==1:\n",
    "                for n in range(1,len(i)):\n",
    "                    inversion5.append(i[n].text)\n",
    "            if x==2:\n",
    "                for n in range(1,len(i)):\n",
    "                    av_financiero5.append(i[n].text)\n",
    "            if x==3:\n",
    "                for n in range(1,len(i)):\n",
    "                    av_fisico5.append(i[n].text)\n",
    "         \n",
    "        table_reg_rec=driver.find_element(\"xpath\", '//*[@id=\"Content2_GVDREP\"]')\n",
    "        rowsrecr=table_reg_rec.find_elements(By.TAG_NAME, \"tr\")\n",
    "                \n",
    "        del rowsrecr[0]\n",
    "    \n",
    "        for x in range(0,len(rowsrecr)):\n",
    "            i=rowsrecr[x].find_elements(By.TAG_NAME,\"td\")\n",
    "            codigo_bpin6.append(cod_bpin)\n",
    "            fuente_fin_Dep6.append(i[0].text)\n",
    "            inicial6.append(i[1].text)\n",
    "            vigente6.append(i[2].text)\n",
    "            compromiso6.append(i[3].text)\n",
    "            obligacion6.append(i[4].text)\n",
    "            pago6.append(i[5].text)\n",
    "        \n",
    "        table_reg_pro=driver.find_element(\"xpath\",'//*[@id=\"Content2_dtlDatos\"]')\n",
    "        tabregp=table_reg_pro.find_elements(By.TAG_NAME, \"table\")\n",
    "                \n",
    "        for x in range(0,len(tabregp)):\n",
    "            rowsregp=tabregp[x].find_elements(By.TAG_NAME, \"tr\")\n",
    "            del rowsregp[0]\n",
    "            for x in range(0,len(rowsregp)):\n",
    "                i=rowsregp[x].find_elements(By.TAG_NAME,\"td\")\n",
    "                codigo_bpin7.append(cod_bpin)\n",
    "                indicador_Dep7.append(i[0].text)\n",
    "                meta_prog7.append(i[1].text)\n",
    "                meta_ano7.append(i[2].text)\n",
    "                avance_ano7.append(i[3].text)\n",
    "                cumplimiento_ano7.append(i[4].text)\n",
    "            \n",
    "\n",
    "         \n"
   ]
  },
  {
   "cell_type": "code",
   "execution_count": 15,
   "id": "c3308195",
   "metadata": {},
   "outputs": [],
   "source": [
    "table_reg_pro=driver.find_element(\"xpath\",'//*[@id=\"Content2_dtlDatos\"]')\n",
    "tabregp=table_reg_pro.find_elements(By.TAG_NAME, \"table\")"
   ]
  },
  {
   "cell_type": "code",
   "execution_count": 16,
   "id": "c79ec456",
   "metadata": {},
   "outputs": [
    {
     "data": {
      "text/plain": [
       "2"
      ]
     },
     "execution_count": 16,
     "metadata": {},
     "output_type": "execute_result"
    }
   ],
   "source": [
    "len(tabregp)"
   ]
  },
  {
   "cell_type": "code",
   "execution_count": 63,
   "id": "8a0d63b3",
   "metadata": {},
   "outputs": [
    {
     "data": {
      "text/plain": [
       "'1000G202 Implementacion Del Sistema De Gestion\\nUnidad de medida: Porcentaje 40% 60,0000 60,0000 100,00% el contrato finalizó el 31 de agosto de 2022'"
      ]
     },
     "execution_count": 63,
     "metadata": {},
     "output_type": "execute_result"
    }
   ],
   "source": [
    "rowsmg[0].text"
   ]
  },
  {
   "cell_type": "code",
   "execution_count": 23,
   "id": "de6a4e80",
   "metadata": {},
   "outputs": [
    {
     "name": "stdout",
     "output_type": "stream",
     "text": [
      "Salio de la funcion\n",
      "           codigo                                      indicador_Dep  \\\n",
      "0   2020011000116  280100400 - Documentos de investigación public...   \n",
      "1   2020011000116                                          ---Bogota   \n",
      "2   2020011000116     280100100 - Capacitaciones realizadas (Número)   \n",
      "3   2020011000116                                       ---Antioquia   \n",
      "4   2020011000116                                       ---Atlantico   \n",
      "5   2020011000116                                          ---Bogota   \n",
      "6   2020011000116                                          ---Caldas   \n",
      "7   2020011000116                                         ---Caqueta   \n",
      "8   2020011000116                                           ---Cauca   \n",
      "9   2020011000116                                           ---Cesar   \n",
      "10  2020011000116                                           ---Huila   \n",
      "11  2020011000116                                       ---Magdalena   \n",
      "12  2020011000116                                    ---N. Santander   \n",
      "13  2020011000116                                       ---Santander   \n",
      "14  2020011000116                                           ---Valle   \n",
      "\n",
      "   meta_prog meta_ano avance_ano cumplimiento_ano  \n",
      "0     2,0000   2,0000     0,0000            0,00%  \n",
      "1     2,0000   2,0000     0,0000            0,00%  \n",
      "2    13,0000  13,0000     0,0000            0,00%  \n",
      "3     1,0000   1,0000     0,0000            0,00%  \n",
      "4     1,0000   1,0000     0,0000            0,00%  \n",
      "5     1,0000   1,0000     0,0000            0,00%  \n",
      "6     1,0000   1,0000     0,0000            0,00%  \n",
      "7     1,0000   1,0000     0,0000            0,00%  \n",
      "8     1,0000   1,0000     0,0000            0,00%  \n",
      "9     1,0000   1,0000     0,0000            0,00%  \n",
      "10    1,0000   1,0000     0,0000            0,00%  \n",
      "11    1,0000   1,0000     0,0000            0,00%  \n",
      "12    1,0000   1,0000     0,0000            0,00%  \n",
      "13    2,0000   2,0000     0,0000            0,00%  \n",
      "14    1,0000   1,0000     0,0000            0,00%  \n"
     ]
    }
   ],
   "source": [
    "#Recorre otras tablas sin decargar los adjuntos\n",
    "\n",
    "links_proyectos=[]\n",
    "\n",
    "nombre_proyecto=[]\n",
    "obj_general=[]\n",
    "obj_especificos=[]\n",
    "codigo_bpin=[]\n",
    "sector=[]\n",
    "entidad=[]\n",
    "responsable=[]\n",
    "horizonte=[]\n",
    "presupuesto=[]\n",
    "control_posterior=[]\n",
    "seguimiento_de=[]\n",
    "pnd=[]\n",
    "programa=[]\n",
    "av_fisico=[]\n",
    "av_financiero=[]\n",
    "av_gestion=[]\n",
    "\n",
    "#variables tabla resumen financiero\n",
    "codigo_bpin1=[]\n",
    "vigencia1=[]\n",
    "solictado1=[]\n",
    "inicial1=[]\n",
    "vigente1=[]\n",
    "compromiso1=[]\n",
    "obligacion1=[]\n",
    "pago1=[]\n",
    "av_financiero1=[]\n",
    "av_fisico1=[]\n",
    "av_gestion1=[]\n",
    "\n",
    "#variables tabla fuentes financiacion\n",
    "codigo_bpin2=[]\n",
    "tipo_entidad2=[]\n",
    "entidad2=[]\n",
    "tipo_recurso2=[]\n",
    "vigente2=[]\n",
    "vigente_aplazamiento2=[]\n",
    "compromiso2=[]\n",
    "obligacion2=[]\n",
    "pago2=[]\n",
    "\n",
    "#variables tabla evolucion financiera\n",
    "codigo_bpin3=[]\n",
    "mes3=[]\n",
    "inversion3=[]\n",
    "av_financiero3=[]\n",
    "av_fis_producto3=[]\n",
    "av_gestion3=[]\n",
    "\n",
    "#variables tabla metas gestion\n",
    "codigo_bpin4=[]\n",
    "indicador4=[]\n",
    "peso4=[]\n",
    "meta4=[]\n",
    "avance4=[]\n",
    "cumplimiento4=[]\n",
    "observacion4=[]\n",
    "\n",
    "#variables tabla resumen regional\n",
    "codigo_bpin5=[]\n",
    "region5=[]\n",
    "inversion5=[]\n",
    "av_financiero5=[]\n",
    "av_fisico5=[]\n",
    "\n",
    "#variables tabla regionalizacion recursos\n",
    "codigo_bpin6=[]\n",
    "fuente_fin_Dep6=[]\n",
    "inicial6=[]\n",
    "vigente6=[]\n",
    "compromiso6=[]\n",
    "obligacion6=[]\n",
    "pago6=[]\n",
    "\n",
    "#variables tabla regionalizacion productos\n",
    "codigo_bpin7=[]\n",
    "indicador_Dep7=[]\n",
    "meta_prog7=[]\n",
    "meta_ano7=[]\n",
    "avance_ano7=[]\n",
    "cumplimiento_ano7=[] \n",
    "\n",
    "for p in range(0,len(codigo)):\n",
    "    pp=driver.find_element(\"xpath\",'//*[@id=\"ContentPlaceHolder1_dtlDatos_dtgDatos_0_LinkButton1_'+str(p)+'\"]')\n",
    "    pp.click()\n",
    "    time.sleep(5)\n",
    "    table_resumen_financiero(driver.find_element(\"xpath\",'//*[@id=\"Content2_LblBPINValue\"]').text)\n",
    "    table_fuentes_financiacion(driver.find_element(\"xpath\",'//*[@id=\"Content2_LblBPINValue\"]').text)\n",
    "    table_evolucion_fin(driver.find_element(\"xpath\",'//*[@id=\"Content2_LblBPINValue\"]').text)\n",
    "    table_metas_gestion(driver.find_element(\"xpath\",'//*[@id=\"Content2_LblBPINValue\"]').text)\n",
    "    table_regionalizacion(driver.find_element(\"xpath\",'//*[@id=\"Content2_LblBPINValue\"]').text)\n",
    "\n",
    "    nombre_proyecto.append(driver.find_element(\"xpath\",'//*[@id=\"Content2_LblProyecto\"]').text)\n",
    "    obj_general.append(driver.find_element(\"xpath\",'//*[@id=\"Content2_LblDesObjetivo\"]').text)\n",
    "    obj_especificos.append(driver.find_element(\"xpath\",'//*[@id=\"Content2\"]/table').text)\n",
    "    codigo_bpin.append(driver.find_element(\"xpath\",'//*[@id=\"Content2_LblBPINValue\"]').text)\n",
    "    sector.append(driver.find_element(\"xpath\",'//*[@id=\"Content2_lblNombreSector\"]').text)\n",
    "    entidad.append(driver.find_element(\"xpath\",'//*[@id=\"Content2_lblNombreEntidad\"]').text)\n",
    "    responsable.append(driver.find_element(\"xpath\",'//*[@id=\"Content2_lblNombreResponsable\"]').text)\n",
    "    horizonte.append(driver.find_element(\"xpath\",'//*[@id=\"Content2_LblAnoInicioDato\"]').text)\n",
    "    presupuesto.append(driver.find_element(\"xpath\",'//*[@id=\"Content2_LblPresupuestoDato\"]').text)\n",
    "    control_posterior.append(driver.find_element(\"xpath\",'//*[@id=\"Content2_LblFechaControlPosteriorValue\"]').text)\n",
    "    seguimiento_de.append(driver.find_element(\"xpath\",'//*[@id=\"Content2_LblSeguimientodeValue\"]').text)\n",
    "    pnd.append(driver.find_element(\"xpath\",'//*[@id=\"Content2_LblPNDValue\"]').text)\n",
    "    programa.append(driver.find_element(\"xpath\",'//*[@id=\"Content2_lblProgramaValues\"]').text)\n",
    "    av_fisico.append(driver.find_element(\"xpath\",'//*[@id=\"Content2_LblAvanFisico\"]').text)\n",
    "    av_financiero.append(driver.find_element(\"xpath\",'//*[@id=\"Content2_LblAvanFinanciero\"]').text)\n",
    "    av_gestion.append(driver.find_element(\"xpath\",'//*[@id=\"Content2_LblAvanGestion\"]').text)\n",
    "    links_proyectos.append(driver.current_url)\n",
    "    #rs=driver.find_element(\"xpath\",'//*[@id=\"Content2_HyLinkdescarga\"]')\n",
    "    #fe=driver.find_element(\"xpath\",'//*[@id=\"Content2_HyLinkFichaEBI\"]')\n",
    "    #urs=rs.get_attribute('href')\n",
    "    #r=requests.get(urs)\n",
    "    #ufe=fe.get_attribute('href')\n",
    "    #rr=requests.get(ufe)\n",
    "    driver.back()\n",
    "\n",
    "dc5={'codigo': codigo_bpin1, 'vigencia': vigencia1, 'solictado': solictado1, 'inicial':inicial1, 'vigente':vigente1, 'compromiso':compromiso1, 'obligacion':obligacion1, 'pago':pago1, 'av_financiero':av_financiero1, 'av_fisico':av_fisico1, 'av_gestion':av_gestion1} \n",
    "df5=pd.DataFrame(dc5)\n",
    "print(df5)\n",
    "df5.to_csv(resumen_finaciero+'.csv',encoding='utf-8-sig',index=False)\n",
    "\n",
    "dc6={'codigo': codigo_bpin2, 'tipo_entidad': tipo_entidad2, 'entidad': entidad2, 'tipo_recurso':tipo_recurso2, 'vigente':vigente2, 'vigente_aplazamiento':vigente_aplazamiento2, 'compromiso':compromiso2, 'obligacion':obligacion2, 'pago':pago2} \n",
    "df6=pd.DataFrame(dc6)\n",
    "print(df6)\n",
    "df6.to_csv(fuentes_financiacion+'.csv',encoding='utf-8-sig',index=False)\n",
    "\n",
    "dc7={'codigo': codigo_bpin3, 'mes': mes3, 'inversion': inversion3, 'av_financiero': av_financiero3, 'av_fis_producto': av_fis_producto3, 'av_gestion': av_gestion3} \n",
    "df7=pd.DataFrame(dc7)\n",
    "print(df7)\n",
    "df7.to_csv(evolucion_financiera+'.csv',encoding='utf-8-sig',index=False)\n",
    "\n",
    "dc8={'codigo': codigo_bpin4, 'indicador': indicador4, 'peso': peso4, 'meta': meta4, 'avance': avance4, 'cumplimiento': cumplimiento4, 'observacion':observacion4} \n",
    "df8=pd.DataFrame(dc8)\n",
    "print(df8)\n",
    "df8.to_csv(metas_gestion+'.csv',encoding='utf-8-sig',index=False)\n",
    "\n",
    "dc9={'codigo': codigo_bpin5, 'region': region5, 'inversion': inversion5, 'av_financiero': av_financiero5, 'av_fisico': av_fisico5} \n",
    "df9=pd.DataFrame(dc9)\n",
    "print(df9)\n",
    "df9.to_csv(resumen_regional+'.csv',encoding='utf-8-sig',index=False)\n",
    "\n",
    "dc10={'codigo': codigo_bpin6, 'fuente_fin_Dep': fuente_fin_Dep6, 'inicial': inicial6, 'vigente': vigente6, 'compromiso': compromiso6, 'obligacion':obligacion6, 'pago6':pago6} \n",
    "df10=pd.DataFrame(dc10)\n",
    "print(df10)\n",
    "df10.to_csv(regionalizacion_recursos+'.csv',encoding='utf-8-sig',index=False)\n",
    "\n",
    "dc11={'codigo': codigo_bpin7, 'indicador_Dep': indicador_Dep7, 'meta_prog': meta_prog7, 'meta_ano': meta_ano7, 'avance_ano': avance_ano7, 'cumplimiento_ano':cumplimiento_ano7} \n",
    "df11=pd.DataFrame(dc11)\n",
    "print(df11)\n",
    "df11.to_csv(regionalizacion_productos+'.csv',encoding='utf-8-sig',index=False)"
   ]
  },
  {
   "cell_type": "code",
   "execution_count": 9,
   "id": "67cdd60f",
   "metadata": {},
   "outputs": [
    {
     "ename": "NameError",
     "evalue": "name 'region5' is not defined",
     "output_type": "error",
     "traceback": [
      "\u001b[0;31m---------------------------------------------------------------------------\u001b[0m",
      "\u001b[0;31mNameError\u001b[0m                                 Traceback (most recent call last)",
      "Cell \u001b[0;32mIn [9], line 1\u001b[0m\n\u001b[0;32m----> 1\u001b[0m \u001b[38;5;28mlen\u001b[39m(\u001b[43mregion5\u001b[49m)\n",
      "\u001b[0;31mNameError\u001b[0m: name 'region5' is not defined"
     ]
    }
   ],
   "source": [
    "len(region5)"
   ]
  },
  {
   "cell_type": "code",
   "execution_count": 11,
   "id": "cffa2f2c",
   "metadata": {},
   "outputs": [
    {
     "name": "stdout",
     "output_type": "stream",
     "text": [
      "                                      nombre_proyecto  \\\n",
      "0   FORMACIÓN PERMANENTE PARA LOS SERVIDORES DE LA...   \n",
      "1   FORTALECIMIENTO DE LA CAPACIDAD DE ATENCIÓN EN...   \n",
      "2   FORTALECIMIENTO DEL SERVICIO DEL SISTEMA DEL A...   \n",
      "3   MEJORAMIENTO Y MANTENIMIENTO DE LA INFRAESTRUC...   \n",
      "4   SERVICIO DE RESPALDO DE LOS SISTEMAS DE INFORM...   \n",
      "5   MEJORAMIENTO Y RENOVACIÓN DE LA INFRAESTRUCTUR...   \n",
      "6   MEJORAMIENTO DE LA RED ELÉCTRICA Y DE COMUNICA...   \n",
      "7   FORTALECIMIENTO DE LA RED CORPORATIVA DE TELEC...   \n",
      "8   FORTALECIMIENTO DEL CENTRO DE ESTUDIOS EN DEMO...   \n",
      "9   FORTALECIMIENTO DEL SISTEMA DE INFORMACIÓN DE ...   \n",
      "10  IMPLEMENTACIÓN SISTEMA DE GESTIÓN DOCUMENTAL R...   \n",
      "11  Fortalecimiento del Sistema de Servicio al Col...   \n",
      "\n",
      "                                          obj_general  \\\n",
      "0   Fortalecer los conocimientos, técnicas y compe...   \n",
      "1   Identificar a la población víctima y en condic...   \n",
      "2   Optimizar la disponibilidad, seguridad y confi...   \n",
      "3   Mejorar las condiciones de la infraestructura ...   \n",
      "4   Aumentar la disponibilidad de los sistemas de ...   \n",
      "5   Optimizar los sistemas de información para la ...   \n",
      "6   Adecuar la infraestructura de la red lógica y ...   \n",
      "7   Prestar un eficiente servicio al cliente exter...   \n",
      "8   PROMOVER MECANISMOS DE FORMACIÓN Y DIVULGACIÓN...   \n",
      "9   Fortalecer el Sistema de Información de Regist...   \n",
      "10  Brindar eficiente y oportunamente los servicio...   \n",
      "11  Fortalecer el Sistema de Servicio al Colombian...   \n",
      "\n",
      "                                      obj_especificos    codigo_bpin  \\\n",
      "0   OBJETIVO: Aumentar la cobertura en formación p...  2018011000448   \n",
      "1   OBJETIVO: Llegar a la población víctima y en c...  2018011000553   \n",
      "2   OBJETIVO: Fortalecer las herramientas de hardw...  2018011000587   \n",
      "3   OBJETIVO: Adecuar espacios para la prestación ...  2018011000693   \n",
      "4   OBJETIVO: Mejorar el respaldo de la infraestru...  2018011000701   \n",
      "5       OBJETIVO: Disponer de elementos tecnológicos.  2018011000706   \n",
      "6   OBJETIVO: Preservar la infraestructura tecnoló...  2018011000718   \n",
      "7   OBJETIVO: Disponer, asegurar y actualizar la p...  2018011000719   \n",
      "8   OBJETIVO: Fomentar el conocimiento sobre cultu...  2018011000745   \n",
      "9   OBJETIVO: Optimizar la disponibilidad de la ba...  2018011000823   \n",
      "10  OBJETIVO: Aplicar adecuadamente los métodos de...  2018011000846   \n",
      "11  OBJETIVO: Robustecer los recursos tecnológicos...  2020011000108   \n",
      "\n",
      "           sector           entidad                     responsable  \\\n",
      "0   Registraduría  FONREGISTRADURIA   NELSON ALFONSO CAMPO VALENCIA   \n",
      "1   Registraduría  FONREGISTRADURIA  Didier Alberto Chilito Velasco   \n",
      "2   Registraduría  FONREGISTRADURIA         OLGA LUCIA VEGA SEQUEDA   \n",
      "3   Registraduría  FONREGISTRADURIA        Miguel Angel Díaz Moreno   \n",
      "4   Registraduría  FONREGISTRADURIA       Juan Pablo López Sanguino   \n",
      "5   Registraduría  FONREGISTRADURIA   Cesar Augusto Sánchez Sánchez   \n",
      "6   Registraduría  FONREGISTRADURIA     ERICK MANUEL ROSADO BERLIZA   \n",
      "7   Registraduría  FONREGISTRADURIA     ERICK MANUEL ROSADO BERLIZA   \n",
      "8   Registraduría  FONREGISTRADURIA     AURA HELENA PENAS FELIZZOLA   \n",
      "9   Registraduría  FONREGISTRADURIA    Dolly Yurany Gómez Rodríguez   \n",
      "10  Registraduría  FONREGISTRADURIA    Natalia Rodriguez Delgadillo   \n",
      "11  Registraduría  FONREGISTRADURIA  Silvia Lorena González Sánchez   \n",
      "\n",
      "      horizonte      presupuesto control_posterior  seguimiento_de  \\\n",
      "0   2019 - 2023   $2.230.053.000        30/12/2022  Noviembre 2022   \n",
      "1   2019 - 2024   $3.008.778.007        13/12/2022  Noviembre 2022   \n",
      "2   2019 - 2026   $2.948.890.339        30/12/2022  Noviembre 2022   \n",
      "3   2019 - 2023   $4.771.580.128        16/09/2022  Noviembre 2022   \n",
      "4   2019 - 2023   $4.940.983.677        12/12/2022  Noviembre 2022   \n",
      "5   2019 - 2023   $3.654.855.274        29/08/2022  Noviembre 2022   \n",
      "6   2019 - 2023   $3.714.179.073        09/12/2022  Noviembre 2022   \n",
      "7   2019 - 2023  $26.675.157.111        12/12/2022  Noviembre 2022   \n",
      "8   2019 - 2026   $2.230.053.000        28/10/2022  Noviembre 2022   \n",
      "9   2019 - 2024   $2.123.860.000        30/06/2022  Noviembre 2022   \n",
      "10  2019 - 2024   $4.223.900.755        11/07/2022  Noviembre 2022   \n",
      "11  2021 - 2025   $4.688.077.000        13/12/2022  Noviembre 2022   \n",
      "\n",
      "                                                  pnd  \\\n",
      "0   Pacto Por Colombia, Pacto por la Equidad (2019...   \n",
      "1   Pacto Por Colombia, Pacto por la Equidad (2019...   \n",
      "2   Pacto Por Colombia, Pacto por la Equidad (2019...   \n",
      "3   Pacto Por Colombia, Pacto por la Equidad (2019...   \n",
      "4   Pacto Por Colombia, Pacto por la Equidad (2019...   \n",
      "5   Pacto Por Colombia, Pacto por la Equidad (2019...   \n",
      "6   Pacto Por Colombia, Pacto por la Equidad (2019...   \n",
      "7   Pacto Por Colombia, Pacto por la Equidad (2019...   \n",
      "8   Pacto Por Colombia, Pacto por la Equidad (2019...   \n",
      "9   Pacto Por Colombia, Pacto por la Equidad (2019...   \n",
      "10  Pacto Por Colombia, Pacto por la Equidad (2019...   \n",
      "11  Pacto Por Colombia, Pacto por la Equidad (2019...   \n",
      "\n",
      "                                             programa av_fisico av_financiero  \\\n",
      "0   Fortalecimiento de la gestión y dirección del ...    87,00%         0,00%   \n",
      "1   Identificación y registro del estado civil de ...     2,00%        94,08%   \n",
      "2   Identificación y registro del estado civil de ...    90,00%        68,78%   \n",
      "3   Fortalecimiento de la gestión y dirección del ...     0,00%         4,92%   \n",
      "4   Fortalecimiento de la gestión y dirección del ...    92,00%        60,79%   \n",
      "5   Fortalecimiento de la gestión y dirección del ...     0,00%         0,00%   \n",
      "6   Fortalecimiento de la gestión y dirección del ...   100,00%        60,66%   \n",
      "7   Fortalecimiento de la gestión y dirección del ...   100,00%        73,54%   \n",
      "8         Procesos democráticos y asuntos electorales    84,00%        98,57%   \n",
      "9   Identificación y registro del estado civil de ...    22,00%        76,19%   \n",
      "10  Fortalecimiento de la gestión y dirección del ...     0,00%        82,34%   \n",
      "11  Fortalecimiento de la gestión y dirección del ...    63,00%        71,88%   \n",
      "\n",
      "   av_gestion  \n",
      "0      80,71%  \n",
      "1      35,60%  \n",
      "2      94,50%  \n",
      "3      39,00%  \n",
      "4      91,40%  \n",
      "5       0,00%  \n",
      "6      64,00%  \n",
      "7     100,00%  \n",
      "8     100,00%  \n",
      "9      90,00%  \n",
      "10    100,00%  \n",
      "11     92,00%  \n"
     ]
    }
   ],
   "source": [
    "dc4={'nombre_proyecto': nombre_proyecto, 'obj_general': obj_general, 'obj_especificos': obj_especificos, 'codigo_bpin':codigo_bpin,'sector':sector,'entidad':entidad,'responsable':responsable,'horizonte':horizonte,'presupuesto':presupuesto,'control_posterior':control_posterior,'seguimiento_de':seguimiento_de,'pnd':pnd,'programa':programa,'av_fisico':av_fisico,'av_financiero':av_financiero,'av_gestion':av_gestion} \n",
    "df4=pd.DataFrame(dc4)\n",
    "print(df4)"
   ]
  },
  {
   "cell_type": "code",
   "execution_count": 12,
   "id": "ccd42076",
   "metadata": {},
   "outputs": [],
   "source": [
    "df4.to_csv(seguimiento_de[0]+'.csv',encoding='utf-8-sig',index=False)"
   ]
  },
  {
   "cell_type": "code",
   "execution_count": 3,
   "id": "be308d1f",
   "metadata": {},
   "outputs": [],
   "source": [
    "table_fue_fin=driver.find_element(\"xpath\",'//*[@id=\"Content2_GVSrecursos\"]')\n",
    "rowsff=table_fue_fin.find_elements(By.TAG_NAME, \"tr\")\n"
   ]
  },
  {
   "cell_type": "code",
   "execution_count": 4,
   "id": "92598a1a",
   "metadata": {},
   "outputs": [],
   "source": [
    "i=rowsff[1].find_elements(By.TAG_NAME,\"td\")"
   ]
  },
  {
   "cell_type": "code",
   "execution_count": 10,
   "id": "0f5ff13c",
   "metadata": {},
   "outputs": [
    {
     "name": "stdout",
     "output_type": "stream",
     "text": [
      "280200-FONDO ROTATORIO DE LA REGISTRADURÍA\n"
     ]
    }
   ],
   "source": [
    "print(rowsff[1].find_elements(By.TAG_NAME,\"td\")[1].text)"
   ]
  },
  {
   "cell_type": "code",
   "execution_count": 8,
   "id": "e156482d",
   "metadata": {},
   "outputs": [
    {
     "data": {
      "text/plain": [
       "5"
      ]
     },
     "execution_count": 8,
     "metadata": {},
     "output_type": "execute_result"
    }
   ],
   "source": [
    "len(rowsff)"
   ]
  },
  {
   "cell_type": "code",
   "execution_count": 14,
   "id": "a5809f5a",
   "metadata": {},
   "outputs": [
    {
     "data": {
      "text/plain": [
       "6"
      ]
     },
     "execution_count": 14,
     "metadata": {},
     "output_type": "execute_result"
    }
   ],
   "source": [
    "ii=i[7].find_elements(By.TAG_NAME,\"span\")\n",
    "len(ii)"
   ]
  },
  {
   "cell_type": "code",
   "execution_count": 36,
   "id": "d8af05b1",
   "metadata": {},
   "outputs": [],
   "source": [
    "p==0\n",
    "pp=driver.find_element(\"xpath\",'//*[@id=\"ContentPlaceHolder1_dtlDatos_dtgDatos_0_LinkButton1_'+str(p)+'\"]')\n",
    "pp.click()\n",
    "time.sleep(5)"
   ]
  },
  {
   "cell_type": "code",
   "execution_count": 22,
   "id": "f3e420d2",
   "metadata": {},
   "outputs": [],
   "source": [
    "table_evo_fin=driver.find_element(\"xpath\",'//*[@id=\"Content2_GVResumenAvance\"]')\n",
    "rowsef=table_evo_fin.find_elements(By.TAG_NAME, \"tr\")"
   ]
  },
  {
   "cell_type": "code",
   "execution_count": 26,
   "id": "cd95e74c",
   "metadata": {},
   "outputs": [],
   "source": [
    "i=rowsef[0].find_elements(By.TAG_NAME,\"th\")"
   ]
  },
  {
   "cell_type": "code",
   "execution_count": 27,
   "id": "8170dcc9",
   "metadata": {},
   "outputs": [
    {
     "data": {
      "text/plain": [
       "13"
      ]
     },
     "execution_count": 27,
     "metadata": {},
     "output_type": "execute_result"
    }
   ],
   "source": [
    "len(i)"
   ]
  },
  {
   "cell_type": "code",
   "execution_count": null,
   "id": "00a1130f",
   "metadata": {},
   "outputs": [],
   "source": [
    "\n",
    "    for x in range(0,len(rowsef)):\n",
    "        i=rowsef[x].find_elements(By.TAG_NAME,\"td\")\n",
    "        codigo_bpin3.append(cod_bpin)\n",
    "        if x==0:\n",
    "            i=rowsef[x].find_elements(By.TAG_NAME,\"th\")\n",
    "            for n in range(1,len(i)):\n",
    "                mes3.append(i[n].text)\n",
    "        if x==1:\n",
    "            for n in range(1,len(i)):\n",
    "                inversion3.append(i[n].text)\n",
    "        if x==2:\n",
    "            for n in range(1,len(i)):\n",
    "                av_financiero3.append(i[n].text)\n",
    "        if x==3:\n",
    "            for n in range(1,len(i)):\n",
    "                av_fis_producto3.append(i[n].text)\n",
    "        if x==4:\n",
    "            for n in range(1,len(i)):\n",
    "                av_gestion3.append(i[n].text)\n"
   ]
  },
  {
   "cell_type": "code",
   "execution_count": 74,
   "id": "703eda09",
   "metadata": {},
   "outputs": [
    {
     "name": "stdout",
     "output_type": "stream",
     "text": [
      "          codigo  vigencia      solictado        inicial        vigente  \\\n",
      "0  2020011000108  2021-Dic  4.200.000.000  4.200.000.000  4.200.000.000   \n",
      "1  2020011000108  2022-Nov  4.688.077.000  4.688.077.000  4.688.077.000   \n",
      "2  2020011000108      2023  4.743.649.291              0              0   \n",
      "3  2020011000108      2024  4.980.831.756              0              0   \n",
      "4  2020011000108      2025  5.229.873.343              0              0   \n",
      "\n",
      "      compromiso    obligac<ion           pago av_financiero av_fisico  \\\n",
      "0  3.446.543.044    173.963.484    173.963.484         4,14%   100,00%   \n",
      "1  4.678.769.300  3.369.772.930  3.369.772.930        71,88%    63,00%   \n",
      "2              0              0              0         0,00%     0,00%   \n",
      "3              0              0              0         0,00%     0,00%   \n",
      "4              0              0              0         0,00%     0,00%   \n",
      "\n",
      "      av_gestion  \n",
      "0    173.963.484  \n",
      "1  3.369.772.930  \n",
      "2              0  \n",
      "3              0  \n",
      "4              0  \n"
     ]
    }
   ],
   "source": [
    "dc5={'codigo': codigo_bpin1, 'vigencia': vigencia1, 'solictado': solictado1, 'inicial':inicial1, 'vigente':vigente1, 'compromiso':compromiso1, 'obligac<ion':obligacion1, 'pago':pago1, 'av_financiero':av_financiero1, 'av_fisico':av_fisico1, 'av_gestion':av_gestion1} \n",
    "df5=pd.DataFrame(dc5)\n",
    "print(df5)"
   ]
  },
  {
   "cell_type": "code",
   "execution_count": 73,
   "id": "7f1394c7",
   "metadata": {},
   "outputs": [
    {
     "data": {
      "text/plain": [
       "5"
      ]
     },
     "execution_count": 73,
     "metadata": {},
     "output_type": "execute_result"
    }
   ],
   "source": [
    "len(codigo_bpin1)"
   ]
  },
  {
   "cell_type": "code",
   "execution_count": null,
   "id": "9f3f622b",
   "metadata": {},
   "outputs": [],
   "source": []
  }
 ],
 "metadata": {
  "kernelspec": {
   "display_name": "scrapspi",
   "language": "python",
   "name": "scrapspi"
  },
  "language_info": {
   "codemirror_mode": {
    "name": "ipython",
    "version": 3
   },
   "file_extension": ".py",
   "mimetype": "text/x-python",
   "name": "python",
   "nbconvert_exporter": "python",
   "pygments_lexer": "ipython3",
   "version": "3.10.6"
  }
 },
 "nbformat": 4,
 "nbformat_minor": 5
}
