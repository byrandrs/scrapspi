{
 "cells": [
  {
   "cell_type": "code",
   "execution_count": 5,
   "id": "075a1257",
   "metadata": {},
   "outputs": [],
   "source": [
    "html=request.urlopen(url).read()"
   ]
  },
  {
   "cell_type": "code",
   "execution_count": null,
   "id": "101a8b32",
   "metadata": {},
   "outputs": [],
   "source": [
    "response=requests.get(url)\n",
    "publicaciones = json.loads(response.text)"
   ]
  },
  {
   "cell_type": "code",
   "execution_count": null,
   "id": "75c1196d",
   "metadata": {
    "scrolled": true
   },
   "outputs": [],
   "source": [
    "html=request.urlopen(url).read()\n",
    "publicaciones = json.loads(html)"
   ]
  },
  {
   "cell_type": "code",
   "execution_count": null,
   "id": "d9f3023c",
   "metadata": {
    "scrolled": false
   },
   "outputs": [],
   "source": [
    "html"
   ]
  },
  {
   "cell_type": "code",
   "execution_count": 1,
   "id": "f08e6705",
   "metadata": {},
   "outputs": [],
   "source": [
    "import time\n",
    "from selenium import webdriver\n",
    "from selenium.webdriver.support.ui import Select\n",
    "from bs4 import BeautifulSoup as bs\n",
    "from urllib import request\n",
    "import requests"
   ]
  },
  {
   "cell_type": "code",
   "execution_count": 2,
   "id": "f741362c",
   "metadata": {},
   "outputs": [
    {
     "name": "stderr",
     "output_type": "stream",
     "text": [
      "/tmp/ipykernel_39021/1976057954.py:2: DeprecationWarning: executable_path has been deprecated, please pass in a Service object\n",
      "  driver = webdriver.Chrome('./chromedriver')\n"
     ]
    }
   ],
   "source": [
    "url=\"https://sts.dnp.gov.co/login.aspx?ReturnUrl=%2f%3fwa%3dwsignin1.0%26wtrealm%3dhttps%253a%252f%252fspi.dnp.gov.co%252f%26wctx%3drm%253d0%2526id%253dpassive%2526ru%253d%25252f%26wct%3d2022-12-07T16%253a46%253a59Z&wa=wsignin1.0&wtrealm=https%3a%2f%2fspi.dnp.gov.co%2f&wctx=rm%3d0%26id%3dpassive%26ru%3d%252f&wct=2022-12-07T16%3a46%3a59Z\"\n",
    "driver = webdriver.Chrome('./chromedriver')\n",
    "driver.get(url)"
   ]
  },
  {
   "cell_type": "code",
   "execution_count": 3,
   "id": "cda57d4e",
   "metadata": {},
   "outputs": [],
   "source": [
    "btn_user_ano=driver.find_element(\"xpath\",'//*[@id=\"linkAnonymousUser\"]')\n",
    "btn_user_ano.click()\n",
    "time.sleep(5)\n",
    "btn_consulta=driver.find_element(\"xpath\",'//*[@id=\"MenuSuperior2_Repeater1_Label1_0\"]')\n",
    "btn_consulta.click()"
   ]
  },
  {
   "cell_type": "code",
   "execution_count": 15,
   "id": "39f7aa64",
   "metadata": {},
   "outputs": [],
   "source": [
    "btn_consulta=driver.find_element(\"xpath\",'//*[@id=\"MenuSuperior2_Repeater1_Label1_0\"]')\n",
    "btn_consulta.click()"
   ]
  },
  {
   "cell_type": "code",
   "execution_count": 17,
   "id": "e9dbfc80",
   "metadata": {},
   "outputs": [],
   "source": [
    "btn_entidad=driver.find_element(\"xpath\",'//*[@id=\"Menu1_Repeater1_Label1_2\"]')\n",
    "btn_entidad.click()"
   ]
  },
  {
   "cell_type": "code",
   "execution_count": 18,
   "id": "f757cdcd",
   "metadata": {},
   "outputs": [],
   "source": [
    "btn_porentidad=driver.find_element(\"xpath\",'//*[@id=\"Menu1_Repeater1_Repeater2_2_HyperLink1_0\"]')\n",
    "btn_porentidad.click()"
   ]
  },
  {
   "cell_type": "code",
   "execution_count": 20,
   "id": "9110b8e8",
   "metadata": {},
   "outputs": [],
   "source": []
  },
  {
   "cell_type": "code",
   "execution_count": 104,
   "id": "4a456422",
   "metadata": {},
   "outputs": [],
   "source": [
    "select = Select(driver.find_element(\"xpath\",'//*[@id=\"ContentPlaceHolder1_cboSector\"]'))\n",
    "select.select_by_visible_text(\"Registraduría\")\n",
    "time.sleep(5)\n"
   ]
  },
  {
   "cell_type": "code",
   "execution_count": 105,
   "id": "2f048514",
   "metadata": {},
   "outputs": [],
   "source": [
    "select1=Select(driver.find_element(\"xpath\",'//*[@id=\"ContentPlaceHolder1_cboEntidad\"]'))\n",
    "select1.select_by_visible_text(\"FONREGISTRADURIA - FONDO ROTATORIO DE LA REGISTRADURIA\")"
   ]
  },
  {
   "cell_type": "code",
   "execution_count": 29,
   "id": "4c9b17e5",
   "metadata": {},
   "outputs": [],
   "source": []
  },
  {
   "cell_type": "code",
   "execution_count": 106,
   "id": "a56e808a",
   "metadata": {},
   "outputs": [],
   "source": [
    "btn_search=driver.find_element(\"xpath\",'//*[@id=\"ContentPlaceHolder1_imgBuscar\"]')\n",
    "btn_search.click()"
   ]
  },
  {
   "cell_type": "code",
   "execution_count": 107,
   "id": "a61304ab",
   "metadata": {},
   "outputs": [],
   "source": [
    "table1=driver.find_element(\"xpath\",'//*[@id=\"ContentPlaceHolder1_grvResultados\"]')"
   ]
  },
  {
   "cell_type": "code",
   "execution_count": 44,
   "id": "436e4106",
   "metadata": {},
   "outputs": [],
   "source": [
    "from selenium.webdriver.common.by import By"
   ]
  },
  {
   "cell_type": "code",
   "execution_count": 87,
   "id": "f6b7ca61",
   "metadata": {},
   "outputs": [],
   "source": [
    "rows=table1.find_elements(By.TAG_NAME, \"tr\")"
   ]
  },
  {
   "cell_type": "code",
   "execution_count": 50,
   "id": "5905f28a",
   "metadata": {},
   "outputs": [
    {
     "data": {
      "text/plain": [
       "<selenium.webdriver.remote.webelement.WebElement (session=\"41fd5b4905ccca95168a3a21498f0838\", element=\"abe07ee0-398e-4ad3-8f36-3ddbfd2ce79d\")>"
      ]
     },
     "execution_count": 50,
     "metadata": {},
     "output_type": "execute_result"
    }
   ],
   "source": [
    "rows[0]"
   ]
  },
  {
   "cell_type": "code",
   "execution_count": 52,
   "id": "80697bbf",
   "metadata": {},
   "outputs": [
    {
     "name": "stdout",
     "output_type": "stream",
     "text": [
      "Categoría\n",
      "No. Proyectos\n",
      "Inversión\n",
      "Avance\n",
      "Financiero\n",
      "Avance Físico del Producto\n",
      "Avance Gestión\n",
      "Evolución\n"
     ]
    }
   ],
   "source": [
    "for i in rows[0].find_elements(By.TAG_NAME, \"th\"):\n",
    "    print(i.text)"
   ]
  },
  {
   "cell_type": "code",
   "execution_count": 88,
   "id": "7c9f8e98",
   "metadata": {},
   "outputs": [],
   "source": [
    "categoria=[]\n",
    "no_proyectos=[]\n",
    "inversion=[]\n",
    "av_financiero=[]\n",
    "av_fis_producto=[]\n",
    "av_gestion=[]\n",
    "\n",
    "del rows[0]\n",
    "\n",
    "\n",
    "    "
   ]
  },
  {
   "cell_type": "code",
   "execution_count": 79,
   "id": "b4c7b3dd",
   "metadata": {},
   "outputs": [
    {
     "data": {
      "text/plain": [
       "3"
      ]
     },
     "execution_count": 79,
     "metadata": {},
     "output_type": "execute_result"
    }
   ],
   "source": [
    "len(rows)-1"
   ]
  },
  {
   "cell_type": "code",
   "execution_count": 89,
   "id": "8ed528b4",
   "metadata": {},
   "outputs": [
    {
     "name": "stdout",
     "output_type": "stream",
     "text": [
      "0\n",
      "1\n",
      "2\n",
      "3\n"
     ]
    }
   ],
   "source": [
    "for x in range(0,len(rows)):\n",
    "    print(x)\n",
    "    i=rows[x].find_elements(By.TAG_NAME,\"td\")\n",
    "    categoria.append(i[0].text)\n",
    "    no_proyectos.append(i[1].text)\n",
    "    inversion.append(i[2].text)\n",
    "    av_financiero.append(i[3].text)\n",
    "    av_fis_producto.append(i[4].text)\n",
    "    av_gestion.append(i[5].text)"
   ]
  },
  {
   "cell_type": "code",
   "execution_count": 85,
   "id": "d2af2324",
   "metadata": {},
   "outputs": [],
   "source": [
    "import pandas as pd"
   ]
  },
  {
   "cell_type": "code",
   "execution_count": 90,
   "id": "defd7dce",
   "metadata": {},
   "outputs": [
    {
     "data": {
      "text/html": [
       "<div>\n",
       "<style scoped>\n",
       "    .dataframe tbody tr th:only-of-type {\n",
       "        vertical-align: middle;\n",
       "    }\n",
       "\n",
       "    .dataframe tbody tr th {\n",
       "        vertical-align: top;\n",
       "    }\n",
       "\n",
       "    .dataframe thead th {\n",
       "        text-align: right;\n",
       "    }\n",
       "</style>\n",
       "<table border=\"1\" class=\"dataframe\">\n",
       "  <thead>\n",
       "    <tr style=\"text-align: right;\">\n",
       "      <th></th>\n",
       "      <th>categoria</th>\n",
       "      <th>no_prouyectos</th>\n",
       "      <th>inversion</th>\n",
       "      <th>avance</th>\n",
       "      <th>financiero</th>\n",
       "      <th>av_fis_producto</th>\n",
       "      <th>av_gestion</th>\n",
       "    </tr>\n",
       "  </thead>\n",
       "  <tbody>\n",
       "    <tr>\n",
       "      <th>0</th>\n",
       "      <td>Fortalecimiento de la gestión y dirección del ...</td>\n",
       "      <td>8</td>\n",
       "      <td>$54.898.786.018</td>\n",
       "      <td>58,2%</td>\n",
       "      <td>72,6 %</td>\n",
       "      <td>72,6 %</td>\n",
       "      <td>83,4 %</td>\n",
       "    </tr>\n",
       "    <tr>\n",
       "      <th>1</th>\n",
       "      <td>Identificación y registro del estado civil de ...</td>\n",
       "      <td>3</td>\n",
       "      <td>$8.081.528.346</td>\n",
       "      <td>80,1%</td>\n",
       "      <td>39,4 %</td>\n",
       "      <td>39,4 %</td>\n",
       "      <td>71,4 %</td>\n",
       "    </tr>\n",
       "    <tr>\n",
       "      <th>2</th>\n",
       "      <td>Procesos democráticos y asuntos electorales</td>\n",
       "      <td>1</td>\n",
       "      <td>$2.230.053.000</td>\n",
       "      <td>98,6%</td>\n",
       "      <td>84,0 %</td>\n",
       "      <td>84,0 %</td>\n",
       "      <td>100,0 %</td>\n",
       "    </tr>\n",
       "    <tr>\n",
       "      <th>3</th>\n",
       "      <td>TOTAL</td>\n",
       "      <td>12</td>\n",
       "      <td>$65.210.367.364</td>\n",
       "      <td>62,3%</td>\n",
       "      <td>68,8 %</td>\n",
       "      <td>68,8 %</td>\n",
       "      <td>82,5 %</td>\n",
       "    </tr>\n",
       "  </tbody>\n",
       "</table>\n",
       "</div>"
      ],
      "text/plain": [
       "                                           categoria no_prouyectos  \\\n",
       "0  Fortalecimiento de la gestión y dirección del ...             8   \n",
       "1  Identificación y registro del estado civil de ...             3   \n",
       "2        Procesos democráticos y asuntos electorales             1   \n",
       "3                                              TOTAL            12   \n",
       "\n",
       "         inversion avance financiero av_fis_producto av_gestion  \n",
       "0  $54.898.786.018  58,2%     72,6 %          72,6 %     83,4 %  \n",
       "1   $8.081.528.346  80,1%     39,4 %          39,4 %     71,4 %  \n",
       "2   $2.230.053.000  98,6%     84,0 %          84,0 %    100,0 %  \n",
       "3  $65.210.367.364  62,3%     68,8 %          68,8 %     82,5 %  "
      ]
     },
     "execution_count": 90,
     "metadata": {},
     "output_type": "execute_result"
    }
   ],
   "source": [
    "dc1={'categoria': categoria, 'no_proyectos': no_proyectos, 'inversion': inversion, 'avance': avance, 'financiero': financiero, 'av_fis_producto': av_fis_producto,'av_gestion': av_gestion} \n",
    "df1=pd.DataFrame(dc1)\n",
    "df1"
   ]
  },
  {
   "cell_type": "code",
   "execution_count": 108,
   "id": "c8ad9ca9",
   "metadata": {},
   "outputs": [
    {
     "data": {
      "text/plain": [
       "'//*[@id=\"ContentPlaceHolder1_grvResultados_LkbSubatributo_0\"]'"
      ]
     },
     "execution_count": 108,
     "metadata": {},
     "output_type": "execute_result"
    }
   ],
   "source": [
    "link1='//*[@id=\"ContentPlaceHolder1_grvResultados_LkbSubatributo_'+str(0)+'\"]'\n",
    "link1"
   ]
  },
  {
   "cell_type": "code",
   "execution_count": 109,
   "id": "bda035a5",
   "metadata": {},
   "outputs": [],
   "source": [
    "pr1=table1.find_element(By.XPATH, link1)"
   ]
  },
  {
   "cell_type": "code",
   "execution_count": 110,
   "id": "66201a9c",
   "metadata": {},
   "outputs": [],
   "source": [
    "pr1.click()"
   ]
  },
  {
   "cell_type": "code",
   "execution_count": null,
   "id": "6f4e7263",
   "metadata": {},
   "outputs": [],
   "source": [
    "//*[@id=\"ContentPlaceHolder1_grvResultados_LkbSubatributo_1\"]"
   ]
  },
  {
   "cell_type": "code",
   "execution_count": null,
   "id": "a2d16fa1",
   "metadata": {},
   "outputs": [],
   "source": []
  },
  {
   "cell_type": "code",
   "execution_count": 1,
   "id": "ffdc9ddb",
   "metadata": {
    "scrolled": true
   },
   "outputs": [
    {
     "name": "stdout",
     "output_type": "stream",
     "text": [
      "           codigo                                             nombre  \\\n",
      "0   2018011000448  FORMACIÓN PERMANENTE PARA LOS SERVIDORES DE LA...   \n",
      "1   2018011000553  FORTALECIMIENTO DE LA CAPACIDAD DE ATENCIÓN EN...   \n",
      "2   2018011000587  FORTALECIMIENTO DEL SERVICIO DEL SISTEMA DEL A...   \n",
      "3   2018011000693  MEJORAMIENTO Y MANTENIMIENTO DE LA INFRAESTRUC...   \n",
      "4   2018011000701  SERVICIO DE RESPALDO DE LOS SISTEMAS DE INFORM...   \n",
      "5   2018011000706  MEJORAMIENTO Y RENOVACIÓN DE LA INFRAESTRUCTUR...   \n",
      "6   2018011000718  MEJORAMIENTO DE LA RED ELÉCTRICA Y DE COMUNICA...   \n",
      "7   2018011000719  FORTALECIMIENTO DE LA RED CORPORATIVA DE TELEC...   \n",
      "8   2018011000745  FORTALECIMIENTO DEL CENTRO DE ESTUDIOS EN DEMO...   \n",
      "9   2018011000823  FORTALECIMIENTO DEL SISTEMA DE INFORMACIÓN DE ...   \n",
      "10  2018011000846  IMPLEMENTACIÓN SISTEMA DE GESTIÓN DOCUMENTAL R...   \n",
      "11  2020011000108  Fortalecimiento del Sistema de Servicio al Col...   \n",
      "\n",
      "   av_financiero  \n",
      "0         0,00 %  \n",
      "1        94,08 %  \n",
      "2        31,73 %  \n",
      "3         4,44 %  \n",
      "4        47,72 %  \n",
      "5         0,00 %  \n",
      "6        48,81 %  \n",
      "7        65,13 %  \n",
      "8        97,85 %  \n",
      "9        44,10 %  \n",
      "10       52,73 %  \n",
      "11       51,48 %  \n"
     ]
    }
   ],
   "source": [
    "import time\n",
    "from selenium import webdriver\n",
    "from selenium.webdriver.chrome.service import Service\n",
    "from webdriver_manager.chrome import ChromeDriverManager\n",
    "from selenium.webdriver.support.ui import Select\n",
    "from selenium.webdriver.common.by import By\n",
    "from selenium.webdriver.chrome.options import Options\n",
    "from bs4 import BeautifulSoup as bs\n",
    "from urllib import request\n",
    "import requests\n",
    "import pandas as pd\n",
    "\n",
    "\n",
    "\n",
    "chrome_options=Options()\n",
    "chrome_options = webdriver.ChromeOptions()\n",
    "chrome_options.add_experimental_option(\"prefs\",{\"download.default_directory\":\"/home/hans-sanchez/Documents/scrapspi\",})\n",
    "#chrome_options.add_argument(\"start-maximized\")\n",
    "#chrome_options.add_argument('--headless')\n",
    "chrome_options.add_argument('--window-size=1420,1080')\n",
    "chrome_options.add_argument('--disable-dev-shm-usage')\n",
    "chrome_options.add_argument('--disable-gpu')\n",
    "chrome_options.add_argument(\"--disable-notifications\")\n",
    "chrome_options.add_argument(\"--remote-debugging-port=9222\")\n",
    "chrome_options.add_experimental_option(\"excludeSwitches\", [\"enable-automation\"])\n",
    "chrome_options.add_experimental_option('useAutomationExtension', False)\n",
    "chrome_options.add_experimental_option(\"excludeSwitches\", [\"disable-popup-blocking\"])\n",
    "\n",
    "#chrome_options.add_argument('--no-sandbox')\n",
    "#chrome_options.add_argument('--disable-dev-shm-usage')\n",
    "\n",
    "url=\"https://sts.dnp.gov.co/login.aspx?ReturnUrl=%2f%3fwa%3dwsignin1.0%26wtrealm%3dhttps%253a%252f%252fspi.dnp.gov.co%252f%26wctx%3drm%253d0%2526id%253dpassive%2526ru%253d%25252f%26wct%3d2022-12-07T16%253a46%253a59Z&wa=wsignin1.0&wtrealm=https%3a%2f%2fspi.dnp.gov.co%2f&wctx=rm%3d0%26id%3dpassive%26ru%3d%252f&wct=2022-12-07T16%3a46%3a59Z\"\n",
    "#driver = webdriver.Chrome('./chromedriver')\n",
    "#driver = webdriver.Chrome('./chromedriver',chrome_options=chrome_options)\n",
    "driver=webdriver.Chrome(service=Service(ChromeDriverManager().install()),options=chrome_options)\n",
    "driver.get(url)\n",
    "\n",
    "time.sleep(5)\n",
    "btn_user_ano=driver.find_element(By.XPATH,'//*[@id=\"linkAnonymousUser\"]')\n",
    "btn_user_ano.click()\n",
    "\n",
    "\"\"\"btn_consulta=driver.find_element(\"xpath\",'//*[@id=\"MenuSuperior2_Repeater1_Label1_0\"]')\n",
    "btn_consulta.click()\n",
    "btn_entidad=driver.find_element(\"xpath\",'//*[@id=\"Menu1_Repeater1_Label1_2\"]')\n",
    "btn_entidad.click()\n",
    "btn_porentidad=driver.find_element(\"xpath\",'//*[@id=\"Menu1_Repeater1_Repeater2_2_HyperLink1_0\"]')\n",
    "btn_porentidad.click()\n",
    "\n",
    "select = Select(driver.find_element(\"xpath\",'//*[@id=\"ContentPlaceHolder1_cboSector\"]'))\n",
    "select.select_by_visible_text(\"Registraduría\")\n",
    "time.sleep(5)\n",
    "select1=Select(driver.find_element(\"xpath\",'//*[@id=\"ContentPlaceHolder1_cboEntidad\"]'))\n",
    "select1.select_by_visible_text(\"FONREGISTRADURIA - FONDO ROTATORIO DE LA REGISTRADURIA\")\n",
    "btn_search=driver.find_element(\"xpath\",'//*[@id=\"ContentPlaceHolder1_imgBuscar\"]')\n",
    "btn_search.click()\n",
    "time.sleep(5)\n",
    "\n",
    "print(\"Llego a la consulta 1.....\")\n",
    "\n",
    "\n",
    "table1=driver.find_element(\"xpath\",'//*[@id=\"ContentPlaceHolder1_grvResultados\"]')\n",
    "\n",
    "\n",
    "rows=table1.find_elements(By.TAG_NAME, \"tr\")\n",
    "\n",
    "categoria=[]\n",
    "no_proyectos=[]\n",
    "inversion=[]\n",
    "av_financiero=[]\n",
    "av_fis_producto=[]\n",
    "av_gestion=[]\n",
    "del rows[0]\n",
    "\n",
    "for x in range(0,len(rows)):\n",
    "    i=rows[x].find_elements(By.TAG_NAME,\"td\")\n",
    "    categoria.append(i[0].text)\n",
    "    no_proyectos.append(i[1].text)\n",
    "    inversion.append(i[2].text)\n",
    "    av_financiero.append(i[3].text)\n",
    "    av_fis_producto.append(i[4].text)\n",
    "    av_gestion.append(i[5].text)\n",
    "\n",
    "dc1={'categoria': categoria, 'no_proyectos': no_proyectos, 'inversion': inversion, 'av_financiero': av_financiero, 'av_fis_producto': av_fis_producto, 'av_fis_producto': av_fis_producto,'av_gestion': av_gestion} \n",
    "df1=pd.DataFrame(dc1)\n",
    "print(df1)\n",
    "\n",
    "table2=driver.find_element(\"xpath\",'//*[@id=\"ContentPlaceHolder1_GraficaEvolucionFyGEntidad_TablaDatos\"]')\n",
    "rows2=table2.find_elements(By.TAG_NAME, \"tr\")\n",
    "\n",
    "mes=[]\n",
    "inversion=[]\n",
    "av_financiero=[]\n",
    "av_fis_producto=[]\n",
    "av_gestion=[]\n",
    "\n",
    "for x in range(0,len(rows2)):\n",
    "    i=rows2[x].find_elements(By.TAG_NAME,\"td\")\n",
    "    if x==0:\n",
    "        for n in range(1,len(i)):\n",
    "            mes.append(i[n].text)\n",
    "    if x==1:\n",
    "        for n in range(1,len(i)):\n",
    "            inversion.append(i[n].text)\n",
    "    if x==2:\n",
    "        for n in range(1,len(i)):\n",
    "            av_financiero.append(i[n].text)\n",
    "    if x==3:\n",
    "        for n in range(1,len(i)):\n",
    "            av_fis_producto.append(i[n].text)\n",
    "    if x==4:\n",
    "        for n in range(1,len(i)):\n",
    "            av_gestion.append(i[n].text)\n",
    "\n",
    "dc2={'mes': mes, 'inversion': inversion, 'av_financiero': av_financiero, 'av_fis_producto': av_fis_producto, 'av_gestion': av_gestion} \n",
    "df2=pd.DataFrame(dc2)\n",
    "print(df2)\n",
    "\n",
    "\n",
    "\n",
    "p1=driver.find_element(\"xpath\",'//*[@id=\"ContentPlaceHolder1_grvResultados_LkbSubatributo_0\"]')\n",
    "p1.click()\n",
    "time.sleep(5)\n",
    "\n",
    "select = Select(driver.find_element(\"xpath\",'//*[@id=\"ContentPlaceHolder1_cboSubatributo\"]'))\n",
    "select.select_by_visible_text(\"(Todos los SubAtributos)\")\n",
    "btn_search=driver.find_element(\"xpath\",'//*[@id=\"ContentPlaceHolder1_imgBuscar\"]')\n",
    "btn_search.click()\n",
    "time.sleep(5)\"\"\""
   ]
  },
  {
   "cell_type": "code",
   "execution_count": 9,
   "id": "88943acb",
   "metadata": {},
   "outputs": [
    {
     "name": "stdout",
     "output_type": "stream",
     "text": [
      "           codigo                                             nombre  \\\n",
      "0   2018011000448  FORMACIÓN PERMANENTE PARA LOS SERVIDORES DE LA...   \n",
      "1   2018011000553  FORTALECIMIENTO DE LA CAPACIDAD DE ATENCIÓN EN...   \n",
      "2   2018011000587  FORTALECIMIENTO DEL SERVICIO DEL SISTEMA DEL A...   \n",
      "3   2018011000693  MEJORAMIENTO Y MANTENIMIENTO DE LA INFRAESTRUC...   \n",
      "4   2018011000701  SERVICIO DE RESPALDO DE LOS SISTEMAS DE INFORM...   \n",
      "5   2018011000706  MEJORAMIENTO Y RENOVACIÓN DE LA INFRAESTRUCTUR...   \n",
      "6   2018011000718  MEJORAMIENTO DE LA RED ELÉCTRICA Y DE COMUNICA...   \n",
      "7   2018011000719  FORTALECIMIENTO DE LA RED CORPORATIVA DE TELEC...   \n",
      "8   2018011000745  FORTALECIMIENTO DEL CENTRO DE ESTUDIOS EN DEMO...   \n",
      "9   2018011000823  FORTALECIMIENTO DEL SISTEMA DE INFORMACIÓN DE ...   \n",
      "10  2018011000846  IMPLEMENTACIÓN SISTEMA DE GESTIÓN DOCUMENTAL R...   \n",
      "11  2020011000108  Fortalecimiento del Sistema de Servicio al Col...   \n",
      "\n",
      "   av_financiero  \n",
      "0         0,00 %  \n",
      "1        94,08 %  \n",
      "2        68,78 %  \n",
      "3         4,92 %  \n",
      "4        60,79 %  \n",
      "5         0,00 %  \n",
      "6        60,66 %  \n",
      "7        73,54 %  \n",
      "8        98,57 %  \n",
      "9        76,19 %  \n",
      "10       82,34 %  \n",
      "11       71,88 %  \n"
     ]
    }
   ],
   "source": [
    "url=\"https://spi.dnp.gov.co/Consultas/ConsultaProyectos.aspx?Vigencia=2022&Periodo=11&Sector=28&Entidad=280200\"\n",
    "#driver = webdriver.Chrome('./chromedriver',chrome_options=chrome_options)\n",
    "driver.get(url)\n",
    "\n",
    "table3=driver.find_element(\"xpath\",'//*[@id=\"ContentPlaceHolder1_dtlDatos_dtgDatos_0\"]')\n",
    "rows3=table3.find_elements(By.TAG_NAME, \"tr\")\n",
    "\n",
    "codigo=[]\n",
    "nombre=[]\n",
    "av_financiero=[]\n",
    "del rows3[0]\n",
    "\n",
    "for x in range(0,len(rows3)):\n",
    "    i=rows3[x].find_elements(By.TAG_NAME,\"td\")\n",
    "    codigo.append(i[1].text)\n",
    "    nombre.append(i[2].text)\n",
    "    av_financiero.append(i[3].text)\n",
    "\n",
    "dc3={'codigo': codigo, 'nombre': nombre, 'av_financiero': av_financiero} \n",
    "df3=pd.DataFrame(dc3)\n",
    "print(df3)"
   ]
  },
  {
   "cell_type": "code",
   "execution_count": 36,
   "id": "12307235",
   "metadata": {},
   "outputs": [],
   "source": [
    "driver.back()"
   ]
  },
  {
   "cell_type": "code",
   "execution_count": 2,
   "id": "78f740cb",
   "metadata": {},
   "outputs": [],
   "source": [
    "driver.close()"
   ]
  },
  {
   "cell_type": "code",
   "execution_count": 7,
   "id": "d32b1a15",
   "metadata": {},
   "outputs": [
    {
     "data": {
      "text/plain": [
       "12"
      ]
     },
     "execution_count": 7,
     "metadata": {},
     "output_type": "execute_result"
    }
   ],
   "source": [
    "len(codigo)"
   ]
  },
  {
   "cell_type": "code",
   "execution_count": 10,
   "id": "296546de",
   "metadata": {},
   "outputs": [],
   "source": [
    "links_proyectos=[]\n",
    "\n",
    "nombre_proyecto=[]\n",
    "obj_general=[]\n",
    "obj_especificos=[]\n",
    "codigo_bpin=[]\n",
    "sector=[]\n",
    "entidad=[]\n",
    "responsable=[]\n",
    "horizonte=[]\n",
    "presupuesto=[]\n",
    "control_posterior=[]\n",
    "seguimiento_de=[]\n",
    "pnd=[]\n",
    "programa=[]\n",
    "av_fisico=[]\n",
    "av_financiero=[]\n",
    "av_gestion=[]\n",
    "\n",
    "for p in range(0,len(codigo)):\n",
    "    pp=driver.find_element(\"xpath\",'//*[@id=\"ContentPlaceHolder1_dtlDatos_dtgDatos_0_LinkButton1_'+str(p)+'\"]')\n",
    "    pp.click()\n",
    "    time.sleep(5)\n",
    "    nombre_proyecto.append(driver.find_element(\"xpath\",'//*[@id=\"Content2_LblProyecto\"]').text)\n",
    "    obj_general.append(driver.find_element(\"xpath\",'//*[@id=\"Content2_LblDesObjetivo\"]').text)\n",
    "    obj_especificos.append(driver.find_element(\"xpath\",'//*[@id=\"Content2\"]/table').text)\n",
    "    codigo_bpin.append(driver.find_element(\"xpath\",'//*[@id=\"Content2_LblBPINValue\"]').text)\n",
    "    sector.append(driver.find_element(\"xpath\",'//*[@id=\"Content2_lblNombreSector\"]').text)\n",
    "    entidad.append(driver.find_element(\"xpath\",'//*[@id=\"Content2_lblNombreEntidad\"]').text)\n",
    "    responsable.append(driver.find_element(\"xpath\",'//*[@id=\"Content2_lblNombreResponsable\"]').text)\n",
    "    horizonte.append(driver.find_element(\"xpath\",'//*[@id=\"Content2_LblAnoInicioDato\"]').text)\n",
    "    presupuesto.append(driver.find_element(\"xpath\",'//*[@id=\"Content2_LblPresupuestoDato\"]').text)\n",
    "    control_posterior.append(driver.find_element(\"xpath\",'//*[@id=\"Content2_LblFechaControlPosteriorValue\"]').text)\n",
    "    seguimiento_de.append(driver.find_element(\"xpath\",'//*[@id=\"Content2_LblSeguimientodeValue\"]').text)\n",
    "    pnd.append(driver.find_element(\"xpath\",'//*[@id=\"Content2_LblPNDValue\"]').text)\n",
    "    programa.append(driver.find_element(\"xpath\",'//*[@id=\"Content2_lblProgramaValues\"]').text)\n",
    "    av_fisico.append(driver.find_element(\"xpath\",'//*[@id=\"Content2_LblAvanFisico\"]').text)\n",
    "    av_financiero.append(driver.find_element(\"xpath\",'//*[@id=\"Content2_LblAvanFinanciero\"]').text)\n",
    "    av_gestion.append(driver.find_element(\"xpath\",'//*[@id=\"Content2_LblAvanGestion\"]').text)\n",
    "    links_proyectos.append(driver.current_url)\n",
    "    rs=driver.find_element(\"xpath\",'//*[@id=\"Content2_HyLinkdescarga\"]')\n",
    "    fe=driver.find_element(\"xpath\",'//*[@id=\"Content2_HyLinkFichaEBI\"]')\n",
    "    urs=rs.get_attribute('href')\n",
    "    r=requests.get(urs)\n",
    "    ufe=fe.get_attribute('href')\n",
    "    rr=requests.get(ufe)\n",
    "    with open('/home/hans-sanchez/Documents/scrapspi/rs'+codigo_bpin[p]+seguimiento_de[p]+'.pdf','wb')as f:\n",
    "        f.write(r.content)\n",
    "    with open('/home/hans-sanchez/Documents/scrapspi/fe'+codigo_bpin[p]+seguimiento_de[p]+'.pdf','wb')as f:\n",
    "        f.write(rr.content)\n",
    "    driver.back()"
   ]
  },
  {
   "cell_type": "code",
   "execution_count": 11,
   "id": "cffa2f2c",
   "metadata": {},
   "outputs": [
    {
     "name": "stdout",
     "output_type": "stream",
     "text": [
      "                                      nombre_proyecto  \\\n",
      "0   FORMACIÓN PERMANENTE PARA LOS SERVIDORES DE LA...   \n",
      "1   FORTALECIMIENTO DE LA CAPACIDAD DE ATENCIÓN EN...   \n",
      "2   FORTALECIMIENTO DEL SERVICIO DEL SISTEMA DEL A...   \n",
      "3   MEJORAMIENTO Y MANTENIMIENTO DE LA INFRAESTRUC...   \n",
      "4   SERVICIO DE RESPALDO DE LOS SISTEMAS DE INFORM...   \n",
      "5   MEJORAMIENTO Y RENOVACIÓN DE LA INFRAESTRUCTUR...   \n",
      "6   MEJORAMIENTO DE LA RED ELÉCTRICA Y DE COMUNICA...   \n",
      "7   FORTALECIMIENTO DE LA RED CORPORATIVA DE TELEC...   \n",
      "8   FORTALECIMIENTO DEL CENTRO DE ESTUDIOS EN DEMO...   \n",
      "9   FORTALECIMIENTO DEL SISTEMA DE INFORMACIÓN DE ...   \n",
      "10  IMPLEMENTACIÓN SISTEMA DE GESTIÓN DOCUMENTAL R...   \n",
      "11  Fortalecimiento del Sistema de Servicio al Col...   \n",
      "\n",
      "                                          obj_general  \\\n",
      "0   Fortalecer los conocimientos, técnicas y compe...   \n",
      "1   Identificar a la población víctima y en condic...   \n",
      "2   Optimizar la disponibilidad, seguridad y confi...   \n",
      "3   Mejorar las condiciones de la infraestructura ...   \n",
      "4   Aumentar la disponibilidad de los sistemas de ...   \n",
      "5   Optimizar los sistemas de información para la ...   \n",
      "6   Adecuar la infraestructura de la red lógica y ...   \n",
      "7   Prestar un eficiente servicio al cliente exter...   \n",
      "8   PROMOVER MECANISMOS DE FORMACIÓN Y DIVULGACIÓN...   \n",
      "9   Fortalecer el Sistema de Información de Regist...   \n",
      "10  Brindar eficiente y oportunamente los servicio...   \n",
      "11  Fortalecer el Sistema de Servicio al Colombian...   \n",
      "\n",
      "                                      obj_especificos    codigo_bpin  \\\n",
      "0   OBJETIVO: Aumentar la cobertura en formación p...  2018011000448   \n",
      "1   OBJETIVO: Llegar a la población víctima y en c...  2018011000553   \n",
      "2   OBJETIVO: Fortalecer las herramientas de hardw...  2018011000587   \n",
      "3   OBJETIVO: Adecuar espacios para la prestación ...  2018011000693   \n",
      "4   OBJETIVO: Mejorar el respaldo de la infraestru...  2018011000701   \n",
      "5       OBJETIVO: Disponer de elementos tecnológicos.  2018011000706   \n",
      "6   OBJETIVO: Preservar la infraestructura tecnoló...  2018011000718   \n",
      "7   OBJETIVO: Disponer, asegurar y actualizar la p...  2018011000719   \n",
      "8   OBJETIVO: Fomentar el conocimiento sobre cultu...  2018011000745   \n",
      "9   OBJETIVO: Optimizar la disponibilidad de la ba...  2018011000823   \n",
      "10  OBJETIVO: Aplicar adecuadamente los métodos de...  2018011000846   \n",
      "11  OBJETIVO: Robustecer los recursos tecnológicos...  2020011000108   \n",
      "\n",
      "           sector           entidad                     responsable  \\\n",
      "0   Registraduría  FONREGISTRADURIA   NELSON ALFONSO CAMPO VALENCIA   \n",
      "1   Registraduría  FONREGISTRADURIA  Didier Alberto Chilito Velasco   \n",
      "2   Registraduría  FONREGISTRADURIA         OLGA LUCIA VEGA SEQUEDA   \n",
      "3   Registraduría  FONREGISTRADURIA        Miguel Angel Díaz Moreno   \n",
      "4   Registraduría  FONREGISTRADURIA       Juan Pablo López Sanguino   \n",
      "5   Registraduría  FONREGISTRADURIA   Cesar Augusto Sánchez Sánchez   \n",
      "6   Registraduría  FONREGISTRADURIA     ERICK MANUEL ROSADO BERLIZA   \n",
      "7   Registraduría  FONREGISTRADURIA     ERICK MANUEL ROSADO BERLIZA   \n",
      "8   Registraduría  FONREGISTRADURIA     AURA HELENA PENAS FELIZZOLA   \n",
      "9   Registraduría  FONREGISTRADURIA    Dolly Yurany Gómez Rodríguez   \n",
      "10  Registraduría  FONREGISTRADURIA    Natalia Rodriguez Delgadillo   \n",
      "11  Registraduría  FONREGISTRADURIA  Silvia Lorena González Sánchez   \n",
      "\n",
      "      horizonte      presupuesto control_posterior  seguimiento_de  \\\n",
      "0   2019 - 2023   $2.230.053.000        30/12/2022  Noviembre 2022   \n",
      "1   2019 - 2024   $3.008.778.007        13/12/2022  Noviembre 2022   \n",
      "2   2019 - 2026   $2.948.890.339        30/12/2022  Noviembre 2022   \n",
      "3   2019 - 2023   $4.771.580.128        16/09/2022  Noviembre 2022   \n",
      "4   2019 - 2023   $4.940.983.677        12/12/2022  Noviembre 2022   \n",
      "5   2019 - 2023   $3.654.855.274        29/08/2022  Noviembre 2022   \n",
      "6   2019 - 2023   $3.714.179.073        09/12/2022  Noviembre 2022   \n",
      "7   2019 - 2023  $26.675.157.111        12/12/2022  Noviembre 2022   \n",
      "8   2019 - 2026   $2.230.053.000        28/10/2022  Noviembre 2022   \n",
      "9   2019 - 2024   $2.123.860.000        30/06/2022  Noviembre 2022   \n",
      "10  2019 - 2024   $4.223.900.755        11/07/2022  Noviembre 2022   \n",
      "11  2021 - 2025   $4.688.077.000        13/12/2022  Noviembre 2022   \n",
      "\n",
      "                                                  pnd  \\\n",
      "0   Pacto Por Colombia, Pacto por la Equidad (2019...   \n",
      "1   Pacto Por Colombia, Pacto por la Equidad (2019...   \n",
      "2   Pacto Por Colombia, Pacto por la Equidad (2019...   \n",
      "3   Pacto Por Colombia, Pacto por la Equidad (2019...   \n",
      "4   Pacto Por Colombia, Pacto por la Equidad (2019...   \n",
      "5   Pacto Por Colombia, Pacto por la Equidad (2019...   \n",
      "6   Pacto Por Colombia, Pacto por la Equidad (2019...   \n",
      "7   Pacto Por Colombia, Pacto por la Equidad (2019...   \n",
      "8   Pacto Por Colombia, Pacto por la Equidad (2019...   \n",
      "9   Pacto Por Colombia, Pacto por la Equidad (2019...   \n",
      "10  Pacto Por Colombia, Pacto por la Equidad (2019...   \n",
      "11  Pacto Por Colombia, Pacto por la Equidad (2019...   \n",
      "\n",
      "                                             programa av_fisico av_financiero  \\\n",
      "0   Fortalecimiento de la gestión y dirección del ...    87,00%         0,00%   \n",
      "1   Identificación y registro del estado civil de ...     2,00%        94,08%   \n",
      "2   Identificación y registro del estado civil de ...    90,00%        68,78%   \n",
      "3   Fortalecimiento de la gestión y dirección del ...     0,00%         4,92%   \n",
      "4   Fortalecimiento de la gestión y dirección del ...    92,00%        60,79%   \n",
      "5   Fortalecimiento de la gestión y dirección del ...     0,00%         0,00%   \n",
      "6   Fortalecimiento de la gestión y dirección del ...   100,00%        60,66%   \n",
      "7   Fortalecimiento de la gestión y dirección del ...   100,00%        73,54%   \n",
      "8         Procesos democráticos y asuntos electorales    84,00%        98,57%   \n",
      "9   Identificación y registro del estado civil de ...    22,00%        76,19%   \n",
      "10  Fortalecimiento de la gestión y dirección del ...     0,00%        82,34%   \n",
      "11  Fortalecimiento de la gestión y dirección del ...    63,00%        71,88%   \n",
      "\n",
      "   av_gestion  \n",
      "0      80,71%  \n",
      "1      35,60%  \n",
      "2      94,50%  \n",
      "3      39,00%  \n",
      "4      91,40%  \n",
      "5       0,00%  \n",
      "6      64,00%  \n",
      "7     100,00%  \n",
      "8     100,00%  \n",
      "9      90,00%  \n",
      "10    100,00%  \n",
      "11     92,00%  \n"
     ]
    }
   ],
   "source": [
    "dc4={'nombre_proyecto': nombre_proyecto, 'obj_general': obj_general, 'obj_especificos': obj_especificos, 'codigo_bpin':codigo_bpin,'sector':sector,'entidad':entidad,'responsable':responsable,'horizonte':horizonte,'presupuesto':presupuesto,'control_posterior':control_posterior,'seguimiento_de':seguimiento_de,'pnd':pnd,'programa':programa,'av_fisico':av_fisico,'av_financiero':av_financiero,'av_gestion':av_gestion} \n",
    "df4=pd.DataFrame(dc4)\n",
    "print(df4)"
   ]
  },
  {
   "cell_type": "code",
   "execution_count": 12,
   "id": "ccd42076",
   "metadata": {},
   "outputs": [],
   "source": [
    "df4.to_csv(seguimiento_de[0]+'.csv',encoding='utf-8-sig',index=False)"
   ]
  }
 ],
 "metadata": {
  "kernelspec": {
   "display_name": "scrapspi",
   "language": "python",
   "name": "scrapspi"
  },
  "language_info": {
   "codemirror_mode": {
    "name": "ipython",
    "version": 3
   },
   "file_extension": ".py",
   "mimetype": "text/x-python",
   "name": "python",
   "nbconvert_exporter": "python",
   "pygments_lexer": "ipython3",
   "version": "3.10.6"
  }
 },
 "nbformat": 4,
 "nbformat_minor": 5
}
