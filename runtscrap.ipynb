{
 "cells": [
  {
   "cell_type": "code",
   "execution_count": 1,
   "id": "2b0ea02e",
   "metadata": {},
   "outputs": [],
   "source": [
    "import time\n",
    "from selenium import webdriver\n",
    "from selenium.webdriver.support.ui import Select\n",
    "from bs4 import BeautifulSoup as bs\n",
    "from urllib import request\n",
    "import requests\n",
    "import base64\n",
    "from IPython import display\n",
    "from base64 import b64decode\n",
    "import asyncio\n",
    "from pyppeteer import launch"
   ]
  },
  {
   "cell_type": "code",
   "execution_count": null,
   "id": "5a84194f",
   "metadata": {},
   "outputs": [],
   "source": [
    "url=\"https://www.runt.com.co/consultaCiudadana/#/consultaVehiculo\"\n",
    "driver = webdriver.Chrome('./chromedriver')\n",
    "driver.get(url)\n",
    "capcha=driver.find_element(\"xpath\",'//*[@id=\"imgCaptcha\"]')\n",
    "src = capcha.get_attribute(\"src\")\n",
    "respuesta = requests.get(src)\n",
    "contenido_imagen = respuesta.content\n",
    "\n",
    "# Codificar la imagen en base64\n",
    "imagen_base64 = base64.b64encode(contenido_imagen).decode('utf-8')\n",
    "\n",
    "print(imagen_base64)\n",
    "display.Image(b64decode(imagen_base64))"
   ]
  },
  {
   "cell_type": "code",
   "execution_count": null,
   "id": "8d7669db",
   "metadata": {},
   "outputs": [],
   "source": [
    "contenido_imagen = driver.execute_script(\"return (function(){var xhr = new XMLHttpRequest();xhr.open('GET', '\" + src + \"', false);xhr.setRequestHeader('Content-Type', 'application/x-www-form-urlencoded');xhr.send();return xhr.responseText;})();\")\n",
    "imagen_base64 = base64.b64encode(contenido_imagen.encode('utf-8')).decode('utf-8')\n",
    "print(imagen_base64)\n",
    "display.Image(b64decode(imagen_base64))"
   ]
  },
  {
   "cell_type": "code",
   "execution_count": null,
   "id": "b2f4fea5",
   "metadata": {},
   "outputs": [],
   "source": [
    "respuesta = requests.get(src)\n",
    "contenido_imagen = respuesta.content\n",
    "\n",
    "# Codificar la imagen en base64\n",
    "imagen_base64 = base64.b64encode(contenido_imagen).decode('utf-8')\n",
    "\n",
    "print(imagen_base64)\n",
    "display.Image(b64decode(imagen_base64))"
   ]
  }
 ],
 "metadata": {
  "kernelspec": {
   "display_name": "scrapspi",
   "language": "python",
   "name": "scrapspi"
  },
  "language_info": {
   "codemirror_mode": {
    "name": "ipython",
    "version": 3
   },
   "file_extension": ".py",
   "mimetype": "text/x-python",
   "name": "python",
   "nbconvert_exporter": "python",
   "pygments_lexer": "ipython3",
   "version": "3.11.2"
  }
 },
 "nbformat": 4,
 "nbformat_minor": 5
}
