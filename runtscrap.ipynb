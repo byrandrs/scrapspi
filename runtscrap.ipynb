{
 "cells": [
  {
   "cell_type": "code",
   "execution_count": 1,
   "id": "2b0ea02e",
   "metadata": {},
   "outputs": [],
   "source": [
    "#cargar librerias\n",
    "import time\n",
    "from selenium import webdriver\n",
    "from selenium.webdriver.support.ui import Select\n",
    "from bs4 import BeautifulSoup as bs\n",
    "from urllib import request\n",
    "import requests\n",
    "import base64\n",
    "from IPython import display\n",
    "from base64 import b64decode\n",
    "import asyncio\n",
    "from pyppeteer import launch\n",
    "from PIL import Image\n",
    "import io\n",
    "from io import BytesIO\n",
    "import matplotlib.pyplot as plt\n",
    "import pytesseract\n",
    "import cv2\n",
    "import numpy as np\n",
    "\n",
    "# Ruta completa al ejecutable de Tesseract OCR\n",
    "pytesseract.pytesseract.tesseract_cmd = r'C:\\Program Files\\Tesseract-OCR\\tesseract'\n",
    "\n"
   ]
  },
  {
   "cell_type": "code",
   "execution_count": 171,
   "id": "5a84194f",
   "metadata": {},
   "outputs": [
    {
     "name": "stderr",
     "output_type": "stream",
     "text": [
      "C:\\Users\\bagomezv\\AppData\\Local\\Temp\\ipykernel_26880\\1943582511.py:3: DeprecationWarning: executable_path has been deprecated, please pass in a Service object\n",
      "  driver = webdriver.Chrome('./chromedriver')\n"
     ]
    }
   ],
   "source": [
    "#Cagar bot\n",
    "url=\"https://www.runt.com.co/consultaCiudadana/#/consultaVehiculo\"\n",
    "driver = webdriver.Chrome('./chromedriver')\n",
    "driver.get(url)\n"
   ]
  },
  {
   "cell_type": "code",
   "execution_count": null,
   "id": "ef77df23",
   "metadata": {},
   "outputs": [],
   "source": [
    "#No Funciono\n",
    "# Codificar la imagen en base64\n",
    "imagen_base64 = base64.b64encode(contenido_imagen).decode('utf-8')\n",
    "\n",
    "print(imagen_base64)\n",
    "display.Image(b64decode(imagen_base64))"
   ]
  },
  {
   "cell_type": "code",
   "execution_count": null,
   "id": "8d7669db",
   "metadata": {},
   "outputs": [],
   "source": [
    "#No Funciono\n",
    "contenido_imagen = driver.execute_script(\"return (function(){var xhr = new XMLHttpRequest();xhr.open('GET', '\" + src + \"', false);xhr.setRequestHeader('Content-Type', 'application/x-www-form-urlencoded');xhr.send();return xhr.responseText;})();\")\n",
    "imagen_base64 = base64.b64encode(contenido_imagen.encode('utf-8')).decode('utf-8')\n",
    "print(imagen_base64)\n",
    "display.Image(b64decode(imagen_base64))"
   ]
  },
  {
   "cell_type": "code",
   "execution_count": null,
   "id": "b2f4fea5",
   "metadata": {},
   "outputs": [],
   "source": [
    "#No Funciono\n",
    "capcha=driver.find_element(\"xpath\",'//*[@id=\"imgCaptcha\"]')\n",
    "src = capcha.get_attribute(\"src\")\n",
    "respuesta = requests.get(src)\n",
    "contenido_imagen = respuesta.content\n",
    "\n",
    "# Abrir la imagen con PIL\n",
    "imagen = Image.open(BytesIO(contenido_imagen))\n",
    "\n",
    "# Mostrar la imagen\n",
    "plt.imshow(imagen)\n",
    "plt.axis('off')\n",
    "plt.show()"
   ]
  },
  {
   "cell_type": "code",
   "execution_count": 173,
   "id": "0a7927ac",
   "metadata": {},
   "outputs": [
    {
     "name": "stdout",
     "output_type": "stream",
     "text": [
      "653\n",
      "Texto del captcha: \n"
     ]
    }
   ],
   "source": [
    "#Tomo Screenshot\n",
    "#FUnciona como screnshot y corta la imagen\n",
    "# Encontrar el elemento de imagen del captcha\n",
    "captcha = driver.find_element(\"xpath\",'//*[@id=\"imgCaptcha\"]')\n",
    "\n",
    "# Obtener la ubicación y tamaño del elemento del captcha\n",
    "location = captcha.location\n",
    "size = captcha.size\n",
    "\n",
    "# Capturar una captura de pantalla completa de la página\n",
    "screenshot = driver.get_screenshot_as_png()\n",
    "screenshot = Image.open(io.BytesIO(screenshot))\n",
    "\n",
    "# Calcular las coordenadas de recorte del captcha\n",
    "left = int(location['x'])+100\n",
    "\n",
    "top = int(location['y'])+100\n",
    "right = int(location['x']+100 + size['width'])\n",
    "bottom = int(location['y']+100 + size['height'])\n",
    "print(left)\n",
    "\n",
    "# Recortar la imagen del captcha de la captura de pantalla\n",
    "captcha_image = screenshot.crop((left, top, right, bottom))\n",
    "\n",
    "ruta_salida = r\"C:\\Users\\bagomezv\\Documents\\GitHub\\scrapspi\\salida.txt\"\n",
    "\n",
    "# Realizar OCR en la imagen del captcha\n",
    "captcha_text = pytesseract.image_to_string(captcha_image)\n",
    "\n",
    "\n",
    "# Mostrar el texto del captcha\n",
    "print(\"Texto del captcha:\", captcha_text)\n",
    "# Mostrar la imagen\n",
    "captcha_image.show()\n"
   ]
  },
  {
   "cell_type": "code",
   "execution_count": 10,
   "id": "4930856a",
   "metadata": {},
   "outputs": [],
   "source": [
    "# Convertir la imagen a escala de grises\n",
    "gray_image = captcha_image.convert('L')\n",
    "\n",
    "# Aplicar umbral adaptativo de Otsu para binarizar la imagen\n",
    "threshold_image = gray_image.point(lambda x: 255 if x > 128 else 0, '1')\n",
    "\n",
    "# Mostrar la imagen binarizada\n",
    "threshold_image.show()"
   ]
  },
  {
   "cell_type": "code",
   "execution_count": 27,
   "id": "c827a5fc",
   "metadata": {},
   "outputs": [
    {
     "name": "stdout",
     "output_type": "stream",
     "text": [
      "Texto del captcha: \n"
     ]
    }
   ],
   "source": [
    "import cv2\n",
    "import numpy as np\n",
    "\n",
    "# Convertir la imagen del captcha a una matriz NumPy\n",
    "captcha_array = np.array(captcha_image)\n",
    "# Convertir la imagen a escala de grises\n",
    "gray_image = cv2.cvtColor(captcha_array, cv2.COLOR_BGR2GRAY)\n",
    "\n",
    "# Aplicar un filtro de mediana para eliminar el ruido\n",
    "filtered_image = cv2.medianBlur(gray_image, 3)\n",
    "\n",
    "# Mostrar la imagen filtrada\n",
    "cv2.imshow(\"Imagen filtrada\", filtered_image)\n",
    "cv2.waitKey(0)\n",
    "cv2.destroyAllWindows()\n",
    "captcha_text = pytesseract.image_to_string(filtered_image)\n",
    "# Mostrar el texto del captcha\n",
    "print(\"Texto del captcha:\", captcha_text)"
   ]
  },
  {
   "cell_type": "code",
   "execution_count": 39,
   "id": "818eeb92",
   "metadata": {},
   "outputs": [],
   "source": [
    "# Convertir la imagen del captcha a una matriz NumPy\n",
    "captcha_array = np.array(captcha_image)\n",
    "\n",
    "# Convertir la imagen a escala de grises\n",
    "gray_image = cv2.cvtColor(captcha_array, cv2.COLOR_BGR2GRAY)\n",
    "\n",
    "# Aplicar umbralización adaptativa para obtener una máscara\n",
    "_, binary_image = cv2.threshold(gray_image, 0, 255, cv2.THRESH_BINARY_INV + cv2.THRESH_OTSU)\n",
    "\n",
    "# Encontrar contornos en la imagen binaria\n",
    "contours, _ = cv2.findContours(binary_image, cv2.RETR_EXTERNAL, cv2.CHAIN_APPROX_SIMPLE)\n",
    "\n",
    "# Crear una máscara en blanco del mismo tamaño que la imagen original\n",
    "mask = np.zeros_like(gray_image)\n",
    "\n",
    "# Rellenar los contornos en la máscara\n",
    "cv2.drawContours(mask, contours, -1, (255), thickness=cv2.FILLED)\n",
    "\n",
    "# Aplicar el filtrado adaptativo\n",
    "restored_image = cv2.inpaint(gray_image, mask, 3, cv2.INPAINT_TELEA)\n",
    "\n",
    "# Convertir la imagen restaurada a color (3 canales)\n",
    "restored_color_image = cv2.cvtColor(restored_image, cv2.COLOR_GRAY2BGR)\n",
    "\n",
    "# Mostrar la imagen restaurada\n",
    "cv2.imshow(\"Imagen restaurada\", restored_color_image)\n",
    "cv2.waitKey(0)\n",
    "cv2.destroyAllWindows()"
   ]
  },
  {
   "cell_type": "code",
   "execution_count": 58,
   "id": "141d5904",
   "metadata": {},
   "outputs": [
    {
     "name": "stdout",
     "output_type": "stream",
     "text": [
      "Texto del captcha: \n"
     ]
    }
   ],
   "source": [
    "import cv2\n",
    "import numpy as np\n",
    "\n",
    "# Convertir la imagen del captcha a una matriz NumPy en escala de grises\n",
    "captcha_array = np.array(captcha_image.convert('L'))\n",
    "\n",
    "# Aplicar umbralización adaptativa para obtener una máscara del texto\n",
    "_, binary_image = cv2.threshold(captcha_array, 0, 255, cv2.THRESH_BINARY_INV + cv2.THRESH_OTSU)\n",
    "\n",
    "# Encontrar contornos en la imagen binaria\n",
    "contours, _ = cv2.findContours(binary_image, cv2.RETR_EXTERNAL, cv2.CHAIN_APPROX_SIMPLE)\n",
    "\n",
    "# Crear una máscara en blanco del mismo tamaño que la imagen original\n",
    "mask = np.zeros_like(captcha_array)\n",
    "\n",
    "# Rellenar los contornos en la máscara\n",
    "cv2.drawContours(mask, contours, -1, (255), thickness=cv2.FILLED)\n",
    "\n",
    "# Aplicar el filtrado adaptativo para eliminar el texto\n",
    "restored_image = cv2.inpaint(captcha_array, mask, 3, cv2.INPAINT_TELEA)\n",
    "\n",
    "# Mostrar la imagen resultante sin el texto\n",
    "cv2.imshow(\"Imagen sin texto\", restored_image)\n",
    "cv2.waitKey(0)\n",
    "cv2.destroyAllWindows()\n",
    "captcha_text = pytesseract.image_to_string(restored_image)\n",
    "# Mostrar el texto del captcha\n",
    "print(\"Texto del captcha:\", captcha_text)"
   ]
  },
  {
   "cell_type": "code",
   "execution_count": 13,
   "id": "75066ffb",
   "metadata": {
    "scrolled": true
   },
   "outputs": [
    {
     "name": "stdout",
     "output_type": "stream",
     "text": [
      "Texto del captcha: \n"
     ]
    }
   ],
   "source": [
    "# Convertir la imagen del captcha a una matriz NumPy en escala de grises\n",
    "captcha_array = np.array(captcha_image.convert('L'))\n",
    "\n",
    "# Aplicar umbralización adaptativa para obtener una máscara del texto\n",
    "_, binary_image = cv2.threshold(captcha_array, 0, 255, cv2.THRESH_BINARY_INV + cv2.THRESH_OTSU)\n",
    "\n",
    "# Encontrar contornos en la imagen binaria\n",
    "contours, _ = cv2.findContours(binary_image, cv2.RETR_EXTERNAL, cv2.CHAIN_APPROX_SIMPLE)\n",
    "\n",
    "# Crear una máscara en blanco del mismo tamaño que la imagen original\n",
    "mask = np.zeros_like(captcha_array)\n",
    "\n",
    "# Rellenar los contornos en la máscara\n",
    "cv2.drawContours(mask, contours, -1, (255), thickness=cv2.FILLED)\n",
    "\n",
    "# Aplicar la máscara a la imagen original\n",
    "highlighted_image = cv2.bitwise_and(captcha_array, captcha_array, mask=mask)\n",
    "\n",
    "# Mostrar la imagen resultante resaltando el texto\n",
    "cv2.imshow(\"Texto resaltado\", highlighted_image)\n",
    "cv2.waitKey(0)\n",
    "cv2.destroyAllWindows()\n",
    "captcha_text = pytesseract.image_to_string(highlighted_image)\n",
    "# Mostrar el texto del captcha\n",
    "print(\"Texto del captcha:\", captcha_text)"
   ]
  },
  {
   "cell_type": "code",
   "execution_count": 12,
   "id": "2d4e6e93",
   "metadata": {},
   "outputs": [
    {
     "name": "stdout",
     "output_type": "stream",
     "text": [
      "Texto del captcha: \n"
     ]
    }
   ],
   "source": [
    "# Convertir la imagen del captcha a una matriz NumPy en escala de grises\n",
    "captcha_array = np.array(captcha_image.convert('L'))\n",
    "\n",
    "# Aplicar umbralización adaptativa para obtener una máscara del texto\n",
    "_, binary_image = cv2.threshold(captcha_array, 0, 255, cv2.THRESH_BINARY_INV + cv2.THRESH_OTSU)\n",
    "\n",
    "# Encontrar contornos en la imagen binaria\n",
    "contours, _ = cv2.findContours(binary_image, cv2.RETR_EXTERNAL, cv2.CHAIN_APPROX_SIMPLE)\n",
    "\n",
    "# Crear una máscara en blanco del mismo tamaño que la imagen original\n",
    "mask = np.zeros_like(captcha_array)\n",
    "\n",
    "# Rellenar los contornos en la máscara\n",
    "cv2.drawContours(mask, contours, -1, (255), thickness=cv2.FILLED)\n",
    "\n",
    "# Aplicar la máscara a la imagen original para quitar el contenido fuera del contorno\n",
    "masked_image = cv2.bitwise_and(captcha_array, captcha_array, mask=mask)\n",
    "\n",
    "# Mostrar la imagen resultante con el contenido fuera del contorno eliminado\n",
    "cv2.imshow(\"Imagen sin contenido fuera del contorno\", masked_image)\n",
    "cv2.waitKey(0)\n",
    "cv2.destroyAllWindows()\n",
    "captcha_text = pytesseract.image_to_string(masked_image)\n",
    "# Mostrar el texto del captcha\n",
    "print(\"Texto del captcha:\", captcha_text)"
   ]
  },
  {
   "cell_type": "code",
   "execution_count": 63,
   "id": "b2addac1",
   "metadata": {},
   "outputs": [
    {
     "name": "stdout",
     "output_type": "stream",
     "text": [
      "Texto del captcha: \n"
     ]
    }
   ],
   "source": [
    "# Convertir la imagen del captcha a una matriz NumPy en escala de grises\n",
    "captcha_array = np.array(captcha_image.convert('L'))\n",
    "\n",
    "# Aplicar umbralización adaptativa para obtener una máscara del texto\n",
    "_, binary_image = cv2.threshold(captcha_array, 0, 255, cv2.THRESH_BINARY_INV + cv2.THRESH_OTSU)\n",
    "\n",
    "# Encontrar contornos en la imagen binaria\n",
    "contours, _ = cv2.findContours(binary_image, cv2.RETR_EXTERNAL, cv2.CHAIN_APPROX_SIMPLE)\n",
    "\n",
    "# Crear una máscara en blanco del mismo tamaño que la imagen original\n",
    "mask = np.zeros_like(captcha_array)\n",
    "\n",
    "# Rellenar los contornos en la máscara\n",
    "cv2.drawContours(mask, contours, -1, (255), thickness=cv2.FILLED)\n",
    "\n",
    "# Aplicar la máscara a la imagen original para quitar el texto y los contornos\n",
    "removed_image = cv2.bitwise_and(captcha_array, cv2.bitwise_not(mask))\n",
    "\n",
    "# Reemplazar la región correspondiente en la imagen original con el área sin texto y contornos\n",
    "captcha_array[np.where(mask)] = removed_image[np.where(mask)]\n",
    "\n",
    "# Mostrar la imagen original sin el texto y los contornos\n",
    "cv2.imshow(\"Imagen original sin texto y contornos\", captcha_array)\n",
    "cv2.waitKey(0)\n",
    "cv2.destroyAllWindows()\n",
    "captcha_text = pytesseract.image_to_string(captcha_array)\n",
    "# Mostrar el texto del captcha\n",
    "print(\"Texto del captcha:\", captcha_text)"
   ]
  },
  {
   "cell_type": "code",
   "execution_count": 64,
   "id": "2d01224f",
   "metadata": {},
   "outputs": [
    {
     "data": {
      "text/plain": [
       "PIL.Image.Image"
      ]
     },
     "execution_count": 64,
     "metadata": {},
     "output_type": "execute_result"
    }
   ],
   "source": [
    "type(captcha_image)"
   ]
  },
  {
   "cell_type": "code",
   "execution_count": 174,
   "id": "4e150d86",
   "metadata": {},
   "outputs": [
    {
     "data": {
      "image/jpeg": "[encoded data removed]",
      "text/plain": [
       "<IPython.core.display.Image object>"
      ]
     },
     "execution_count": 174,
     "metadata": {},
     "output_type": "execute_result"
    }
   ],
   "source": [
    "#visualizar screenshot\n",
    "# Convertir la imagen PIL a modo RGB\n",
    "image_rgb = captcha_image.convert('RGB')\n",
    "# Guardar la imagen RGB en un búfer en formato JPEG\n",
    "buffer = BytesIO()\n",
    "image_rgb.save(buffer, format='JPEG')\n",
    "image_bytes = buffer.getvalue()\n",
    "\n",
    "# Codificar la secuencia de bytes a base64\n",
    "base64_image = base64.b64encode(image_bytes).decode('utf-8')\n",
    "\n",
    "display.Image(b64decode(base64_image))"
   ]
  },
  {
   "cell_type": "code",
   "execution_count": 67,
   "id": "89882ce0",
   "metadata": {
    "scrolled": false
   },
   "outputs": [
    {
     "data": {
      "text/plain": [
       "'/9j/4AAQSkZJRgABAQAAAQABAAD/2wBDAAgGBgcGBQgHBwcJCQgKDBQNDAsLDBkSEw8UHRofHh0aHBwgJC4nICIsIxwcKDcpLDAxNDQ0Hyc5PTgyPC4zNDL/2wBDAQkJCQwLDBgNDRgyIRwhMjIyMjIyMjIyMjIyMjIyMjIyMjIyMjIyMjIyMjIyMjIyMjIyMjIyMjIyMjIyMjIyMjL/wAARCAA1AMsDASIAAhEBAxEB/8QAHwAAAQUBAQEBAQEAAAAAAAAAAAECAwQFBgcICQoL/8QAtRAAAgEDAwIEAwUFBAQAAAF9AQIDAAQRBRIhMUEGE1FhByJxFDKBkaEII0KxwRVS0fAkM2JyggkKFhcYGRolJicoKSo0NTY3ODk6Q0RFRkdISUpTVFVWV1hZWmNkZWZnaGlqc3R1dnd4eXqDhIWGh4iJipKTlJWWl5iZmqKjpKWmp6ipqrKztLW2t7i5usLDxMXGx8jJytLT1NXW19jZ2uHi4+Tl5ufo6erx8vP09fb3+Pn6/8QAHwEAAwEBAQEBAQEBAQAAAAAAAAECAwQFBgcICQoL/8QAtREAAgECBAQDBAcFBAQAAQJ3AAECAxEEBSExBhJBUQdhcRMiMoEIFEKRobHBCSMzUvAVYnLRChYkNOEl8RcYGRomJygpKjU2Nzg5OkNERUZHSElKU1RVVldYWVpjZGVmZ2hpanN0dXZ3eHl6goOEhYaHiImKkpOUlZaXmJmaoqOkpaanqKmqsrO0tba3uLm6wsPExcbHyMnK0tPU1dbX2Nna4uPk5ebn6Onq8vP09fb3+Pn6/9oADAMBAAIRAxEAPwDh1FLJdQW4zLKifU80qjv/AJNc3faDe3uqTSblEbNkFj0HpQBvR63prOFF2uf901qwukiho2DKehU1wlz4ceCBnW4R2UZKhcfrmo9B1iSwvURmJgc7WU9vpQB6OgqO61C009Fa7nWMHoD/APWpk17BbWr3ErgKg/M15vq2py6rePO2dgOFXso7UAem2OsadqExitbqOSTGSMEcfjWmmK8q8JSLF4hgdjhQr5P/AAE16hbXsNwxEcqFj0GRzQBcUVOoquZYkOGkRP8AebmpFuIAw/fR7v7u8ZoAtIOKmQVEg7dxxzUyDigCVBzika8tYTiW5hQ/7UgFEU0UhKpKjdCdrDpXkM/gTxLd3c28KVVjh5ZTg+4oA9kgvLWZtsVzDIfRJAauqK+e9R0PVvDapPK/lgttV4JDjP8AkGvRfh34xl1SN9O1Fw1xEuY5e7L6H6f1oA9GUVMo4qFMHkYOfSrCjigCRBUyCokFTIKAJUFTqKhUc1MooAmUVMo4qJRUyjigCVRUgHFMUVKBxQB80KOamA4PbvUa/oOSap6rq0WmQgnDSt9xf8aAK+uTxWFk4LfvZOEX+tcnp9u1zdoE4Cncx9AO9WYIL3XtQJJJz95j0UVrataRaRohitjh3cB37kf4UAZmq6lJqNwLaDcYVbCqP4jWnf6PHpXhZzIM3UrKW/2eelc5Z3ktjcLPDt8xehZQatXuuX2oQtDcSKysQThQOlAEOmf8fMv/AFwl/wDQDUVpdS2V1FcwsVeNwwIPXBpkMzwOzpgEqynPoRg/zp1oiyXsEbDKtIqn6E0AW7t9R1LzL+485492S5zgfSqIkfzA5YluzE8ivQdZUQeGruGIbY1QYA/3hXneSDQB6JrPi28sdC0j7DcYmkizIzKGzjgdfoan8L+ML6+hv4tQmV2jhMkbhQD05HFefPJLfG2hALMi+Wv5k/1p1vPJp1xcKPlco8Rx6kYoA6b4bsy+Jy+9ljWJi4BwDkd69J1zxXpWjKkV5LIGlUlAi7s4rzn4dx5vL6U9BEFH5iuyvfCNr4piiM9xJC8JIDpg8HqMH3xQBwHibxIutmO2to2SFW3fN1Y9P61ueCvDt7p8randxNDvTZErcEg9T/Ks7xJ4Kn8Nxm8tbvzY0IJPR0961PB3iq61S8TTNQlMj4/dSueTjsaAPVdHkeS2O49DitZKo6fbiC3AzknvWglAEqCpkFRoKmQc0ASKOamUVGo5qZRQBIoqZRUaipl6UASqOKkA4piVKBxQB80J1rzzULuS8vJJZDkk4+ldqut6YDk3cf5GsO8h8O/NKtxM7MfuxH/EUAQWPiP7BaC3hs1/2m38t+lTweIo7mZILuyV4nba3zZ6+1UMaIDz9rx+FSRtoUbq4+2blII6UAdlc6BpygeXYxcf7PWsTXtLtrXSHljtUjYOBuA9TVseNrRUYiGWRwPlUjAY/wBKhvfEx1C0e1uNCnaNvRyCD/3zQBy9hEsk8gYBsRSH8lNMsBnUbXH/AD2T+YrTgltbWbzI9IvM7SpDy5GCMH+CmQm1ikWVdJvt6MGXEvAIOf7lAHZa4oPhu/PcIP8A0IV5rjHNdit34k1G1kiTS0kgmGCNmDj86xpPCuuIMvpsqj8P8aADwvbfaNdg4yI/nP4VH4htvs+vXaEcFy/58/1q/pdhr+lTNLbacS7Db84B4/Orr+GvEfiS5aaa0ggZFwWdtob6daALXgBMW15JnGWC/pWxpvxN0+0jaO6sbkMCRmLa38yKwrTw54n0wNDbXcEIzkhX7/itNf4c69cB7lpbM7vmOZTk/wDjtAEni7x6uv2ptLO2aGBvvtJjc3tgVS8EaTc3Osx3qo3kW53b8cE+lPtvAGpm4VZ5reOPPzMjFiPwwM1qxeALpBsi1uREz0WMgf8AoVAHq+izvIrKxyByM1stLHDE0srqkaDLMxwAPUmvI7X4ZXsibj4omiJ7CNv/AIurJ+FV1IpWTxbO6HhlMTEEf990AemrrukD/mK2J9/tCf41KuvaP/0FrH/wIT/GuDPwn8KBebjUD7iZevrjb+lIvwn8IH/l41H/AL/L/wDE0Aehpr2jcf8AE2sMn/p5T/Gsl/ib4NhlaN9biypIOIpCPzC1y6/CbwfjHn6l/wB/l/8Aia27X4f+CLe1jhbS0uWQY8yVm3t9cED9KAL6/FPwV/0HY/8AvzJ/8TUq/FTwT/0Hoh9YZf8A4mqA8DeCs/8AIuQn8W/xqUeBfBP/AELcP5v/AI0AVdQ+OPhWwvGghjvr1AAfOgjAQ8dBuIPH0qt/w0D4Z/6Buq/9+4//AIuuq0vRPDmkRSR2OhW0SyNuYGPfk/Vs1ofZbE9NGtMf9e6/4UAfOa6FpZIzaD/vtv8AGrEOi6ZBIsiWa7gccsT296KKALf2SzVQfskBz6xj/CnLbWf/AD5W/wD37H+FFFAEyW1mMH7Fb5/65j/Cr5unA4H60UUAJ57PjOPyqZZWUcBcHrxRRQBLFMQ+1FVffFWCHf7zk/hRRQAq2+f4v0qxEHHyq+0H0HtRRQBMlgkvzOxJNWksV2bd7YoooAculQZ6mrUGl269cmiigC4unwccH86mTT4PQ/nRRQBPFYQKc7c/WrSWcH/PMUUUATrZwf8APMVMlpACMRr+VFFAFpI0A+4v5VMsaf3F/KiigCZIo/7i/lUwAA4A/KiigD//2Q=='"
      ]
     },
     "execution_count": 67,
     "metadata": {},
     "output_type": "execute_result"
    }
   ],
   "source": [
    "base64_image"
   ]
  },
  {
   "cell_type": "code",
   "execution_count": 175,
   "id": "ad354000",
   "metadata": {},
   "outputs": [],
   "source": [
    "#Quitar sombra\n",
    "img=np.array(captcha_image)\n",
    "rgb_planes = cv2.split(img)\n",
    "\n",
    "result_planes = []\n",
    "result_norm_planes = []\n",
    "for plane in rgb_planes:\n",
    "    dilated_img = cv2.dilate(plane, np.ones((7,7), np.uint8))\n",
    "    bg_img = cv2.medianBlur(dilated_img, 21)\n",
    "    diff_img = 255 - cv2.absdiff(plane, bg_img)\n",
    "    norm_img = cv2.normalize(diff_img,None, alpha=0, beta=255, norm_type=cv2.NORM_MINMAX, dtype=cv2.CV_8UC1)\n",
    "    result_planes.append(diff_img)\n",
    "    result_norm_planes.append(norm_img)\n",
    "    \n",
    "result = cv2.merge(result_planes)\n",
    "result_norm = cv2.merge(result_norm_planes)\n",
    "\n"
   ]
  },
  {
   "cell_type": "code",
   "execution_count": 176,
   "id": "a4482c37",
   "metadata": {},
   "outputs": [
    {
     "name": "stdout",
     "output_type": "stream",
     "text": [
      "Texto del captcha: \n"
     ]
    }
   ],
   "source": [
    "#Visualizar sin sombra\n",
    "cv2.imshow(\"Imagen original sin texto y contornos\", result_norm)\n",
    "cv2.waitKey(0)\n",
    "cv2.destroyAllWindows()\n",
    "captcha_text = pytesseract.image_to_string(result_norm)\n",
    "# Mostrar el texto del captcha\n",
    "print(\"Texto del captcha:\", captcha_text)"
   ]
  },
  {
   "cell_type": "code",
   "execution_count": 83,
   "id": "58e79971",
   "metadata": {},
   "outputs": [
    {
     "name": "stdout",
     "output_type": "stream",
     "text": [
      "Forma del arreglo resultante: (53, 203, 4)\n",
      "Texto del captcha: \n"
     ]
    }
   ],
   "source": [
    "# Convertir cada plano en un arreglo de 2 dimensiones\n",
    "result_norm_planes_2d = [plane.reshape(plane.shape[0], plane.shape[1]) for plane in result_norm]\n",
    "\n",
    "# Convertir la lista de arreglos en un arreglo NumPy\n",
    "result_norm_2d = np.array(result_norm_planes_2d)\n",
    "# Verificar la forma del arreglo resultante\n",
    "print(\"Forma del arreglo resultante:\", result_norm_2d.shape)\n",
    "cv2.imshow(\"Imagen original sin texto y contornos\", result_norm_2d)\n",
    "cv2.waitKey(0)\n",
    "cv2.destroyAllWindows()\n",
    "captcha_text = pytesseract.image_to_string(result_norm_2d)\n",
    "# Mostrar el texto del captcha\n",
    "print(\"Texto del captcha:\", captcha_text)"
   ]
  },
  {
   "cell_type": "code",
   "execution_count": 177,
   "id": "edbae222",
   "metadata": {},
   "outputs": [
    {
     "name": "stdout",
     "output_type": "stream",
     "text": [
      "Forma del arreglo resultante: (53, 203)\n",
      "2\n",
      "Texto del captcha: \n"
     ]
    }
   ],
   "source": [
    "#convertir escala de grises\n",
    "# Convertir la imagen a escala de grises\n",
    "gray_image = cv2.cvtColor(result_norm, cv2.COLOR_BGR2GRAY)\n",
    "# Verificar la forma del arreglo resultante\n",
    "print(\"Forma del arreglo resultante:\", gray_image.shape)\n",
    "print(gray_image.ndim)\n",
    "# Mostrar la imagen en escala de grises\n",
    "cv2.imshow('Imagen en escala de grises', gray_image)\n",
    "cv2.waitKey(0)\n",
    "cv2.destroyAllWindows()\n",
    "captcha_text = pytesseract.image_to_string(gray_image)\n",
    "# Mostrar el texto del captcha\n",
    "print(\"Texto del captcha:\", captcha_text)"
   ]
  },
  {
   "cell_type": "code",
   "execution_count": 40,
   "id": "3a62ea14",
   "metadata": {},
   "outputs": [
    {
     "name": "stdout",
     "output_type": "stream",
     "text": [
      "Valor del píxel en la posición (100, 10): 251\n"
     ]
    }
   ],
   "source": [
    "#Supongamos que tienes una imagen en escala de grises representada como un arreglo numpy llamado \"gray_image\"\n",
    "\n",
    "# Obtener el valor del píxel en una posición específica\n",
    "x = 100  # coordenada x del píxel\n",
    "y = 10  # coordenada y del píxel\n",
    "\n",
    "pixel_value = gray_image[y, x]\n",
    "\n",
    "# Imprimir el valor del píxel\n",
    "print(\"Valor del píxel en la posición ({}, {}): {}\".format(x, y, pixel_value))"
   ]
  },
  {
   "cell_type": "code",
   "execution_count": 178,
   "id": "76975877",
   "metadata": {},
   "outputs": [
    {
     "name": "stdout",
     "output_type": "stream",
     "text": [
      "Texto del captcha: \n"
     ]
    }
   ],
   "source": [
    "#Covertir Blanco y negro\n",
    "# Supongamos que tienes una imagen en escala de grises llamada \"gray_image\"\n",
    "# donde los píxeles se representan como un arreglo NumPy\n",
    "\n",
    "# Aplicar la condición y asignar 0 a los valores menores de 100\n",
    "n=190\n",
    "gray_imagen = np.where(gray_image > n, 255, gray_image)\n",
    "gray_imagex = np.where(gray_imagen < n, 0, gray_imagen)\n",
    "\n",
    "# Mostrar la imagen en escala de grises\n",
    "cv2.imshow('Imagen en escala de grises', gray_imagex)\n",
    "cv2.waitKey(0)\n",
    "cv2.destroyAllWindows()\n",
    "captcha_text = pytesseract.image_to_string(gray_imagex)\n",
    "# Mostrar el texto del captcha\n",
    "print(\"Texto del captcha:\", captcha_text)"
   ]
  },
  {
   "cell_type": "code",
   "execution_count": 168,
   "id": "3a7eda47",
   "metadata": {},
   "outputs": [
    {
     "name": "stdout",
     "output_type": "stream",
     "text": [
      "Texto del captcha: \n"
     ]
    }
   ],
   "source": [
    "# Load an color image in grayscale\n",
    "captcha_array = np.array(captcha_image)\n",
    "img = gray_imagex\n",
    "ret,thresh_img = cv2.threshold(img, 0, 255, cv2.THRESH_BINARY_INV|cv2.THRESH_OTSU)\n",
    "cv2.imshow('grey image',thresh_img)\n",
    "cv2.imwrite(\"result11.jpg\", thresh_img)\n",
    "cv2.waitKey(0)\n",
    "cv2.destroyAllWindows()\n",
    "captcha_text = pytesseract.image_to_string(thresh_img)\n",
    "# Mostrar el texto del captcha\n",
    "print(\"Texto del captcha:\", captcha_text)"
   ]
  },
  {
   "cell_type": "code",
   "execution_count": 198,
   "id": "a1c3ccda",
   "metadata": {},
   "outputs": [
    {
     "name": "stdout",
     "output_type": "stream",
     "text": [
      "Texto del captcha: ckhn8\n",
      "\n"
     ]
    }
   ],
   "source": [
    "#quitar lineas\n",
    "# Load an color image in grayscale\n",
    "captcha_array = np.array(captcha_image)\n",
    "img = gray_imagex\n",
    "kernel = cv2.getStructuringElement(cv2.MORPH_RECT, (1,6))\n",
    "morph_img = cv2.morphologyEx(gray_imagex, cv2.MORPH_CLOSE, kernel)\n",
    "cv2.imshow('grey image',morph_img)\n",
    "cv2.imwrite(\"result11.jpg\", morph_img)\n",
    "cv2.waitKey(0)\n",
    "cv2.destroyAllWindows()\n",
    "captcha_text = pytesseract.image_to_string(morph_img)\n",
    "# Mostrar el texto del captcha\n",
    "print(\"Texto del captcha:\", captcha_text)"
   ]
  },
  {
   "cell_type": "code",
   "execution_count": null,
   "id": "4ba1d887",
   "metadata": {},
   "outputs": [],
   "source": []
  },
  {
   "cell_type": "code",
   "execution_count": null,
   "id": "78e4a1f3",
   "metadata": {},
   "outputs": [],
   "source": []
  },
  {
   "cell_type": "code",
   "execution_count": null,
   "id": "d57ac255",
   "metadata": {},
   "outputs": [],
   "source": []
  },
  {
   "cell_type": "code",
   "execution_count": null,
   "id": "c548fddd",
   "metadata": {},
   "outputs": [],
   "source": []
  },
  {
   "cell_type": "code",
   "execution_count": null,
   "id": "49452854",
   "metadata": {},
   "outputs": [],
   "source": []
  },
  {
   "cell_type": "code",
   "execution_count": null,
   "id": "ffcfdd28",
   "metadata": {},
   "outputs": [],
   "source": []
  },
  {
   "cell_type": "code",
   "execution_count": null,
   "id": "d172ab63",
   "metadata": {},
   "outputs": [],
   "source": []
  },
  {
   "cell_type": "code",
   "execution_count": null,
   "id": "b22635c0",
   "metadata": {},
   "outputs": [],
   "source": []
  },
  {
   "cell_type": "code",
   "execution_count": null,
   "id": "5d4345c8",
   "metadata": {},
   "outputs": [],
   "source": []
  },
  {
   "cell_type": "code",
   "execution_count": null,
   "id": "786ac05a",
   "metadata": {},
   "outputs": [],
   "source": []
  },
  {
   "cell_type": "code",
   "execution_count": null,
   "id": "57a971e1",
   "metadata": {},
   "outputs": [],
   "source": []
  },
  {
   "cell_type": "code",
   "execution_count": null,
   "id": "1d4c43e0",
   "metadata": {},
   "outputs": [],
   "source": []
  },
  {
   "cell_type": "code",
   "execution_count": null,
   "id": "0ed9a03b",
   "metadata": {},
   "outputs": [],
   "source": []
  },
  {
   "cell_type": "code",
   "execution_count": 58,
   "id": "6ecfe1d6",
   "metadata": {},
   "outputs": [],
   "source": [
    "cv2.imshow('grey image',captcha_array)\n",
    "cv2.imwrite(\"result11.jpg\", captcha_array)\n",
    "cv2.waitKey(0)\n",
    "cv2.destroyAllWindows()"
   ]
  },
  {
   "cell_type": "code",
   "execution_count": null,
   "id": "1105eece",
   "metadata": {},
   "outputs": [],
   "source": [
    "ret,thresh_img = cv2.threshold(img, 0, 255, cv2.THRESH_BINARY_INV|cv2.THRESH_OTSU)"
   ]
  }
 ],
 "metadata": {
  "kernelspec": {
   "display_name": "scrapspi",
   "language": "python",
   "name": "scrapspi"
  },
  "language_info": {
   "codemirror_mode": {
    "name": "ipython",
    "version": 3
   },
   "file_extension": ".py",
   "mimetype": "text/x-python",
   "name": "python",
   "nbconvert_exporter": "python",
   "pygments_lexer": "ipython3",
   "version": "3.11.4"
  }
 },
 "nbformat": 4,
 "nbformat_minor": 5
}
