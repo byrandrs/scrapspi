{
 "cells": [
  {
   "cell_type": "code",
   "execution_count": 11,
   "id": "5eed3fec",
   "metadata": {},
   "outputs": [],
   "source": [
    "import time\n",
    "from selenium import webdriver\n",
    "from selenium.webdriver.support.ui import Select\n",
    "from bs4 import BeautifulSoup as bs\n",
    "from urllib import request\n",
    "import requests\n",
    "import base64\n",
    "from IPython import display\n",
    "from base64 import b64decode"
   ]
  },
  {
   "cell_type": "code",
   "execution_count": 50,
   "id": "d720d678",
   "metadata": {},
   "outputs": [
    {
     "name": "stderr",
     "output_type": "stream",
     "text": [
      "C:\\Users\\bagomezv\\AppData\\Local\\Temp\\ipykernel_18808\\577582219.py:2: DeprecationWarning: executable_path has been deprecated, please pass in a Service object\n",
      "  driver = webdriver.Chrome('./chromedriver')\n"
     ]
    },
    {
     "name": "stdout",
     "output_type": "stream",
     "text": [
      "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\n"
     ]
    },
    {
     "data": {
      "image/jpeg": "[encoded data removed]",
      "text/plain": [
       "<IPython.core.display.Image object>"
      ]
     },
     "execution_count": 50,
     "metadata": {},
     "output_type": "execute_result"
    }
   ],
   "source": [
    "url=\"https://www.runt.com.co/consultaCiudadana/#/consultaVehiculo\"\n",
    "driver = webdriver.Chrome('./chromedriver')\n",
    "driver.get(url)\n",
    "capcha=driver.find_element(\"xpath\",'//*[@id=\"imgCaptcha\"]')\n",
    "src = capcha.get_attribute(\"src\")\n",
    "respuesta = requests.get(src)\n",
    "contenido_imagen = respuesta.content\n",
    "\n",
    "# Codificar la imagen en base64\n",
    "imagen_base64 = base64.b64encode(contenido_imagen).decode('utf-8')\n",
    "\n",
    "print(imagen_base64)\n",
    "display.Image(b64decode(imagen_base64))"
   ]
  },
  {
   "cell_type": "code",
   "execution_count": 80,
   "id": "94b34064",
   "metadata": {},
   "outputs": [
    {
     "name": "stdout",
     "output_type": "stream",
     "text": [
      "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\n"
     ]
    },
    {
     "data": {
      "image/png": "[encoded data removed]",
      "text/plain": [
       "<IPython.core.display.Image object>"
      ]
     },
     "execution_count": 80,
     "metadata": {},
     "output_type": "execute_result"
    }
   ],
   "source": [
    "contenido_imagen = driver.execute_script(\"return (function(){var xhr = new XMLHttpRequest();xhr.open('GET', '\" + src + \"', false);xhr.setRequestHeader('Content-Type', 'application/x-www-form-urlencoded');xhr.send();return xhr.responseText;})();\")\n",
    "imagen_base64 = base64.b64encode(contenido_imagen.encode('utf-8')).decode('utf-8')\n",
    "print(imagen_base64)\n",
    "display.Image(b64decode(imagen_base64))"
   ]
  },
  {
   "cell_type": "code",
   "execution_count": 48,
   "id": "e79c3b1e",
   "metadata": {},
   "outputs": [
    {
     "name": "stdout",
     "output_type": "stream",
     "text": [
      "https://www.runt.com.co/consultaCiudadana/captcha?id=7\n"
     ]
    }
   ],
   "source": [
    "\n",
    "src = capcha.get_attribute(\"src\")\n",
    "print(src)"
   ]
  },
  {
   "cell_type": "code",
   "execution_count": 49,
   "id": "dbedaaf1",
   "metadata": {},
   "outputs": [
    {
     "name": "stdout",
     "output_type": "stream",
     "text": [
      "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\n"
     ]
    },
    {
     "data": {
      "image/jpeg": "[encoded data removed]",
      "text/plain": [
       "<IPython.core.display.Image object>"
      ]
     },
     "execution_count": 49,
     "metadata": {},
     "output_type": "execute_result"
    }
   ],
   "source": [
    "respuesta = requests.get(src)\n",
    "contenido_imagen = respuesta.content\n",
    "\n",
    "# Codificar la imagen en base64\n",
    "imagen_base64 = base64.b64encode(contenido_imagen).decode('utf-8')\n",
    "\n",
    "print(imagen_base64)\n",
    "display.Image(b64decode(imagen_base64))"
   ]
  }
 ],
 "metadata": {
  "kernelspec": {
   "display_name": "scrapspi",
   "language": "python",
   "name": "scrapspi"
  },
  "language_info": {
   "codemirror_mode": {
    "name": "ipython",
    "version": 3
   },
   "file_extension": ".py",
   "mimetype": "text/x-python",
   "name": "python",
   "nbconvert_exporter": "python",
   "pygments_lexer": "ipython3",
   "version": "3.11.2"
  }
 },
 "nbformat": 4,
 "nbformat_minor": 5
}
