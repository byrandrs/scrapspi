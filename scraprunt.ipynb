{
 "cells": [
  {
   "cell_type": "code",
   "execution_count": 1,
   "id": "a815aec8",
   "metadata": {},
   "outputs": [],
   "source": [
    "#cargar librerias\n",
    "import time\n",
    "from selenium import webdriver\n",
    "from selenium.webdriver.support.ui import Select\n",
    "from bs4 import BeautifulSoup as bs\n",
    "from urllib import request\n",
    "import requests\n",
    "import base64\n",
    "from IPython import display\n",
    "from base64 import b64decode\n",
    "import asyncio\n",
    "from pyppeteer import launch\n",
    "from PIL import Image\n",
    "import io\n",
    "from io import BytesIO\n",
    "import matplotlib.pyplot as plt\n",
    "import pytesseract\n",
    "import cv2\n",
    "import numpy as np\n",
    "\n",
    "# Ruta completa al ejecutable de Tesseract OCR\n",
    "pytesseract.pytesseract.tesseract_cmd = r'C:\\Program Files\\Tesseract-OCR\\tesseract'\n",
    "\n"
   ]
  },
  {
   "cell_type": "code",
   "execution_count": 2,
   "id": "49d3cc1f",
   "metadata": {},
   "outputs": [
    {
     "name": "stderr",
     "output_type": "stream",
     "text": [
      "C:\\Users\\bagomezv\\AppData\\Local\\Temp\\ipykernel_14788\\3427403625.py:3: DeprecationWarning: executable_path has been deprecated, please pass in a Service object\n",
      "  driver = webdriver.Chrome('./chromedriver')\n"
     ]
    }
   ],
   "source": [
    "#Cargar bot\n",
    "url=\"https://www.runt.com.co/consultaCiudadana/#/consultaVehiculo\"\n",
    "driver = webdriver.Chrome('./chromedriver')\n",
    "driver.get(url)"
   ]
  },
  {
   "cell_type": "code",
   "execution_count": 3,
   "id": "5f097259",
   "metadata": {},
   "outputs": [
    {
     "name": "stdout",
     "output_type": "stream",
     "text": [
      "994\n",
      "Texto del captcha: \n"
     ]
    }
   ],
   "source": [
    "#Tomo Screenshot\n",
    "#FUnciona como screnshot y corta la imagen\n",
    "# Encontrar el elemento de imagen del captcha\n",
    "captcha = driver.find_element(\"xpath\",'//*[@id=\"imgCaptcha\"]')\n",
    "\n",
    "# Obtener la ubicación y tamaño del elemento del captcha\n",
    "location = captcha.location\n",
    "size = captcha.size\n",
    "\n",
    "# Capturar una captura de pantalla completa de la página\n",
    "screenshot = driver.get_screenshot_as_png()\n",
    "screenshot = Image.open(io.BytesIO(screenshot))\n",
    "\n",
    "# Calcular las coordenadas de recorte del captcha\n",
    "left = int(location['x'])+100\n",
    "\n",
    "top = int(location['y'])+100\n",
    "right = int(location['x']+100 + size['width'])\n",
    "bottom = int(location['y']+100 + size['height'])\n",
    "print(left)\n",
    "\n",
    "# Recortar la imagen del captcha de la captura de pantalla\n",
    "captcha_image = screenshot.crop((left, top, right, bottom))\n",
    "\n",
    "ruta_salida = r\"C:\\Users\\bagomezv\\Documents\\GitHub\\scrapspi\\salida.txt\"\n",
    "\n",
    "# Realizar OCR en la imagen del captcha\n",
    "captcha_text = pytesseract.image_to_string(captcha_image)\n",
    "\n",
    "\n",
    "# Mostrar el texto del captcha\n",
    "print(\"Texto del captcha:\", captcha_text)\n",
    "# Mostrar la imagen\n",
    "captcha_image.show()"
   ]
  },
  {
   "cell_type": "code",
   "execution_count": 4,
   "id": "f080bbda",
   "metadata": {},
   "outputs": [
    {
     "data": {
      "image/jpeg": "[encoded data removed]",
      "text/plain": [
       "<IPython.core.display.Image object>"
      ]
     },
     "execution_count": 4,
     "metadata": {},
     "output_type": "execute_result"
    }
   ],
   "source": [
    "#visualizar screenshot\n",
    "# Convertir la imagen PIL a modo RGB\n",
    "image_rgb = captcha_image.convert('RGB')\n",
    "# Guardar la imagen RGB en un búfer en formato JPEG\n",
    "buffer = BytesIO()\n",
    "image_rgb.save(buffer, format='JPEG')\n",
    "image_bytes = buffer.getvalue()\n",
    "\n",
    "# Codificar la secuencia de bytes a base64\n",
    "base64_image = base64.b64encode(image_bytes).decode('utf-8')\n",
    "\n",
    "display.Image(b64decode(base64_image))"
   ]
  },
  {
   "cell_type": "code",
   "execution_count": 14,
   "id": "159678ea",
   "metadata": {},
   "outputs": [],
   "source": [
    "# Inputs del formulario\n",
    "no_placa=driver.find_element(\"xpath\",'//*[@id=\"noPlaca\"]')\n",
    "tipo_documento=Select(driver.find_element(\"xpath\",'/html/body/div[1]/div/div[1]/div[2]/div[1]/div[2]/div[1]/div[3]/div[2]/div/div/form/div[4]/div/select'))\n",
    "no_documento=driver.find_element(\"xpath\",'/html/body/div[1]/div/div[1]/div[2]/div[1]/div[2]/div[1]/div[3]/div[2]/div/div/form/div[5]/div[1]/input')\n",
    "capcha=driver.find_element(\"xpath\",'//*[@id=\"captchatxt\"]')\n",
    "consultar=driver.find_element(\"xpath\",'/html/body/div[1]/div/div[1]/div[2]/div[1]/div[2]/div[1]/div[3]/div[2]/div/div/form/div[9]/button')"
   ]
  },
  {
   "cell_type": "code",
   "execution_count": 23,
   "id": "a479060b",
   "metadata": {},
   "outputs": [],
   "source": [
    "#Ingresar datos de consulta\n",
    "no_placa.send_keys('KLC37G')\n",
    "tipo_documento.select_by_value('C')\n",
    "no_documento.send_keys(1019074235)\n",
    "capcha.send_keys('r7dkm')"
   ]
  },
  {
   "cell_type": "code",
   "execution_count": 27,
   "id": "a92c61b5",
   "metadata": {},
   "outputs": [],
   "source": [
    "#Hacer consulta\n",
    "consultar.click()"
   ]
  },
  {
   "cell_type": "code",
   "execution_count": 28,
   "id": "b15f6c2e",
   "metadata": {},
   "outputs": [
    {
     "data": {
      "text/plain": [
       "'ACTIVO'"
      ]
     },
     "execution_count": 28,
     "metadata": {},
     "output_type": "execute_result"
    }
   ],
   "source": [
    "#datos\n",
    "placa=driver.find_element(\"xpath\",'/html/body/div[1]/div/div[1]/div[2]/div[1]/div[2]/div[1]/div[5]/div[2]/div/div[1]/div[2]')\n",
    "no_licencia=driver.find_element(\"xpath\",'/html/body/div[1]/div/div[1]/div[2]/div[1]/div[2]/div[1]/div[5]/div[2]/div/div[2]/div[2]')\n",
    "estado_vehiculo=driver.find_element(\"xpath\",'/html/body/div[1]/div/div[1]/div[2]/div[1]/div[2]/div[1]/div[5]/div[2]/div/div[2]/div[4]')\n",
    "tipo_servicio=driver.find_element(\"xpath\",'/html/body/div[1]/div/div[1]/div[2]/div[1]/div[2]/div[1]/div[5]/div[2]/div/div[3]/div[2]')\n",
    "clase_vehiculo=driver.find_element(\"xpath\",'/html/body/div[1]/div/div[1]/div[2]/div[1]/div[2]/div[1]/div[5]/div[2]/div/div[3]/div[4]')\n",
    "marca=driver.find_element(\"xpath\",'//*[@id=\"pnlInformacionGeneralVehiculo\"]/div/div/div/div[1]/div[2]')\n"
   ]
  },
  {
   "cell_type": "code",
   "execution_count": null,
   "id": "93e17b55",
   "metadata": {},
   "outputs": [],
   "source": []
  }
 ],
 "metadata": {
  "kernelspec": {
   "display_name": "scrapspi",
   "language": "python",
   "name": "scrapspi"
  },
  "language_info": {
   "codemirror_mode": {
    "name": "ipython",
    "version": 3
   },
   "file_extension": ".py",
   "mimetype": "text/x-python",
   "name": "python",
   "nbconvert_exporter": "python",
   "pygments_lexer": "ipython3",
   "version": "3.11.4"
  }
 },
 "nbformat": 4,
 "nbformat_minor": 5
}
