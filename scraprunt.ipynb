{
 "cells": [
  {
   "cell_type": "code",
   "execution_count": 1,
   "id": "a815aec8",
   "metadata": {},
   "outputs": [],
   "source": [
    "#cargar librerias\n",
    "import time\n",
    "from selenium import webdriver\n",
    "from selenium.webdriver.support.ui import Select\n",
    "from bs4 import BeautifulSoup as bs\n",
    "from urllib import request\n",
    "import requests\n",
    "import base64\n",
    "from IPython import display\n",
    "from base64 import b64decode\n",
    "import asyncio\n",
    "from pyppeteer import launch\n",
    "from PIL import Image\n",
    "import io\n",
    "from io import BytesIO\n",
    "import matplotlib.pyplot as plt\n",
    "import pytesseract\n",
    "import cv2\n",
    "import numpy as np\n",
    "\n",
    "# Ruta completa al ejecutable de Tesseract OCR\n",
    "pytesseract.pytesseract.tesseract_cmd = r'C:\\Program Files\\Tesseract-OCR\\tesseract'\n",
    "\n"
   ]
  },
  {
   "cell_type": "code",
   "execution_count": 2,
   "id": "49d3cc1f",
   "metadata": {},
   "outputs": [
    {
     "name": "stderr",
     "output_type": "stream",
     "text": [
      "C:\\Users\\bagomezv\\AppData\\Local\\Temp\\ipykernel_4708\\3427403625.py:3: DeprecationWarning: executable_path has been deprecated, please pass in a Service object\n",
      "  driver = webdriver.Chrome('./chromedriver')\n"
     ]
    },
    {
     "ename": "SessionNotCreatedException",
     "evalue": "Message: session not created: This version of ChromeDriver only supports Chrome version 114\nCurrent browser version is 117.0.5938.132 with binary path C:\\Program Files\\Google\\Chrome\\Application\\chrome.exe\nStacktrace:\nBacktrace:\n\tGetHandleVerifier [0x00EAA813+48355]\n\t(No symbol) [0x00E3C4B1]\n\t(No symbol) [0x00D45358]\n\t(No symbol) [0x00D661AC]\n\t(No symbol) [0x00D61EF3]\n\t(No symbol) [0x00D60579]\n\t(No symbol) [0x00D90C55]\n\t(No symbol) [0x00D9093C]\n\t(No symbol) [0x00D8A536]\n\t(No symbol) [0x00D682DC]\n\t(No symbol) [0x00D693DD]\n\tGetHandleVerifier [0x0110AABD+2539405]\n\tGetHandleVerifier [0x0114A78F+2800735]\n\tGetHandleVerifier [0x0114456C+2775612]\n\tGetHandleVerifier [0x00F351E0+616112]\n\t(No symbol) [0x00E45F8C]\n\t(No symbol) [0x00E42328]\n\t(No symbol) [0x00E4240B]\n\t(No symbol) [0x00E34FF7]\n\tBaseThreadInitThunk [0x76600099+25]\n\tRtlGetAppContainerNamedObjectPath [0x77C77B6E+286]\n\tRtlGetAppContainerNamedObjectPath [0x77C77B3E+238]\n",
     "output_type": "error",
     "traceback": [
      "\u001b[1;31m---------------------------------------------------------------------------\u001b[0m",
      "\u001b[1;31mSessionNotCreatedException\u001b[0m                Traceback (most recent call last)",
      "Cell \u001b[1;32mIn[2], line 3\u001b[0m\n\u001b[0;32m      1\u001b[0m \u001b[38;5;66;03m#Cargar bot\u001b[39;00m\n\u001b[0;32m      2\u001b[0m url\u001b[38;5;241m=\u001b[39m\u001b[38;5;124m\"\u001b[39m\u001b[38;5;124mhttps://www.runt.com.co/consultaCiudadana/#/consultaVehiculo\u001b[39m\u001b[38;5;124m\"\u001b[39m\n\u001b[1;32m----> 3\u001b[0m driver \u001b[38;5;241m=\u001b[39m webdriver\u001b[38;5;241m.\u001b[39mChrome(\u001b[38;5;124m'\u001b[39m\u001b[38;5;124m./chromedriver\u001b[39m\u001b[38;5;124m'\u001b[39m)\n\u001b[0;32m      4\u001b[0m driver\u001b[38;5;241m.\u001b[39mget(url)\n",
      "File \u001b[1;32m~\\.conda\\envs\\scrapspi\\Lib\\site-packages\\selenium\\webdriver\\chrome\\webdriver.py:80\u001b[0m, in \u001b[0;36mWebDriver.__init__\u001b[1;34m(self, executable_path, port, options, service_args, desired_capabilities, service_log_path, chrome_options, service, keep_alive)\u001b[0m\n\u001b[0;32m     77\u001b[0m \u001b[38;5;28;01mif\u001b[39;00m \u001b[38;5;129;01mnot\u001b[39;00m service:\n\u001b[0;32m     78\u001b[0m     service \u001b[38;5;241m=\u001b[39m Service(executable_path, port, service_args, service_log_path)\n\u001b[1;32m---> 80\u001b[0m \u001b[38;5;28msuper\u001b[39m()\u001b[38;5;241m.\u001b[39m\u001b[38;5;21m__init__\u001b[39m(\n\u001b[0;32m     81\u001b[0m     DesiredCapabilities\u001b[38;5;241m.\u001b[39mCHROME[\u001b[38;5;124m\"\u001b[39m\u001b[38;5;124mbrowserName\u001b[39m\u001b[38;5;124m\"\u001b[39m],\n\u001b[0;32m     82\u001b[0m     \u001b[38;5;124m\"\u001b[39m\u001b[38;5;124mgoog\u001b[39m\u001b[38;5;124m\"\u001b[39m,\n\u001b[0;32m     83\u001b[0m     port,\n\u001b[0;32m     84\u001b[0m     options,\n\u001b[0;32m     85\u001b[0m     service_args,\n\u001b[0;32m     86\u001b[0m     desired_capabilities,\n\u001b[0;32m     87\u001b[0m     service_log_path,\n\u001b[0;32m     88\u001b[0m     service,\n\u001b[0;32m     89\u001b[0m     keep_alive,\n\u001b[0;32m     90\u001b[0m )\n",
      "File \u001b[1;32m~\\.conda\\envs\\scrapspi\\Lib\\site-packages\\selenium\\webdriver\\chromium\\webdriver.py:104\u001b[0m, in \u001b[0;36mChromiumDriver.__init__\u001b[1;34m(self, browser_name, vendor_prefix, port, options, service_args, desired_capabilities, service_log_path, service, keep_alive)\u001b[0m\n\u001b[0;32m    101\u001b[0m \u001b[38;5;28mself\u001b[39m\u001b[38;5;241m.\u001b[39mservice\u001b[38;5;241m.\u001b[39mstart()\n\u001b[0;32m    103\u001b[0m \u001b[38;5;28;01mtry\u001b[39;00m:\n\u001b[1;32m--> 104\u001b[0m     \u001b[38;5;28msuper\u001b[39m()\u001b[38;5;241m.\u001b[39m\u001b[38;5;21m__init__\u001b[39m(\n\u001b[0;32m    105\u001b[0m         command_executor\u001b[38;5;241m=\u001b[39mChromiumRemoteConnection(\n\u001b[0;32m    106\u001b[0m             remote_server_addr\u001b[38;5;241m=\u001b[39m\u001b[38;5;28mself\u001b[39m\u001b[38;5;241m.\u001b[39mservice\u001b[38;5;241m.\u001b[39mservice_url,\n\u001b[0;32m    107\u001b[0m             browser_name\u001b[38;5;241m=\u001b[39mbrowser_name,\n\u001b[0;32m    108\u001b[0m             vendor_prefix\u001b[38;5;241m=\u001b[39mvendor_prefix,\n\u001b[0;32m    109\u001b[0m             keep_alive\u001b[38;5;241m=\u001b[39mkeep_alive,\n\u001b[0;32m    110\u001b[0m             ignore_proxy\u001b[38;5;241m=\u001b[39m_ignore_proxy,\n\u001b[0;32m    111\u001b[0m         ),\n\u001b[0;32m    112\u001b[0m         options\u001b[38;5;241m=\u001b[39moptions,\n\u001b[0;32m    113\u001b[0m     )\n\u001b[0;32m    114\u001b[0m \u001b[38;5;28;01mexcept\u001b[39;00m \u001b[38;5;167;01mException\u001b[39;00m:\n\u001b[0;32m    115\u001b[0m     \u001b[38;5;28mself\u001b[39m\u001b[38;5;241m.\u001b[39mquit()\n",
      "File \u001b[1;32m~\\.conda\\envs\\scrapspi\\Lib\\site-packages\\selenium\\webdriver\\remote\\webdriver.py:286\u001b[0m, in \u001b[0;36mWebDriver.__init__\u001b[1;34m(self, command_executor, desired_capabilities, browser_profile, proxy, keep_alive, file_detector, options)\u001b[0m\n\u001b[0;32m    284\u001b[0m \u001b[38;5;28mself\u001b[39m\u001b[38;5;241m.\u001b[39m_authenticator_id \u001b[38;5;241m=\u001b[39m \u001b[38;5;28;01mNone\u001b[39;00m\n\u001b[0;32m    285\u001b[0m \u001b[38;5;28mself\u001b[39m\u001b[38;5;241m.\u001b[39mstart_client()\n\u001b[1;32m--> 286\u001b[0m \u001b[38;5;28mself\u001b[39m\u001b[38;5;241m.\u001b[39mstart_session(capabilities, browser_profile)\n",
      "File \u001b[1;32m~\\.conda\\envs\\scrapspi\\Lib\\site-packages\\selenium\\webdriver\\remote\\webdriver.py:378\u001b[0m, in \u001b[0;36mWebDriver.start_session\u001b[1;34m(self, capabilities, browser_profile)\u001b[0m\n\u001b[0;32m    376\u001b[0m w3c_caps \u001b[38;5;241m=\u001b[39m _make_w3c_caps(capabilities)\n\u001b[0;32m    377\u001b[0m parameters \u001b[38;5;241m=\u001b[39m {\u001b[38;5;124m\"\u001b[39m\u001b[38;5;124mcapabilities\u001b[39m\u001b[38;5;124m\"\u001b[39m: w3c_caps}\n\u001b[1;32m--> 378\u001b[0m response \u001b[38;5;241m=\u001b[39m \u001b[38;5;28mself\u001b[39m\u001b[38;5;241m.\u001b[39mexecute(Command\u001b[38;5;241m.\u001b[39mNEW_SESSION, parameters)\n\u001b[0;32m    379\u001b[0m \u001b[38;5;28;01mif\u001b[39;00m \u001b[38;5;124m\"\u001b[39m\u001b[38;5;124msessionId\u001b[39m\u001b[38;5;124m\"\u001b[39m \u001b[38;5;129;01mnot\u001b[39;00m \u001b[38;5;129;01min\u001b[39;00m response:\n\u001b[0;32m    380\u001b[0m     response \u001b[38;5;241m=\u001b[39m response[\u001b[38;5;124m\"\u001b[39m\u001b[38;5;124mvalue\u001b[39m\u001b[38;5;124m\"\u001b[39m]\n",
      "File \u001b[1;32m~\\.conda\\envs\\scrapspi\\Lib\\site-packages\\selenium\\webdriver\\remote\\webdriver.py:440\u001b[0m, in \u001b[0;36mWebDriver.execute\u001b[1;34m(self, driver_command, params)\u001b[0m\n\u001b[0;32m    438\u001b[0m response \u001b[38;5;241m=\u001b[39m \u001b[38;5;28mself\u001b[39m\u001b[38;5;241m.\u001b[39mcommand_executor\u001b[38;5;241m.\u001b[39mexecute(driver_command, params)\n\u001b[0;32m    439\u001b[0m \u001b[38;5;28;01mif\u001b[39;00m response:\n\u001b[1;32m--> 440\u001b[0m     \u001b[38;5;28mself\u001b[39m\u001b[38;5;241m.\u001b[39merror_handler\u001b[38;5;241m.\u001b[39mcheck_response(response)\n\u001b[0;32m    441\u001b[0m     response[\u001b[38;5;124m\"\u001b[39m\u001b[38;5;124mvalue\u001b[39m\u001b[38;5;124m\"\u001b[39m] \u001b[38;5;241m=\u001b[39m \u001b[38;5;28mself\u001b[39m\u001b[38;5;241m.\u001b[39m_unwrap_value(response\u001b[38;5;241m.\u001b[39mget(\u001b[38;5;124m\"\u001b[39m\u001b[38;5;124mvalue\u001b[39m\u001b[38;5;124m\"\u001b[39m, \u001b[38;5;28;01mNone\u001b[39;00m))\n\u001b[0;32m    442\u001b[0m     \u001b[38;5;28;01mreturn\u001b[39;00m response\n",
      "File \u001b[1;32m~\\.conda\\envs\\scrapspi\\Lib\\site-packages\\selenium\\webdriver\\remote\\errorhandler.py:245\u001b[0m, in \u001b[0;36mErrorHandler.check_response\u001b[1;34m(self, response)\u001b[0m\n\u001b[0;32m    243\u001b[0m         alert_text \u001b[38;5;241m=\u001b[39m value[\u001b[38;5;124m\"\u001b[39m\u001b[38;5;124malert\u001b[39m\u001b[38;5;124m\"\u001b[39m]\u001b[38;5;241m.\u001b[39mget(\u001b[38;5;124m\"\u001b[39m\u001b[38;5;124mtext\u001b[39m\u001b[38;5;124m\"\u001b[39m)\n\u001b[0;32m    244\u001b[0m     \u001b[38;5;28;01mraise\u001b[39;00m exception_class(message, screen, stacktrace, alert_text)  \u001b[38;5;66;03m# type: ignore[call-arg]  # mypy is not smart enough here\u001b[39;00m\n\u001b[1;32m--> 245\u001b[0m \u001b[38;5;28;01mraise\u001b[39;00m exception_class(message, screen, stacktrace)\n",
      "\u001b[1;31mSessionNotCreatedException\u001b[0m: Message: session not created: This version of ChromeDriver only supports Chrome version 114\nCurrent browser version is 117.0.5938.132 with binary path C:\\Program Files\\Google\\Chrome\\Application\\chrome.exe\nStacktrace:\nBacktrace:\n\tGetHandleVerifier [0x00EAA813+48355]\n\t(No symbol) [0x00E3C4B1]\n\t(No symbol) [0x00D45358]\n\t(No symbol) [0x00D661AC]\n\t(No symbol) [0x00D61EF3]\n\t(No symbol) [0x00D60579]\n\t(No symbol) [0x00D90C55]\n\t(No symbol) [0x00D9093C]\n\t(No symbol) [0x00D8A536]\n\t(No symbol) [0x00D682DC]\n\t(No symbol) [0x00D693DD]\n\tGetHandleVerifier [0x0110AABD+2539405]\n\tGetHandleVerifier [0x0114A78F+2800735]\n\tGetHandleVerifier [0x0114456C+2775612]\n\tGetHandleVerifier [0x00F351E0+616112]\n\t(No symbol) [0x00E45F8C]\n\t(No symbol) [0x00E42328]\n\t(No symbol) [0x00E4240B]\n\t(No symbol) [0x00E34FF7]\n\tBaseThreadInitThunk [0x76600099+25]\n\tRtlGetAppContainerNamedObjectPath [0x77C77B6E+286]\n\tRtlGetAppContainerNamedObjectPath [0x77C77B3E+238]\n"
     ]
    }
   ],
   "source": [
    "#Cargar bot\n",
    "url=\"https://www.runt.com.co/consultaCiudadana/#/consultaVehiculo\"\n",
    "driver = webdriver.Chrome('./chromedriver')\n",
    "driver.get(url)"
   ]
  },
  {
   "cell_type": "code",
   "execution_count": 3,
   "id": "5f097259",
   "metadata": {},
   "outputs": [
    {
     "name": "stdout",
     "output_type": "stream",
     "text": [
      "994\n",
      "Texto del captcha: \n"
     ]
    }
   ],
   "source": [
    "#Tomo Screenshot\n",
    "#FUnciona como screnshot y corta la imagen\n",
    "# Encontrar el elemento de imagen del captcha\n",
    "captcha = driver.find_element(\"xpath\",'//*[@id=\"imgCaptcha\"]')\n",
    "\n",
    "# Obtener la ubicación y tamaño del elemento del captcha\n",
    "location = captcha.location\n",
    "size = captcha.size\n",
    "\n",
    "# Capturar una captura de pantalla completa de la página\n",
    "screenshot = driver.get_screenshot_as_png()\n",
    "screenshot = Image.open(io.BytesIO(screenshot))\n",
    "\n",
    "# Calcular las coordenadas de recorte del captcha\n",
    "left = int(location['x'])+100\n",
    "\n",
    "top = int(location['y'])+100\n",
    "right = int(location['x']+100 + size['width'])\n",
    "bottom = int(location['y']+100 + size['height'])\n",
    "print(left)\n",
    "\n",
    "# Recortar la imagen del captcha de la captura de pantalla\n",
    "captcha_image = screenshot.crop((left, top, right, bottom))\n",
    "\n",
    "ruta_salida = r\"C:\\Users\\bagomezv\\Documents\\GitHub\\scrapspi\\salida.txt\"\n",
    "\n",
    "# Realizar OCR en la imagen del captcha\n",
    "captcha_text = pytesseract.image_to_string(captcha_image)\n",
    "\n",
    "\n",
    "# Mostrar el texto del captcha\n",
    "print(\"Texto del captcha:\", captcha_text)\n",
    "# Mostrar la imagen\n",
    "captcha_image.show()"
   ]
  },
  {
   "cell_type": "code",
   "execution_count": 4,
   "id": "f080bbda",
   "metadata": {},
   "outputs": [
    {
     "data": {
      "image/jpeg": "[encoded data removed]",
      "text/plain": [
       "<IPython.core.display.Image object>"
      ]
     },
     "execution_count": 4,
     "metadata": {},
     "output_type": "execute_result"
    }
   ],
   "source": [
    "#visualizar screenshot\n",
    "# Convertir la imagen PIL a modo RGB\n",
    "image_rgb = captcha_image.convert('RGB')\n",
    "# Guardar la imagen RGB en un búfer en formato JPEG\n",
    "buffer = BytesIO()\n",
    "image_rgb.save(buffer, format='JPEG')\n",
    "image_bytes = buffer.getvalue()\n",
    "\n",
    "# Codificar la secuencia de bytes a base64\n",
    "base64_image = base64.b64encode(image_bytes).decode('utf-8')\n",
    "\n",
    "display.Image(b64decode(base64_image))"
   ]
  },
  {
   "cell_type": "code",
   "execution_count": 14,
   "id": "159678ea",
   "metadata": {},
   "outputs": [],
   "source": [
    "# Inputs del formulario\n",
    "no_placa=driver.find_element(\"xpath\",'//*[@id=\"noPlaca\"]')\n",
    "tipo_documento=Select(driver.find_element(\"xpath\",'/html/body/div[1]/div/div[1]/div[2]/div[1]/div[2]/div[1]/div[3]/div[2]/div/div/form/div[4]/div/select'))\n",
    "no_documento=driver.find_element(\"xpath\",'/html/body/div[1]/div/div[1]/div[2]/div[1]/div[2]/div[1]/div[3]/div[2]/div/div/form/div[5]/div[1]/input')\n",
    "capcha=driver.find_element(\"xpath\",'//*[@id=\"captchatxt\"]')\n",
    "consultar=driver.find_element(\"xpath\",'/html/body/div[1]/div/div[1]/div[2]/div[1]/div[2]/div[1]/div[3]/div[2]/div/div/form/div[9]/button')"
   ]
  },
  {
   "cell_type": "code",
   "execution_count": 23,
   "id": "a479060b",
   "metadata": {},
   "outputs": [],
   "source": [
    "#Ingresar datos de consulta\n",
    "no_placa.send_keys('KLC37G')\n",
    "tipo_documento.select_by_value('C')\n",
    "no_documento.send_keys(1019074235)\n",
    "capcha.send_keys('r7dkm')"
   ]
  },
  {
   "cell_type": "code",
   "execution_count": 27,
   "id": "a92c61b5",
   "metadata": {},
   "outputs": [],
   "source": [
    "#Hacer consulta\n",
    "consultar.click()"
   ]
  },
  {
   "cell_type": "code",
   "execution_count": 28,
   "id": "b15f6c2e",
   "metadata": {},
   "outputs": [
    {
     "data": {
      "text/plain": [
       "'ACTIVO'"
      ]
     },
     "execution_count": 28,
     "metadata": {},
     "output_type": "execute_result"
    }
   ],
   "source": [
    "#datos\n",
    "placa=driver.find_element(\"xpath\",'/html/body/div[1]/div/div[1]/div[2]/div[1]/div[2]/div[1]/div[5]/div[2]/div/div[1]/div[2]')\n",
    "no_licencia=driver.find_element(\"xpath\",'/html/body/div[1]/div/div[1]/div[2]/div[1]/div[2]/div[1]/div[5]/div[2]/div/div[2]/div[2]')\n",
    "estado_vehiculo=driver.find_element(\"xpath\",'/html/body/div[1]/div/div[1]/div[2]/div[1]/div[2]/div[1]/div[5]/div[2]/div/div[2]/div[4]')\n",
    "tipo_servicio=driver.find_element(\"xpath\",'/html/body/div[1]/div/div[1]/div[2]/div[1]/div[2]/div[1]/div[5]/div[2]/div/div[3]/div[2]')\n",
    "clase_vehiculo=driver.find_element(\"xpath\",'/html/body/div[1]/div/div[1]/div[2]/div[1]/div[2]/div[1]/div[5]/div[2]/div/div[3]/div[4]')\n",
    "marca=driver.find_element(\"xpath\",'//*[@id=\"pnlInformacionGeneralVehiculo\"]/div/div/div/div[1]/div[2]')\n"
   ]
  },
  {
   "cell_type": "code",
   "execution_count": null,
   "id": "93e17b55",
   "metadata": {},
   "outputs": [],
   "source": []
  }
 ],
 "metadata": {
  "kernelspec": {
   "display_name": "scrapspi",
   "language": "python",
   "name": "scrapspi"
  },
  "language_info": {
   "codemirror_mode": {
    "name": "ipython",
    "version": 3
   },
   "file_extension": ".py",
   "mimetype": "text/x-python",
   "name": "python",
   "nbconvert_exporter": "python",
   "pygments_lexer": "ipython3",
   "version": "3.11.4"
  }
 },
 "nbformat": 4,
 "nbformat_minor": 5
}
