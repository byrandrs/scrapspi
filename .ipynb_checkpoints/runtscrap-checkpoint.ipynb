{
 "cells": [
  {
   "cell_type": "code",
   "execution_count": 1,
   "id": "d1afe34a",
   "metadata": {},
   "outputs": [],
   "source": [
    "import time\n",
    "from selenium import webdriver\n",
    "from selenium.webdriver.support.ui import Select\n",
    "from bs4 import BeautifulSoup as bs\n",
    "from urllib import request\n",
    "import requests\n",
    "import base64"
   ]
  },
  {
   "cell_type": "code",
   "execution_count": 2,
   "id": "98438377",
   "metadata": {},
   "outputs": [
    {
     "name": "stderr",
     "output_type": "stream",
     "text": [
      "C:\\Users\\bagomezv\\AppData\\Local\\Temp\\ipykernel_18808\\185300482.py:2: DeprecationWarning: executable_path has been deprecated, please pass in a Service object\n",
      "  driver = webdriver.Chrome('./chromedriver')\n"
     ]
    }
   ],
   "source": [
    "url=\"https://www.runt.com.co/consultaCiudadana/#/consultaVehiculo\"\n",
    "driver = webdriver.Chrome('./chromedriver')\n",
    "driver.get(url)"
   ]
  },
  {
   "cell_type": "code",
   "execution_count": 3,
   "id": "5af12719",
   "metadata": {},
   "outputs": [],
   "source": [
    "capcha=driver.find_element(\"xpath\",'//*[@id=\"imgCaptcha\"]')"
   ]
  },
  {
   "cell_type": "code",
   "execution_count": 6,
   "id": "3ba90cd8",
   "metadata": {},
   "outputs": [
    {
     "name": "stdout",
     "output_type": "stream",
     "text": [
      "https://www.runt.com.co/consultaCiudadana/captcha?id=7\n"
     ]
    }
   ],
   "source": [
    "\n",
    "src = capcha.get_attribute(\"src\")\n",
    "print(src)"
   ]
  },
  {
   "cell_type": "code",
   "execution_count": 7,
   "id": "2f1038d5",
   "metadata": {},
   "outputs": [
    {
     "ename": "NameError",
     "evalue": "name 'base64' is not defined",
     "output_type": "error",
     "traceback": [
      "\u001b[1;31m---------------------------------------------------------------------------\u001b[0m",
      "\u001b[1;31mNameError\u001b[0m                                 Traceback (most recent call last)",
      "Cell \u001b[1;32mIn[7], line 5\u001b[0m\n\u001b[0;32m      2\u001b[0m contenido_imagen \u001b[38;5;241m=\u001b[39m respuesta\u001b[38;5;241m.\u001b[39mcontent\n\u001b[0;32m      4\u001b[0m \u001b[38;5;66;03m# Codificar la imagen en base64\u001b[39;00m\n\u001b[1;32m----> 5\u001b[0m imagen_base64 \u001b[38;5;241m=\u001b[39m base64\u001b[38;5;241m.\u001b[39mb64encode(contenido_imagen)\u001b[38;5;241m.\u001b[39mdecode(\u001b[38;5;124m'\u001b[39m\u001b[38;5;124mutf-8\u001b[39m\u001b[38;5;124m'\u001b[39m)\n\u001b[0;32m      7\u001b[0m \u001b[38;5;28mprint\u001b[39m(imagen_base64)\n",
      "\u001b[1;31mNameError\u001b[0m: name 'base64' is not defined"
     ]
    }
   ],
   "source": [
    "respuesta = requests.get(src)\n",
    "contenido_imagen = respuesta.content\n",
    "\n",
    "# Codificar la imagen en base64\n",
    "imagen_base64 = base64.b64encode(contenido_imagen).decode('utf-8')\n",
    "\n",
    "print(imagen_base64)"
   ]
  }
 ],
 "metadata": {
  "kernelspec": {
   "display_name": "scrapspi",
   "language": "python",
   "name": "scrapspi"
  },
  "language_info": {
   "codemirror_mode": {
    "name": "ipython",
    "version": 3
   },
   "file_extension": ".py",
   "mimetype": "text/x-python",
   "name": "python",
   "nbconvert_exporter": "python",
   "pygments_lexer": "ipython3",
   "version": "3.11.2"
  }
 },
 "nbformat": 4,
 "nbformat_minor": 5
}
