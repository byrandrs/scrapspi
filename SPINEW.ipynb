{
 "cells": [
  {
   "cell_type": "code",
   "execution_count": 1,
   "id": "989eff76",
   "metadata": {},
   "outputs": [],
   "source": [
    "import time\n",
    "from selenium import webdriver\n",
    "from selenium.webdriver.chrome.service import Service\n",
    "from webdriver_manager.chrome import ChromeDriverManager\n",
    "from selenium.webdriver.support.ui import Select\n",
    "from selenium.webdriver.common.by import By\n",
    "from selenium.webdriver.chrome.options import Options\n",
    "from bs4 import BeautifulSoup as bs\n",
    "from urllib import request\n",
    "import requests\n",
    "import pandas as pd"
   ]
  },
  {
   "cell_type": "code",
   "execution_count": 2,
   "id": "4927e14a",
   "metadata": {},
   "outputs": [],
   "source": [
    "chrome_options = Options()\n",
    "chrome_options.add_argument('--no-sandbox')\n",
    "chrome_options.add_argument(\"--start-maximized\")\n",
    "chrome_options.add_argument('--window-size=1420,1080')\n",
    "chrome_options.add_argument('--disable-dev-shm-usage')\n",
    "chrome_options.add_argument('--disable-gpu')\n",
    "chrome_options.add_argument(\"--disable-notifications\")\n",
    "chrome_options.add_argument(\"--remote-debugging-port=9222\")\n",
    "chrome_options.add_experimental_option(\"excludeSwitches\", [\"enable-automation\"])\n",
    "chrome_options.add_experimental_option('useAutomationExtension', False)\n",
    "chrome_options.add_experimental_option(\"excludeSwitches\", [\"disable-popup-blocking\"])\n",
    "\n",
    "\n"
   ]
  },
  {
   "cell_type": "code",
   "execution_count": 3,
   "id": "53a88c86",
   "metadata": {},
   "outputs": [],
   "source": [
    "\n",
    "service = Service(executable_path=r\"C:\\Users\\bagomezv\\Documents\\GitHub\\scrapspi\\chromedriver-win64\\chromedriver.exe\") # Creación del servicio mediante el driver\n",
    "options = webdriver.ChromeOptions() # Definición de variable con las opciones para chrome\n",
    "driver = webdriver.Chrome(service=service, options=options) # Creación del objeto del WebDriver\n",
    "url=\"https://sts.dnp.gov.co/login.aspx?ReturnUrl=%2f%3fwa%3dwsignin1.0%26wtrealm%3dhttps%253a%252f%252fpiip.dnp.gov.co%252f%26wctx%3drm%253d0%2526id%253dpassive%2526ru%253d%25252f%26wct%3d2023-02-01T13%253a28%253a01Z&wa=wsignin1.0&wtrealm=https%3a%2f%2fpiip.dnp.gov.co%2f&wctx=rm%3d0%26id%3dpassive%26ru%3d%252f&wct=2023-02-01T13%3a28%3a01Z\"\n",
    "driver.get(url)"
   ]
  },
  {
   "cell_type": "code",
   "execution_count": 4,
   "id": "7e23f3f1",
   "metadata": {},
   "outputs": [],
   "source": [
    "divID=driver.find_element(\"xpath\",'//*[@id=\"loginBox\"]/div[1]/div[1]/div')\n",
    "divID.click()\n",
    "selectCed=driver.find_element(\"xpath\", '//*[@id=\"loginBox\"]/div[1]/div[1]/div/div[3]/div/ul/li[2]')\n",
    "selectCed.click()\n",
    "inputNumberID=driver.find_element(\"xpath\",'//*[@id=\"textDocumentNumber\"]')\n",
    "inputNumberID.send_keys(\"1019074235\")\n",
    "inputPass=driver.find_element(\"xpath\",'//*[@id=\"textPassword\"]')\n",
    "inputPass.send_keys(\"Ag2023*+\")\n",
    "buttonLogin=driver.find_element(\"xpath\",'//*[@id=\"btnLogin\"]')\n",
    "buttonLogin.click()"
   ]
  },
  {
   "cell_type": "code",
   "execution_count": null,
   "id": "04fe7e0b",
   "metadata": {},
   "outputs": [],
   "source": [
    "import requests\n",
    "\n",
    "response = requests.get('http://^')\n"
   ]
  }
 ],
 "metadata": {
  "kernelspec": {
   "display_name": "scrapspi",
   "language": "python",
   "name": "scrapspi"
  },
  "language_info": {
   "codemirror_mode": {
    "name": "ipython",
    "version": 3
   },
   "file_extension": ".py",
   "mimetype": "text/x-python",
   "name": "python",
   "nbconvert_exporter": "python",
   "pygments_lexer": "ipython3",
   "version": "3.11.4"
  }
 },
 "nbformat": 4,
 "nbformat_minor": 5
}
